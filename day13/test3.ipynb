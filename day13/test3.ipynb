{
 "cells": [
  {
   "cell_type": "code",
   "id": "initial_id",
   "metadata": {
    "collapsed": true,
    "ExecuteTime": {
     "end_time": "2025-01-08T11:36:01.239603Z",
     "start_time": "2025-01-08T11:36:00.392139Z"
    }
   },
   "source": [
    "# 练习重复值处理\n",
    "import pandas as pd\n",
    "import numpy as np"
   ],
   "outputs": [],
   "execution_count": 1
  },
  {
   "metadata": {
    "ExecuteTime": {
     "end_time": "2025-01-08T11:36:01.251760Z",
     "start_time": "2025-01-08T11:36:01.240612Z"
    }
   },
   "cell_type": "code",
   "source": [
    "num_obj = pd.DataFrame({'data1' : ['a'] * 5 + ['b'] * 5,\n",
    "                        'data2' : np.random.randint(0,5,10)})# 生成重复值随机数\n",
    "print(num_obj)"
   ],
   "id": "478b1a4c78ffab23",
   "outputs": [
    {
     "name": "stdout",
     "output_type": "stream",
     "text": [
      "  data1  data2\n",
      "0     a      3\n",
      "1     a      0\n",
      "2     a      3\n",
      "3     a      2\n",
      "4     a      4\n",
      "5     b      2\n",
      "6     b      4\n",
      "7     b      0\n",
      "8     b      4\n",
      "9     b      1\n"
     ]
    }
   ],
   "execution_count": 2
  },
  {
   "metadata": {
    "ExecuteTime": {
     "end_time": "2025-01-08T11:36:01.260942Z",
     "start_time": "2025-01-08T11:36:01.253167Z"
    }
   },
   "cell_type": "code",
   "source": "print(num_obj.duplicated())# 找出重复值",
   "id": "ebdc69aaf97de848",
   "outputs": [
    {
     "name": "stdout",
     "output_type": "stream",
     "text": [
      "0    False\n",
      "1    False\n",
      "2     True\n",
      "3    False\n",
      "4    False\n",
      "5    False\n",
      "6    False\n",
      "7    False\n",
      "8     True\n",
      "9    False\n",
      "dtype: bool\n"
     ]
    }
   ],
   "execution_count": 3
  },
  {
   "metadata": {
    "ExecuteTime": {
     "end_time": "2025-01-08T11:36:01.278676Z",
     "start_time": "2025-01-08T11:36:01.262044Z"
    }
   },
   "cell_type": "code",
   "source": "num_obj[~num_obj.duplicated()]# 取出不重复值",
   "id": "b45d7f5991a17c2a",
   "outputs": [
    {
     "data": {
      "text/plain": [
       "  data1  data2\n",
       "0     a      3\n",
       "1     a      0\n",
       "3     a      2\n",
       "4     a      4\n",
       "5     b      2\n",
       "6     b      4\n",
       "7     b      0\n",
       "9     b      1"
      ],
      "text/html": [
       "<div>\n",
       "<style scoped>\n",
       "    .dataframe tbody tr th:only-of-type {\n",
       "        vertical-align: middle;\n",
       "    }\n",
       "\n",
       "    .dataframe tbody tr th {\n",
       "        vertical-align: top;\n",
       "    }\n",
       "\n",
       "    .dataframe thead th {\n",
       "        text-align: right;\n",
       "    }\n",
       "</style>\n",
       "<table border=\"1\" class=\"dataframe\">\n",
       "  <thead>\n",
       "    <tr style=\"text-align: right;\">\n",
       "      <th></th>\n",
       "      <th>data1</th>\n",
       "      <th>data2</th>\n",
       "    </tr>\n",
       "  </thead>\n",
       "  <tbody>\n",
       "    <tr>\n",
       "      <th>0</th>\n",
       "      <td>a</td>\n",
       "      <td>3</td>\n",
       "    </tr>\n",
       "    <tr>\n",
       "      <th>1</th>\n",
       "      <td>a</td>\n",
       "      <td>0</td>\n",
       "    </tr>\n",
       "    <tr>\n",
       "      <th>3</th>\n",
       "      <td>a</td>\n",
       "      <td>2</td>\n",
       "    </tr>\n",
       "    <tr>\n",
       "      <th>4</th>\n",
       "      <td>a</td>\n",
       "      <td>4</td>\n",
       "    </tr>\n",
       "    <tr>\n",
       "      <th>5</th>\n",
       "      <td>b</td>\n",
       "      <td>2</td>\n",
       "    </tr>\n",
       "    <tr>\n",
       "      <th>6</th>\n",
       "      <td>b</td>\n",
       "      <td>4</td>\n",
       "    </tr>\n",
       "    <tr>\n",
       "      <th>7</th>\n",
       "      <td>b</td>\n",
       "      <td>0</td>\n",
       "    </tr>\n",
       "    <tr>\n",
       "      <th>9</th>\n",
       "      <td>b</td>\n",
       "      <td>1</td>\n",
       "    </tr>\n",
       "  </tbody>\n",
       "</table>\n",
       "</div>"
      ]
     },
     "execution_count": 4,
     "metadata": {},
     "output_type": "execute_result"
    }
   ],
   "execution_count": 4
  },
  {
   "metadata": {
    "ExecuteTime": {
     "end_time": "2025-01-08T11:36:01.285672Z",
     "start_time": "2025-01-08T11:36:01.280188Z"
    }
   },
   "cell_type": "code",
   "source": "print(num_obj.duplicated(('data2')))",
   "id": "69237d89d67129fc",
   "outputs": [
    {
     "name": "stdout",
     "output_type": "stream",
     "text": [
      "0    False\n",
      "1    False\n",
      "2     True\n",
      "3    False\n",
      "4    False\n",
      "5     True\n",
      "6     True\n",
      "7     True\n",
      "8     True\n",
      "9    False\n",
      "dtype: bool\n"
     ]
    }
   ],
   "execution_count": 5
  },
  {
   "metadata": {
    "ExecuteTime": {
     "end_time": "2025-01-08T11:36:01.299622Z",
     "start_time": "2025-01-08T11:36:01.286923Z"
    }
   },
   "cell_type": "code",
   "source": [
    "num_obj1 = pd.DataFrame({'data1' : [np.nan] * 5,\n",
    "                         'data2' : list('12346')})# 生成重复值随机数\n",
    "num_obj1"
   ],
   "id": "3c71ffc3f01b7625",
   "outputs": [
    {
     "data": {
      "text/plain": [
       "   data1 data2\n",
       "0    NaN     1\n",
       "1    NaN     2\n",
       "2    NaN     3\n",
       "3    NaN     4\n",
       "4    NaN     6"
      ],
      "text/html": [
       "<div>\n",
       "<style scoped>\n",
       "    .dataframe tbody tr th:only-of-type {\n",
       "        vertical-align: middle;\n",
       "    }\n",
       "\n",
       "    .dataframe tbody tr th {\n",
       "        vertical-align: top;\n",
       "    }\n",
       "\n",
       "    .dataframe thead th {\n",
       "        text-align: right;\n",
       "    }\n",
       "</style>\n",
       "<table border=\"1\" class=\"dataframe\">\n",
       "  <thead>\n",
       "    <tr style=\"text-align: right;\">\n",
       "      <th></th>\n",
       "      <th>data1</th>\n",
       "      <th>data2</th>\n",
       "    </tr>\n",
       "  </thead>\n",
       "  <tbody>\n",
       "    <tr>\n",
       "      <th>0</th>\n",
       "      <td>NaN</td>\n",
       "      <td>1</td>\n",
       "    </tr>\n",
       "    <tr>\n",
       "      <th>1</th>\n",
       "      <td>NaN</td>\n",
       "      <td>2</td>\n",
       "    </tr>\n",
       "    <tr>\n",
       "      <th>2</th>\n",
       "      <td>NaN</td>\n",
       "      <td>3</td>\n",
       "    </tr>\n",
       "    <tr>\n",
       "      <th>3</th>\n",
       "      <td>NaN</td>\n",
       "      <td>4</td>\n",
       "    </tr>\n",
       "    <tr>\n",
       "      <th>4</th>\n",
       "      <td>NaN</td>\n",
       "      <td>6</td>\n",
       "    </tr>\n",
       "  </tbody>\n",
       "</table>\n",
       "</div>"
      ]
     },
     "execution_count": 6,
     "metadata": {},
     "output_type": "execute_result"
    }
   ],
   "execution_count": 6
  },
  {
   "metadata": {
    "ExecuteTime": {
     "end_time": "2025-01-08T11:36:01.312079Z",
     "start_time": "2025-01-08T11:36:01.301143Z"
    }
   },
   "cell_type": "code",
   "source": "num_obj1.duplicated('data1')# 找出重复值",
   "id": "5c1fbc36f305147f",
   "outputs": [
    {
     "data": {
      "text/plain": [
       "0    False\n",
       "1     True\n",
       "2     True\n",
       "3     True\n",
       "4     True\n",
       "dtype: bool"
      ]
     },
     "execution_count": 7,
     "metadata": {},
     "output_type": "execute_result"
    }
   ],
   "execution_count": 7
  },
  {
   "metadata": {
    "ExecuteTime": {
     "end_time": "2025-01-08T11:36:01.318386Z",
     "start_time": "2025-01-08T11:36:01.313622Z"
    }
   },
   "cell_type": "code",
   "source": "print(num_obj1.drop_duplicates())# 删除重复值",
   "id": "68cb7c415c67c4c1",
   "outputs": [
    {
     "name": "stdout",
     "output_type": "stream",
     "text": [
      "   data1 data2\n",
      "0    NaN     1\n",
      "1    NaN     2\n",
      "2    NaN     3\n",
      "3    NaN     4\n",
      "4    NaN     6\n"
     ]
    }
   ],
   "execution_count": 8
  },
  {
   "metadata": {
    "ExecuteTime": {
     "end_time": "2025-01-08T11:36:01.326493Z",
     "start_time": "2025-01-08T11:36:01.320426Z"
    }
   },
   "cell_type": "code",
   "source": "num_obj",
   "id": "fceec346dca0803c",
   "outputs": [
    {
     "data": {
      "text/plain": [
       "  data1  data2\n",
       "0     a      3\n",
       "1     a      0\n",
       "2     a      3\n",
       "3     a      2\n",
       "4     a      4\n",
       "5     b      2\n",
       "6     b      4\n",
       "7     b      0\n",
       "8     b      4\n",
       "9     b      1"
      ],
      "text/html": [
       "<div>\n",
       "<style scoped>\n",
       "    .dataframe tbody tr th:only-of-type {\n",
       "        vertical-align: middle;\n",
       "    }\n",
       "\n",
       "    .dataframe tbody tr th {\n",
       "        vertical-align: top;\n",
       "    }\n",
       "\n",
       "    .dataframe thead th {\n",
       "        text-align: right;\n",
       "    }\n",
       "</style>\n",
       "<table border=\"1\" class=\"dataframe\">\n",
       "  <thead>\n",
       "    <tr style=\"text-align: right;\">\n",
       "      <th></th>\n",
       "      <th>data1</th>\n",
       "      <th>data2</th>\n",
       "    </tr>\n",
       "  </thead>\n",
       "  <tbody>\n",
       "    <tr>\n",
       "      <th>0</th>\n",
       "      <td>a</td>\n",
       "      <td>3</td>\n",
       "    </tr>\n",
       "    <tr>\n",
       "      <th>1</th>\n",
       "      <td>a</td>\n",
       "      <td>0</td>\n",
       "    </tr>\n",
       "    <tr>\n",
       "      <th>2</th>\n",
       "      <td>a</td>\n",
       "      <td>3</td>\n",
       "    </tr>\n",
       "    <tr>\n",
       "      <th>3</th>\n",
       "      <td>a</td>\n",
       "      <td>2</td>\n",
       "    </tr>\n",
       "    <tr>\n",
       "      <th>4</th>\n",
       "      <td>a</td>\n",
       "      <td>4</td>\n",
       "    </tr>\n",
       "    <tr>\n",
       "      <th>5</th>\n",
       "      <td>b</td>\n",
       "      <td>2</td>\n",
       "    </tr>\n",
       "    <tr>\n",
       "      <th>6</th>\n",
       "      <td>b</td>\n",
       "      <td>4</td>\n",
       "    </tr>\n",
       "    <tr>\n",
       "      <th>7</th>\n",
       "      <td>b</td>\n",
       "      <td>0</td>\n",
       "    </tr>\n",
       "    <tr>\n",
       "      <th>8</th>\n",
       "      <td>b</td>\n",
       "      <td>4</td>\n",
       "    </tr>\n",
       "    <tr>\n",
       "      <th>9</th>\n",
       "      <td>b</td>\n",
       "      <td>1</td>\n",
       "    </tr>\n",
       "  </tbody>\n",
       "</table>\n",
       "</div>"
      ]
     },
     "execution_count": 9,
     "metadata": {},
     "output_type": "execute_result"
    }
   ],
   "execution_count": 9
  },
  {
   "metadata": {
    "ExecuteTime": {
     "end_time": "2025-01-08T11:36:01.339100Z",
     "start_time": "2025-01-08T11:36:01.327955Z"
    }
   },
   "cell_type": "code",
   "source": [
    "ser_obj = pd.Series(np.random.randint(0,100,100))# 生成随机数\n",
    "print(ser_obj)\n",
    "print(ser_obj.map(lambda x : x ** 2))# 映射平方"
   ],
   "id": "3917f4ffa802b43",
   "outputs": [
    {
     "name": "stdout",
     "output_type": "stream",
     "text": [
      "0     75\n",
      "1     10\n",
      "2     23\n",
      "3      1\n",
      "4     60\n",
      "      ..\n",
      "95    79\n",
      "96    93\n",
      "97     1\n",
      "98    11\n",
      "99    70\n",
      "Length: 100, dtype: int32\n",
      "0     5625\n",
      "1      100\n",
      "2      529\n",
      "3        1\n",
      "4     3600\n",
      "      ... \n",
      "95    6241\n",
      "96    8649\n",
      "97       1\n",
      "98     121\n",
      "99    4900\n",
      "Length: 100, dtype: int64\n"
     ]
    }
   ],
   "execution_count": 10
  },
  {
   "metadata": {
    "ExecuteTime": {
     "end_time": "2025-01-08T11:36:01.349905Z",
     "start_time": "2025-01-08T11:36:01.340115Z"
    }
   },
   "cell_type": "code",
   "source": [
    "ser_obj=pd.Series(np.arange(10),index=range(5,15))#异常值手动替换\n",
    "print(ser_obj.replace(1, -100))# 单个值替换单个值\n",
    "print(ser_obj.replace(range(6,9), -100))# 多个值替换一个值\n",
    "print(ser_obj.replace([4, 8], [-100, -200]))# 多个值替换多个值"
   ],
   "id": "896264fab2a9b638",
   "outputs": [
    {
     "name": "stdout",
     "output_type": "stream",
     "text": [
      "5       0\n",
      "6    -100\n",
      "7       2\n",
      "8       3\n",
      "9       4\n",
      "10      5\n",
      "11      6\n",
      "12      7\n",
      "13      8\n",
      "14      9\n",
      "dtype: int64\n",
      "5       0\n",
      "6       1\n",
      "7       2\n",
      "8       3\n",
      "9       4\n",
      "10      5\n",
      "11   -100\n",
      "12   -100\n",
      "13   -100\n",
      "14      9\n",
      "dtype: int64\n",
      "5       0\n",
      "6       1\n",
      "7       2\n",
      "8       3\n",
      "9    -100\n",
      "10      5\n",
      "11      6\n",
      "12      7\n",
      "13   -200\n",
      "14      9\n",
      "dtype: int64\n"
     ]
    }
   ],
   "execution_count": 11
  },
  {
   "metadata": {
    "ExecuteTime": {
     "end_time": "2025-01-08T11:36:01.356626Z",
     "start_time": "2025-01-08T11:36:01.352128Z"
    }
   },
   "cell_type": "code",
   "source": [
    "dict = pd.DataFrame({'A' : [0,1,2,3,4,5],\n",
    "                     'B' : [6,7,8,9,10,11],\n",
    "                     'C' : ['a','b','c','abc','d','e']})# 生成重复值随机数"
   ],
   "id": "ed267f6c4c4e12a4",
   "outputs": [],
   "execution_count": 12
  },
  {
   "metadata": {
    "ExecuteTime": {
     "end_time": "2025-01-08T11:36:01.364341Z",
     "start_time": "2025-01-08T11:36:01.357646Z"
    }
   },
   "cell_type": "code",
   "source": "dict",
   "id": "450f3184417e5492",
   "outputs": [
    {
     "data": {
      "text/plain": [
       "   A   B    C\n",
       "0  0   6    a\n",
       "1  1   7    b\n",
       "2  2   8    c\n",
       "3  3   9  abc\n",
       "4  4  10    d\n",
       "5  5  11    e"
      ],
      "text/html": [
       "<div>\n",
       "<style scoped>\n",
       "    .dataframe tbody tr th:only-of-type {\n",
       "        vertical-align: middle;\n",
       "    }\n",
       "\n",
       "    .dataframe tbody tr th {\n",
       "        vertical-align: top;\n",
       "    }\n",
       "\n",
       "    .dataframe thead th {\n",
       "        text-align: right;\n",
       "    }\n",
       "</style>\n",
       "<table border=\"1\" class=\"dataframe\">\n",
       "  <thead>\n",
       "    <tr style=\"text-align: right;\">\n",
       "      <th></th>\n",
       "      <th>A</th>\n",
       "      <th>B</th>\n",
       "      <th>C</th>\n",
       "    </tr>\n",
       "  </thead>\n",
       "  <tbody>\n",
       "    <tr>\n",
       "      <th>0</th>\n",
       "      <td>0</td>\n",
       "      <td>6</td>\n",
       "      <td>a</td>\n",
       "    </tr>\n",
       "    <tr>\n",
       "      <th>1</th>\n",
       "      <td>1</td>\n",
       "      <td>7</td>\n",
       "      <td>b</td>\n",
       "    </tr>\n",
       "    <tr>\n",
       "      <th>2</th>\n",
       "      <td>2</td>\n",
       "      <td>8</td>\n",
       "      <td>c</td>\n",
       "    </tr>\n",
       "    <tr>\n",
       "      <th>3</th>\n",
       "      <td>3</td>\n",
       "      <td>9</td>\n",
       "      <td>abc</td>\n",
       "    </tr>\n",
       "    <tr>\n",
       "      <th>4</th>\n",
       "      <td>4</td>\n",
       "      <td>10</td>\n",
       "      <td>d</td>\n",
       "    </tr>\n",
       "    <tr>\n",
       "      <th>5</th>\n",
       "      <td>5</td>\n",
       "      <td>11</td>\n",
       "      <td>e</td>\n",
       "    </tr>\n",
       "  </tbody>\n",
       "</table>\n",
       "</div>"
      ]
     },
     "execution_count": 13,
     "metadata": {},
     "output_type": "execute_result"
    }
   ],
   "execution_count": 13
  },
  {
   "metadata": {
    "ExecuteTime": {
     "end_time": "2025-01-08T11:36:01.377089Z",
     "start_time": "2025-01-08T11:36:01.368270Z"
    }
   },
   "cell_type": "code",
   "source": "dict.replace(to_replace = r'^a',value=66,regex=True)# 正则表达式替换",
   "id": "aabd690bab9c5c7a",
   "outputs": [
    {
     "data": {
      "text/plain": [
       "   A   B   C\n",
       "0  0   6  66\n",
       "1  1   7   b\n",
       "2  2   8   c\n",
       "3  3   9  66\n",
       "4  4  10   d\n",
       "5  5  11   e"
      ],
      "text/html": [
       "<div>\n",
       "<style scoped>\n",
       "    .dataframe tbody tr th:only-of-type {\n",
       "        vertical-align: middle;\n",
       "    }\n",
       "\n",
       "    .dataframe tbody tr th {\n",
       "        vertical-align: top;\n",
       "    }\n",
       "\n",
       "    .dataframe thead th {\n",
       "        text-align: right;\n",
       "    }\n",
       "</style>\n",
       "<table border=\"1\" class=\"dataframe\">\n",
       "  <thead>\n",
       "    <tr style=\"text-align: right;\">\n",
       "      <th></th>\n",
       "      <th>A</th>\n",
       "      <th>B</th>\n",
       "      <th>C</th>\n",
       "    </tr>\n",
       "  </thead>\n",
       "  <tbody>\n",
       "    <tr>\n",
       "      <th>0</th>\n",
       "      <td>0</td>\n",
       "      <td>6</td>\n",
       "      <td>66</td>\n",
       "    </tr>\n",
       "    <tr>\n",
       "      <th>1</th>\n",
       "      <td>1</td>\n",
       "      <td>7</td>\n",
       "      <td>b</td>\n",
       "    </tr>\n",
       "    <tr>\n",
       "      <th>2</th>\n",
       "      <td>2</td>\n",
       "      <td>8</td>\n",
       "      <td>c</td>\n",
       "    </tr>\n",
       "    <tr>\n",
       "      <th>3</th>\n",
       "      <td>3</td>\n",
       "      <td>9</td>\n",
       "      <td>66</td>\n",
       "    </tr>\n",
       "    <tr>\n",
       "      <th>4</th>\n",
       "      <td>4</td>\n",
       "      <td>10</td>\n",
       "      <td>d</td>\n",
       "    </tr>\n",
       "    <tr>\n",
       "      <th>5</th>\n",
       "      <td>5</td>\n",
       "      <td>11</td>\n",
       "      <td>e</td>\n",
       "    </tr>\n",
       "  </tbody>\n",
       "</table>\n",
       "</div>"
      ]
     },
     "execution_count": 14,
     "metadata": {},
     "output_type": "execute_result"
    }
   ],
   "execution_count": 14
  },
  {
   "metadata": {
    "ExecuteTime": {
     "end_time": "2025-01-08T11:36:32.149377Z",
     "start_time": "2025-01-08T11:36:32.140372Z"
    }
   },
   "cell_type": "code",
   "source": "dict.dtypes# 查看数据类型",
   "id": "d1c403d0c8e0b28b",
   "outputs": [
    {
     "data": {
      "text/plain": [
       "A     int64\n",
       "B     int64\n",
       "C    object\n",
       "dtype: object"
      ]
     },
     "execution_count": 15,
     "metadata": {},
     "output_type": "execute_result"
    }
   ],
   "execution_count": 15
  }
 ],
 "metadata": {
  "kernelspec": {
   "display_name": "Python 3",
   "language": "python",
   "name": "python3"
  },
  "language_info": {
   "codemirror_mode": {
    "name": "ipython",
    "version": 2
   },
   "file_extension": ".py",
   "mimetype": "text/x-python",
   "name": "python",
   "nbconvert_exporter": "python",
   "pygments_lexer": "ipython2",
   "version": "2.7.6"
  }
 },
 "nbformat": 4,
 "nbformat_minor": 5
}
