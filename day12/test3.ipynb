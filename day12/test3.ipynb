{
 "cells": [
  {
   "metadata": {
    "ExecuteTime": {
     "end_time": "2025-01-07T11:47:23.181197Z",
     "start_time": "2025-01-07T11:47:22.412145Z"
    }
   },
   "cell_type": "code",
   "source": [
    "# 练习series和df的索引操作,函数应用\n",
    "import pandas as pd\n",
    "num = pd.Series(range(10,30))#创建一个序列生成10-29的数字\n",
    "print(num)"
   ],
   "id": "488335691eae32a3",
   "outputs": [
    {
     "name": "stdout",
     "output_type": "stream",
     "text": [
      "0     10\n",
      "1     11\n",
      "2     12\n",
      "3     13\n",
      "4     14\n",
      "5     15\n",
      "6     16\n",
      "7     17\n",
      "8     18\n",
      "9     19\n",
      "10    20\n",
      "11    21\n",
      "12    22\n",
      "13    23\n",
      "14    24\n",
      "15    25\n",
      "16    26\n",
      "17    27\n",
      "18    28\n",
      "19    29\n",
      "dtype: int64\n"
     ]
    }
   ],
   "execution_count": 1
  },
  {
   "metadata": {
    "ExecuteTime": {
     "end_time": "2025-01-07T11:49:04.405917Z",
     "start_time": "2025-01-07T11:49:04.398397Z"
    }
   },
   "cell_type": "code",
   "source": [
    "print(num.values)#查看序列的值和类型\n",
    "print(type(num.values))\n",
    "print(num.index)#查看序列的索引\n",
    "num.dtype#查看序列的数据类型"
   ],
   "id": "739f1ebbe7a1f485",
   "outputs": [
    {
     "name": "stdout",
     "output_type": "stream",
     "text": [
      "[10 11 12 13 14 15 16 17 18 19 20 21 22 23 24 25 26 27 28 29]\n",
      "<class 'numpy.ndarray'>\n",
      "RangeIndex(start=0, stop=20, step=1)\n"
     ]
    },
    {
     "data": {
      "text/plain": [
       "dtype('int64')"
      ]
     },
     "execution_count": 2,
     "metadata": {},
     "output_type": "execute_result"
    }
   ],
   "execution_count": 2
  },
  {
   "metadata": {
    "ExecuteTime": {
     "end_time": "2025-01-07T11:50:53.053655Z",
     "start_time": "2025-01-07T11:50:53.047461Z"
    }
   },
   "cell_type": "code",
   "source": [
    "print(num[0])#查看序列的第0个元素\n",
    "num[7]#查看序列的第7个元素"
   ],
   "id": "c724f0b8921974aa",
   "outputs": [
    {
     "name": "stdout",
     "output_type": "stream",
     "text": [
      "10\n"
     ]
    },
    {
     "data": {
      "text/plain": [
       "np.int64(17)"
      ]
     },
     "execution_count": 4,
     "metadata": {},
     "output_type": "execute_result"
    }
   ],
   "execution_count": 4
  },
  {
   "metadata": {
    "ExecuteTime": {
     "end_time": "2025-01-07T11:52:33.493691Z",
     "start_time": "2025-01-07T11:52:33.483149Z"
    }
   },
   "cell_type": "code",
   "source": [
    "print(num*2)#序列的每个元素乘以2\n",
    "print(num > 17)#序列的每个元素与17比较"
   ],
   "id": "19309ca52a0d8f80",
   "outputs": [
    {
     "name": "stdout",
     "output_type": "stream",
     "text": [
      "0     20\n",
      "1     22\n",
      "2     24\n",
      "3     26\n",
      "4     28\n",
      "5     30\n",
      "6     32\n",
      "7     34\n",
      "8     36\n",
      "9     38\n",
      "10    40\n",
      "11    42\n",
      "12    44\n",
      "13    46\n",
      "14    48\n",
      "15    50\n",
      "16    52\n",
      "17    54\n",
      "18    56\n",
      "19    58\n",
      "dtype: int64\n",
      "0     False\n",
      "1     False\n",
      "2     False\n",
      "3     False\n",
      "4     False\n",
      "5     False\n",
      "6     False\n",
      "7     False\n",
      "8      True\n",
      "9      True\n",
      "10     True\n",
      "11     True\n",
      "12     True\n",
      "13     True\n",
      "14     True\n",
      "15     True\n",
      "16     True\n",
      "17     True\n",
      "18     True\n",
      "19     True\n",
      "dtype: bool\n"
     ]
    }
   ],
   "execution_count": 5
  },
  {
   "metadata": {
    "ExecuteTime": {
     "end_time": "2025-01-07T11:56:41.519165Z",
     "start_time": "2025-01-07T11:56:41.512699Z"
    }
   },
   "cell_type": "code",
   "source": [
    "num = {2000:14.5,2001:15.5,2002:16.5}#创建一个字典\n",
    "data = pd.Series(num)#将字典转换为序列\n",
    "print(data)\n",
    "print(data.index)#查看序列的索引\n",
    "print(data[2002])#查看序列的第2002个元素\n",
    "num.values#查看序列的值"
   ],
   "id": "d4d9caedaa390cb7",
   "outputs": [
    {
     "name": "stdout",
     "output_type": "stream",
     "text": [
      "2000    14.5\n",
      "2001    15.5\n",
      "2002    16.5\n",
      "dtype: float64\n",
      "Index([2000, 2001, 2002], dtype='int64')\n",
      "16.5\n"
     ]
    },
    {
     "data": {
      "text/plain": [
       "<function dict.values>"
      ]
     },
     "execution_count": 7,
     "metadata": {},
     "output_type": "execute_result"
    }
   ],
   "execution_count": 7
  },
  {
   "metadata": {
    "ExecuteTime": {
     "end_time": "2025-01-07T11:58:57.126625Z",
     "start_time": "2025-01-07T11:58:57.122247Z"
    }
   },
   "cell_type": "code",
   "source": [
    "print(data.name)#查看序列的名称\n",
    "print(data.index.name)#查看序列的索引名称\n",
    "data.name = 'population'#给序列命名\n",
    "data.index.name = 'year'#给序列的索引命名\n",
    "print(data.head())#查看序列的前5个元素"
   ],
   "id": "e932c7ec134d4cbd",
   "outputs": [
    {
     "name": "stdout",
     "output_type": "stream",
     "text": [
      "None\n",
      "None\n",
      "year\n",
      "2000    14.5\n",
      "2001    15.5\n",
      "2002    16.5\n",
      "Name: population, dtype: float64\n"
     ]
    }
   ],
   "execution_count": 8
  },
  {
   "metadata": {
    "ExecuteTime": {
     "end_time": "2025-01-07T12:01:50.347648Z",
     "start_time": "2025-01-07T12:01:50.338151Z"
    }
   },
   "cell_type": "code",
   "source": [
    "import numpy as np\n",
    "num = pd.DataFrame(np.arange(15).reshape(3,5))#创建一个3行5列的DataFrame\n",
    "print(num)"
   ],
   "id": "3abbd2c0b10fc667",
   "outputs": [
    {
     "name": "stdout",
     "output_type": "stream",
     "text": [
      "    0   1   2   3   4\n",
      "0   0   1   2   3   4\n",
      "1   5   6   7   8   9\n",
      "2  10  11  12  13  14\n"
     ]
    }
   ],
   "execution_count": 9
  },
  {
   "metadata": {
    "ExecuteTime": {
     "end_time": "2025-01-07T12:04:08.054406Z",
     "start_time": "2025-01-07T12:04:08.047114Z"
    }
   },
   "cell_type": "code",
   "source": [
    "data = np.random.randn(10,5)#创建一个10行5列的随机数DataFrame\n",
    "print(data)\n",
    "data_list = pd.DataFrame(data)#将随机数转换为DataFrame\n",
    "print(data_list.head())#查看DataFrame的前5行"
   ],
   "id": "efc0be70a300fb0",
   "outputs": [
    {
     "name": "stdout",
     "output_type": "stream",
     "text": [
      "[[ 0.31633401 -0.88667532  2.53595618  1.58108028  1.05935102]\n",
      " [ 0.23493809 -2.14259188 -0.49347555  1.08322585 -0.71097012]\n",
      " [ 1.30455509 -0.84259469 -0.37880974 -0.31854748  0.61127389]\n",
      " [ 0.36306514  0.11401487  0.75793465  0.08944562  0.68431558]\n",
      " [ 0.21356966 -1.85385518 -1.32046709 -1.89119829 -2.5131772 ]\n",
      " [ 0.72596016 -0.13168124 -1.13618686 -0.84185243  0.44944333]\n",
      " [-1.36689432 -0.12366957  1.05103072 -0.72544303 -1.06876278]\n",
      " [ 0.86186116  0.84424709  0.05880929 -0.37677644  1.04742429]\n",
      " [-1.81552657  0.22973303 -0.16796522  0.75136919  1.38021485]\n",
      " [-0.7291807   0.23826798  0.24675477  1.66953478 -0.83594128]]\n",
      "          0         1         2         3         4\n",
      "0  0.316334 -0.886675  2.535956  1.581080  1.059351\n",
      "1  0.234938 -2.142592 -0.493476  1.083226 -0.710970\n",
      "2  1.304555 -0.842595 -0.378810 -0.318547  0.611274\n",
      "3  0.363065  0.114015  0.757935  0.089446  0.684316\n",
      "4  0.213570 -1.853855 -1.320467 -1.891198 -2.513177\n"
     ]
    }
   ],
   "execution_count": 11
  },
  {
   "metadata": {
    "ExecuteTime": {
     "end_time": "2025-01-07T12:04:52.029634Z",
     "start_time": "2025-01-07T12:04:52.023986Z"
    }
   },
   "cell_type": "code",
   "source": "num.loc[2]#查看DataFrame的第2行",
   "id": "fcbec3530ccc28f5",
   "outputs": [
    {
     "data": {
      "text/plain": [
       "0    10\n",
       "1    11\n",
       "2    12\n",
       "3    13\n",
       "4    14\n",
       "Name: 2, dtype: int64"
      ]
     },
     "execution_count": 12,
     "metadata": {},
     "output_type": "execute_result"
    }
   ],
   "execution_count": 12
  },
  {
   "metadata": {
    "ExecuteTime": {
     "end_time": "2025-01-07T12:12:21.980068Z",
     "start_time": "2025-01-07T12:12:21.971174Z"
    }
   },
   "cell_type": "code",
   "source": [
    "dict = [{\"name\":\"zhangsan\",\"age\":20,\"tel\":123456},\n",
    "        {\"name\":\"lisi\",\"age\":30,\"tel\":123456},\n",
    "        {\"name\":\"wangwu\",\"age\":40,\"tel\":123456}]#创建一个字典列表\n",
    "dict1 = pd.DataFrame(dict)#将字典列表转换为DataFrame\n",
    "print(dict1)#查看DataFrame\n",
    "print(type(dict1.values))#查看DataFrame的值"
   ],
   "id": "7bf3099917d49465",
   "outputs": [
    {
     "name": "stdout",
     "output_type": "stream",
     "text": [
      "       name  age     tel\n",
      "0  zhangsan   20  123456\n",
      "1      lisi   30  123456\n",
      "2    wangwu   40  123456\n",
      "<class 'numpy.ndarray'>\n"
     ]
    }
   ],
   "execution_count": 13
  },
  {
   "metadata": {
    "ExecuteTime": {
     "end_time": "2025-01-07T13:57:07.038652Z",
     "start_time": "2025-01-07T13:57:07.023575Z"
    }
   },
   "cell_type": "code",
   "source": [
    "dict_data = {'A':1,\n",
    "             'B': pd.Timestamp('20190926'),\n",
    "             'C': pd.Series(1, index=list(range(4)),dtype='float32'),\n",
    "             'D': np.array([1,2,3,4],dtype='int32'),\n",
    "             'E': [\"Python\",\"Java\",\"C++\",\"C\"],\n",
    "             'F': 'wangdao' }#创建一个字典\n",
    "data_dict = pd.DataFrame(dict_data)#将字典转换为DataFramepr\n",
    "print(data_dict)#查看DataFrame"
   ],
   "id": "74229e79888385c5",
   "outputs": [
    {
     "name": "stdout",
     "output_type": "stream",
     "text": [
      "   A          B    C  D       E        F\n",
      "0  1 2019-09-26  1.0  1  Python  wangdao\n",
      "1  1 2019-09-26  1.0  2    Java  wangdao\n",
      "2  1 2019-09-26  1.0  3     C++  wangdao\n",
      "3  1 2019-09-26  1.0  4       C  wangdao\n"
     ]
    }
   ],
   "execution_count": 14
  },
  {
   "metadata": {
    "ExecuteTime": {
     "end_time": "2025-01-07T13:59:06.183474Z",
     "start_time": "2025-01-07T13:59:06.174763Z"
    }
   },
   "cell_type": "code",
   "source": [
    "print(data_dict.index)#查看DataFrame的索引\n",
    "print(data_dict.columns)#查看DataFrame的列名\n",
    "data_dict.dtypes#查看DataFrame的数据类型\n"
   ],
   "id": "79ae4911fd85c269",
   "outputs": [
    {
     "name": "stdout",
     "output_type": "stream",
     "text": [
      "Index([0, 1, 2, 3], dtype='int64')\n",
      "Index(['A', 'B', 'C', 'D', 'E', 'F'], dtype='object')\n"
     ]
    },
    {
     "data": {
      "text/plain": [
       "A            int64\n",
       "B    datetime64[s]\n",
       "C          float32\n",
       "D            int32\n",
       "E           object\n",
       "F           object\n",
       "dtype: object"
      ]
     },
     "execution_count": 15,
     "metadata": {},
     "output_type": "execute_result"
    }
   ],
   "execution_count": 15
  },
  {
   "metadata": {
    "ExecuteTime": {
     "end_time": "2025-01-07T14:02:10.544031Z",
     "start_time": "2025-01-07T14:02:10.535341Z"
    }
   },
   "cell_type": "code",
   "source": [
    "print(data_dict)#查看DataFrame\n",
    "print(type(data_dict))#查看DataFrame的类型\n",
    "print(data_dict['C'])#查看DataFrame的C列]\n",
    "print(type(data_dict['C']))#查看C列的类型"
   ],
   "id": "9477444f5a0face3",
   "outputs": [
    {
     "name": "stdout",
     "output_type": "stream",
     "text": [
      "   A          B    C  D       E        F\n",
      "0  1 2019-09-26  1.0  1  Python  wangdao\n",
      "1  1 2019-09-26  1.0  2    Java  wangdao\n",
      "2  1 2019-09-26  1.0  3     C++  wangdao\n",
      "3  1 2019-09-26  1.0  4       C  wangdao\n",
      "<class 'pandas.core.frame.DataFrame'>\n",
      "0    1.0\n",
      "1    1.0\n",
      "2    1.0\n",
      "3    1.0\n",
      "Name: C, dtype: float32\n",
      "<class 'pandas.core.series.Series'>\n"
     ]
    }
   ],
   "execution_count": 16
  },
  {
   "metadata": {
    "ExecuteTime": {
     "end_time": "2025-01-07T14:03:26.202204Z",
     "start_time": "2025-01-07T14:03:26.193348Z"
    }
   },
   "cell_type": "code",
   "source": [
    "del(data_dict['C'])#删除DataFrame的C列\n",
    "print(data_dict.head())#查看DataFrame的前5行"
   ],
   "id": "44d3620d42729e5d",
   "outputs": [
    {
     "name": "stdout",
     "output_type": "stream",
     "text": [
      "   A          B  D       E        F\n",
      "0  1 2019-09-26  1  Python  wangdao\n",
      "1  1 2019-09-26  2    Java  wangdao\n",
      "2  1 2019-09-26  3     C++  wangdao\n",
      "3  1 2019-09-26  4       C  wangdao\n"
     ]
    }
   ],
   "execution_count": 17
  }
 ],
 "metadata": {
  "kernelspec": {
   "display_name": "Python 3",
   "language": "python",
   "name": "python3"
  },
  "language_info": {
   "codemirror_mode": {
    "name": "ipython",
    "version": 2
   },
   "file_extension": ".py",
   "mimetype": "text/x-python",
   "name": "python",
   "nbconvert_exporter": "python",
   "pygments_lexer": "ipython2",
   "version": "2.7.6"
  }
 },
 "nbformat": 4,
 "nbformat_minor": 5
}
