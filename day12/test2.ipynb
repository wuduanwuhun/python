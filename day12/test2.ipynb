{
 "cells": [
  {
   "metadata": {
    "ExecuteTime": {
     "end_time": "2025-01-07T11:38:57.247983Z",
     "start_time": "2025-01-07T11:38:57.241668Z"
    }
   },
   "cell_type": "code",
   "source": [
    "# np二维数组转置练习，轴滚动练习\n",
    "import numpy as np\n",
    "num = np.arange(24).reshape(4,6)# 生成一个4行6列的二维数组\n",
    "print(\"原数组：\")\n",
    "print(num)\n",
    "print(\"对换数组：\")\n",
    "print(np.transpose(num))# 转置\n",
    "print(\"转置数组：\")\n",
    "print(num.T)# 轴滚动"
   ],
   "id": "94eb629a3832f9b7",
   "outputs": [
    {
     "name": "stdout",
     "output_type": "stream",
     "text": [
      "原数组：\n",
      "[[ 0  1  2  3  4  5]\n",
      " [ 6  7  8  9 10 11]\n",
      " [12 13 14 15 16 17]\n",
      " [18 19 20 21 22 23]]\n",
      "对换数组：\n",
      "[[ 0  6 12 18]\n",
      " [ 1  7 13 19]\n",
      " [ 2  8 14 20]\n",
      " [ 3  9 15 21]\n",
      " [ 4 10 16 22]\n",
      " [ 5 11 17 23]]\n",
      "转置数组：\n",
      "[[ 0  6 12 18]\n",
      " [ 1  7 13 19]\n",
      " [ 2  8 14 20]\n",
      " [ 3  9 15 21]\n",
      " [ 4 10 16 22]\n",
      " [ 5 11 17 23]]\n"
     ]
    }
   ],
   "execution_count": 2
  },
  {
   "metadata": {
    "ExecuteTime": {
     "end_time": "2025-01-07T11:41:16.256547Z",
     "start_time": "2025-01-07T11:41:16.252050Z"
    }
   },
   "cell_type": "code",
   "source": [
    "num = np.arange(24).reshape(4,6)\n",
    "re = num.swapaxes(0,1)#交换数组的两个轴\n",
    "print(\"原数组：\")\n",
    "print(num)\n",
    "print(\"调用swapaxes函数交换数组的两个轴：\")\n",
    "print(re)"
   ],
   "id": "6842e1ad3189665c",
   "outputs": [
    {
     "name": "stdout",
     "output_type": "stream",
     "text": [
      "原数组：\n",
      "[[ 0  1  2  3  4  5]\n",
      " [ 6  7  8  9 10 11]\n",
      " [12 13 14 15 16 17]\n",
      " [18 19 20 21 22 23]]\n",
      "调用swapaxes函数交换数组的两个轴：\n",
      "[[ 0  6 12 18]\n",
      " [ 1  7 13 19]\n",
      " [ 2  8 14 20]\n",
      " [ 3  9 15 21]\n",
      " [ 4 10 16 22]\n",
      " [ 5 11 17 23]]\n"
     ]
    }
   ],
   "execution_count": 3
  }
 ],
 "metadata": {
  "kernelspec": {
   "display_name": "Python 3",
   "language": "python",
   "name": "python3"
  },
  "language_info": {
   "codemirror_mode": {
    "name": "ipython",
    "version": 2
   },
   "file_extension": ".py",
   "mimetype": "text/x-python",
   "name": "python",
   "nbconvert_exporter": "python",
   "pygments_lexer": "ipython2",
   "version": "2.7.6"
  }
 },
 "nbformat": 4,
 "nbformat_minor": 5
}
