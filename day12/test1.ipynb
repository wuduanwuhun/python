{
 "cells": [
  {
   "cell_type": "code",
   "id": "initial_id",
   "metadata": {
    "collapsed": true,
    "ExecuteTime": {
     "end_time": "2025-01-07T11:08:15.469410Z",
     "start_time": "2025-01-07T11:08:15.311720Z"
    }
   },
   "source": [
    "# 完成nan和inf的使用，掌握数组中nan值去除，替换为对应列的平均值\n",
    "import numpy as np\n",
    "num1 = np.nan#nan是浮点数，表示缺失值\n",
    "num2 = np.inf#无穷大，表示无穷大的数\n",
    "print(num1,type(num1))\n",
    "print(num2,type(num2))"
   ],
   "outputs": [
    {
     "name": "stdout",
     "output_type": "stream",
     "text": [
      "nan <class 'float'>\n",
      "inf <class 'float'>\n"
     ]
    }
   ],
   "execution_count": 1
  },
  {
   "metadata": {
    "ExecuteTime": {
     "end_time": "2025-01-07T11:14:17.533431Z",
     "start_time": "2025-01-07T11:14:17.526467Z"
    }
   },
   "cell_type": "code",
   "source": [
    "t = np.arange(24,dtype=float).reshape(4,6)#生成一个4行6列的数组\n",
    "t[2,4] = np.nan#将第3行第5列设置为nan\n",
    "print(np.count_nonzero(t))#统计非零元素个数\n",
    "print(np.count_nonzero(t != t))#统计nan元素个数"
   ],
   "id": "ae154608b0ba5cbb",
   "outputs": [
    {
     "name": "stdout",
     "output_type": "stream",
     "text": [
      "23\n",
      "1\n"
     ]
    }
   ],
   "execution_count": 2
  },
  {
   "metadata": {
    "ExecuteTime": {
     "end_time": "2025-01-07T11:15:53.536209Z",
     "start_time": "2025-01-07T11:15:53.531462Z"
    }
   },
   "cell_type": "code",
   "source": [
    "t [np.isnan(t)] = 0#将所有nan替换为0\n",
    "print(t)"
   ],
   "id": "e0ba70b4b3de8ba4",
   "outputs": [
    {
     "name": "stdout",
     "output_type": "stream",
     "text": [
      "[[ 0.  1.  2.  3.  4.  5.]\n",
      " [ 6.  7.  8.  9. 10. 11.]\n",
      " [12. 13. 14. 15.  0. 17.]\n",
      " [18. 19. 20. 21. 22. 23.]]\n"
     ]
    }
   ],
   "execution_count": 3
  },
  {
   "metadata": {
    "ExecuteTime": {
     "end_time": "2025-01-07T11:18:55.993215Z",
     "start_time": "2025-01-07T11:18:55.988201Z"
    }
   },
   "cell_type": "code",
   "source": [
    "t = np.arange((28)).reshape(4,7).astype('float')#生成一个4行7列的数组\n",
    "t[2,2:] = np.nan#将第3行第3列到第6列设置为nan\n",
    "print(t)"
   ],
   "id": "7819f5c85ee0b803",
   "outputs": [
    {
     "name": "stdout",
     "output_type": "stream",
     "text": [
      "[[ 0.  1.  2.  3.  4.  5.  6.]\n",
      " [ 7.  8.  9. 10. 11. 12. 13.]\n",
      " [14. 15. nan nan nan nan nan]\n",
      " [21. 22. 23. 24. 25. 26. 27.]]\n"
     ]
    }
   ],
   "execution_count": 4
  },
  {
   "metadata": {
    "ExecuteTime": {
     "end_time": "2025-01-07T11:25:27.679348Z",
     "start_time": "2025-01-07T11:25:27.673005Z"
    }
   },
   "cell_type": "code",
   "source": [
    "for i in range(t.shape[1]):#遍历每一列\n",
    "    temp = t[:,i]#取出当前列\n",
    "    nan_num = np.count_nonzero((temp != temp))#统计当前列的nan个数\n",
    "    if nan_num != 0:\n",
    "        temp_not_nan = temp[temp == temp]\n",
    "        temp[np.isnan(temp)] = np.mean(temp_not_nan)#将当前列的nan替换为非零元素的平均值\n",
    "print(t)"
   ],
   "id": "745bd41f0141535d",
   "outputs": [
    {
     "name": "stdout",
     "output_type": "stream",
     "text": [
      "[[ 0.          1.          2.          3.          4.          5.\n",
      "   6.        ]\n",
      " [ 7.          8.          9.         10.         11.         12.\n",
      "  13.        ]\n",
      " [14.         15.         11.33333333 12.33333333 13.33333333 14.33333333\n",
      "  15.33333333]\n",
      " [21.         22.         23.         24.         25.         26.\n",
      "  27.        ]]\n"
     ]
    }
   ],
   "execution_count": 5
  },
  {
   "metadata": {},
   "cell_type": "code",
   "outputs": [],
   "execution_count": null,
   "source": "",
   "id": "57d448a66f7563f8"
  }
 ],
 "metadata": {
  "kernelspec": {
   "display_name": "Python 3",
   "language": "python",
   "name": "python3"
  },
  "language_info": {
   "codemirror_mode": {
    "name": "ipython",
    "version": 2
   },
   "file_extension": ".py",
   "mimetype": "text/x-python",
   "name": "python",
   "nbconvert_exporter": "python",
   "pygments_lexer": "ipython2",
   "version": "2.7.6"
  }
 },
 "nbformat": 4,
 "nbformat_minor": 5
}
