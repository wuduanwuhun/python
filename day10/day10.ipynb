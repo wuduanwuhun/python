{
 "cells": [
  {
   "cell_type": "code",
   "id": "initial_id",
   "metadata": {
    "collapsed": true,
    "ExecuteTime": {
     "end_time": "2025-01-04T06:30:55.134832Z",
     "start_time": "2025-01-04T06:30:55.131348Z"
    }
   },
   "source": "b = 4",
   "outputs": [],
   "execution_count": 3
  },
  {
   "metadata": {
    "ExecuteTime": {
     "end_time": "2025-01-04T06:29:15.684415Z",
     "start_time": "2025-01-04T06:29:15.677091Z"
    }
   },
   "cell_type": "code",
   "source": "b",
   "id": "6899deb452b0df55",
   "outputs": [
    {
     "data": {
      "text/plain": [
       "5"
      ]
     },
     "execution_count": 2,
     "metadata": {},
     "output_type": "execute_result"
    }
   ],
   "execution_count": 2
  },
  {
   "metadata": {
    "ExecuteTime": {
     "end_time": "2025-01-04T06:30:58.168875Z",
     "start_time": "2025-01-04T06:30:58.163966Z"
    }
   },
   "cell_type": "code",
   "source": "a = 10",
   "id": "dfcd80ae5d5e99a2",
   "outputs": [],
   "execution_count": 4
  },
  {
   "metadata": {
    "ExecuteTime": {
     "end_time": "2025-01-04T06:31:18.107599Z",
     "start_time": "2025-01-04T06:31:18.101578Z"
    }
   },
   "cell_type": "code",
   "source": "a+=5",
   "id": "8f70febddd5962a",
   "outputs": [],
   "execution_count": 5
  },
  {
   "metadata": {
    "ExecuteTime": {
     "end_time": "2025-01-04T06:31:30.654201Z",
     "start_time": "2025-01-04T06:31:30.648670Z"
    }
   },
   "cell_type": "code",
   "source": "a",
   "id": "1e2f8d99fc8aadb7",
   "outputs": [
    {
     "data": {
      "text/plain": [
       "15"
      ]
     },
     "execution_count": 7,
     "metadata": {},
     "output_type": "execute_result"
    }
   ],
   "execution_count": 7
  },
  {
   "metadata": {
    "ExecuteTime": {
     "end_time": "2025-01-04T06:33:10.508601Z",
     "start_time": "2025-01-04T06:33:10.504263Z"
    }
   },
   "cell_type": "code",
   "source": "print('Hello World')",
   "id": "3e8fa95d19c90c69",
   "outputs": [
    {
     "name": "stdout",
     "output_type": "stream",
     "text": [
      "Hello World\n"
     ]
    }
   ],
   "execution_count": 8
  },
  {
   "metadata": {
    "ExecuteTime": {
     "end_time": "2025-01-04T06:36:38.169607Z",
     "start_time": "2025-01-04T06:36:38.164517Z"
    }
   },
   "cell_type": "code",
   "source": "b+=10",
   "id": "e31f5e3d82f8d9ad",
   "outputs": [],
   "execution_count": 9
  },
  {
   "metadata": {
    "ExecuteTime": {
     "end_time": "2025-01-04T06:36:43.464116Z",
     "start_time": "2025-01-04T06:36:43.458633Z"
    }
   },
   "cell_type": "code",
   "source": "b",
   "id": "88118c10ed3dc990",
   "outputs": [
    {
     "data": {
      "text/plain": [
       "14"
      ]
     },
     "execution_count": 10,
     "metadata": {},
     "output_type": "execute_result"
    }
   ],
   "execution_count": 10
  }
 ],
 "metadata": {
  "kernelspec": {
   "display_name": "Python 3",
   "language": "python",
   "name": "python3"
  },
  "language_info": {
   "codemirror_mode": {
    "name": "ipython",
    "version": 2
   },
   "file_extension": ".py",
   "mimetype": "text/x-python",
   "name": "python",
   "nbconvert_exporter": "python",
   "pygments_lexer": "ipython2",
   "version": "2.7.6"
  }
 },
 "nbformat": 4,
 "nbformat_minor": 5
}
