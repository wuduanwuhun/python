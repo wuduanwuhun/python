{
 "cells": [
  {
   "cell_type": "code",
   "id": "initial_id",
   "metadata": {
    "collapsed": true,
    "ExecuteTime": {
     "end_time": "2025-01-10T11:35:16.824162Z",
     "start_time": "2025-01-10T11:34:34.755329Z"
    }
   },
   "source": [
    "# 完成对20类新闻数据集，通过贝叶斯分析，实现分类预测，理解贝叶斯公式计算方法，得出，精确率，召回率，F1-score,并理解计算某个分类的AUC值的操作\n",
    "import time\n",
    "\n",
    "from sklearn.datasets import load_iris, fetch_20newsgroups, fetch_california_housing\n",
    "from sklearn.model_selection import train_test_split, GridSearchCV\n",
    "from sklearn.neighbors import KNeighborsClassifier\n",
    "from sklearn.preprocessing import StandardScaler\n",
    "from sklearn.feature_extraction.text import TfidfVectorizer\n",
    "from sklearn.naive_bayes import MultinomialNB\n",
    "from sklearn.metrics import classification_report\n",
    "from sklearn.feature_extraction import DictVectorizer\n",
    "from sklearn.tree import DecisionTreeClassifier, export_graphviz\n",
    "from sklearn.ensemble import RandomForestClassifier\n",
    "import pandas as pd\n",
    "import numpy as np\n",
    "from sklearn.metrics import roc_auc_score\n",
    "news = fetch_20newsgroups(subset='all',data_home='data2')# 加载数据集\n",
    "print(len(news.data))# 查看数据集大小\n",
    "print(news.data[0])# 查看数据集中的一个样本\n",
    "print(news.target[0:5])# 查看数据集中的一个样本的标签\n",
    "print(np.unique(news.target))# 查看数据集的标签种类\n",
    "print(news.target_names)# 查看数据集的标签种类名称\n"
   ],
   "outputs": [
    {
     "name": "stdout",
     "output_type": "stream",
     "text": [
      "18846\n",
      "From: Mamatha Devineni Ratnam <mr47+@andrew.cmu.edu>\n",
      "Subject: Pens fans reactions\n",
      "Organization: Post Office, Carnegie Mellon, Pittsburgh, PA\n",
      "Lines: 12\n",
      "NNTP-Posting-Host: po4.andrew.cmu.edu\n",
      "\n",
      "\n",
      "\n",
      "I am sure some bashers of Pens fans are pretty confused about the lack\n",
      "of any kind of posts about the recent Pens massacre of the Devils. Actually,\n",
      "I am  bit puzzled too and a bit relieved. However, I am going to put an end\n",
      "to non-PIttsburghers' relief with a bit of praise for the Pens. Man, they\n",
      "are killing those Devils worse than I thought. Jagr just showed you why\n",
      "he is much better than his regular season stats. He is also a lot\n",
      "fo fun to watch in the playoffs. Bowman should let JAgr have a lot of\n",
      "fun in the next couple of games since the Pens are going to beat the pulp out of Jersey anyway. I was very disappointed not to see the Islanders lose the final\n",
      "regular season game.          PENS RULE!!!\n",
      "\n",
      "\n",
      "[10  3 17  3  4]\n",
      "[ 0  1  2  3  4  5  6  7  8  9 10 11 12 13 14 15 16 17 18 19]\n",
      "['alt.atheism', 'comp.graphics', 'comp.os.ms-windows.misc', 'comp.sys.ibm.pc.hardware', 'comp.sys.mac.hardware', 'comp.windows.x', 'misc.forsale', 'rec.autos', 'rec.motorcycles', 'rec.sport.baseball', 'rec.sport.hockey', 'sci.crypt', 'sci.electronics', 'sci.med', 'sci.space', 'soc.religion.christian', 'talk.politics.guns', 'talk.politics.mideast', 'talk.politics.misc', 'talk.religion.misc']\n"
     ]
    }
   ],
   "execution_count": 2
  },
  {
   "metadata": {
    "ExecuteTime": {
     "end_time": "2025-01-10T11:39:52.696289Z",
     "start_time": "2025-01-10T11:39:49.462618Z"
    }
   },
   "cell_type": "code",
   "source": [
    "x_train, x_test, y_train, y_test = train_test_split(news.data, news.target, test_size=0.25, random_state=1)# 划分数据集\n",
    "tf = TfidfVectorizer()# 对数据集进行特征抽取\n",
    "x_train = tf.fit_transform(x_train)# 训练特征抽取器\n",
    "print(len(tf.get_feature_names_out()))# 查看特征抽取器抽取的特征数量"
   ],
   "id": "89cb16b3e1511528",
   "outputs": [
    {
     "name": "stdout",
     "output_type": "stream",
     "text": [
      "153196\n"
     ]
    }
   ],
   "execution_count": 3
  },
  {
   "metadata": {
    "ExecuteTime": {
     "end_time": "2025-01-10T11:40:18.333107Z",
     "start_time": "2025-01-10T11:40:18.162954Z"
    }
   },
   "cell_type": "code",
   "source": "print(tf.get_feature_names_out()[100000])# 查看特征抽取器抽取的特征名称",
   "id": "c900833b12ef221c",
   "outputs": [
    {
     "name": "stdout",
     "output_type": "stream",
     "text": [
      "murky\n"
     ]
    }
   ],
   "execution_count": 4
  },
  {
   "metadata": {
    "ExecuteTime": {
     "end_time": "2025-01-10T11:40:41.509723Z",
     "start_time": "2025-01-10T11:40:41.340494Z"
    }
   },
   "cell_type": "code",
   "source": "print(tf.get_feature_names_out()[0:10])# 查看特征抽取器抽取的特征名称",
   "id": "d3382a73738f3bad",
   "outputs": [
    {
     "name": "stdout",
     "output_type": "stream",
     "text": [
      "['00' '000' '0000' '00000' '0000000004' '0000000005' '0000000667'\n",
      " '0000001200' '000003' '000005102000']\n"
     ]
    }
   ],
   "execution_count": 5
  },
  {
   "metadata": {
    "ExecuteTime": {
     "end_time": "2025-01-10T11:42:27.138079Z",
     "start_time": "2025-01-10T11:42:26.976686Z"
    }
   },
   "cell_type": "code",
   "source": "print(tf.get_feature_names_out()[100000:100000+10])# 查看特征抽取器抽取的特征名称",
   "id": "8778a8cd3be52646",
   "outputs": [
    {
     "name": "stdout",
     "output_type": "stream",
     "text": [
      "['murky' 'murmurs' 'murnane' 'murph' 'murphey' 'murphy' 'murr11' 'murray'\n",
      " 'murray_craven' 'murrayfield']\n"
     ]
    }
   ],
   "execution_count": 6
  },
  {
   "metadata": {
    "ExecuteTime": {
     "end_time": "2025-01-10T11:44:07.336597Z",
     "start_time": "2025-01-10T11:44:07.187044Z"
    }
   },
   "cell_type": "code",
   "source": [
    "mlt = MultinomialNB(alpha=1.0)# 创建贝叶斯分类器\n",
    "start=time.time()# 开始计时\n",
    "mlt.fit(x_train, y_train) # 训练模型\n",
    "end=time.time()# 结束计时\n",
    "end-start # 查看训练时间"
   ],
   "id": "a3897a2e50cb32de",
   "outputs": [
    {
     "data": {
      "text/plain": [
       "0.14171338081359863"
      ]
     },
     "execution_count": 7,
     "metadata": {},
     "output_type": "execute_result"
    }
   ],
   "execution_count": 7
  },
  {
   "metadata": {
    "ExecuteTime": {
     "end_time": "2025-01-10T11:45:09.151306Z",
     "start_time": "2025-01-10T11:45:07.967624Z"
    }
   },
   "cell_type": "code",
   "source": [
    "x_transform_test = tf.transform(x_test) # 对测试集进行特征抽取\n",
    "print(len(tf.get_feature_names_out())) # 查看特征抽取器抽取的特征数量"
   ],
   "id": "c9b6cfda052452f4",
   "outputs": [
    {
     "name": "stdout",
     "output_type": "stream",
     "text": [
      "153196\n"
     ]
    }
   ],
   "execution_count": 8
  },
  {
   "metadata": {
    "ExecuteTime": {
     "end_time": "2025-01-10T11:45:25.824425Z",
     "start_time": "2025-01-10T11:45:25.820165Z"
    }
   },
   "cell_type": "code",
   "source": "x_transform_test.shape# 查看测试集的特征数量",
   "id": "c21151f4bf13e917",
   "outputs": [
    {
     "data": {
      "text/plain": [
       "(4712, 153196)"
      ]
     },
     "execution_count": 9,
     "metadata": {},
     "output_type": "execute_result"
    }
   ],
   "execution_count": 9
  },
  {
   "metadata": {
    "ExecuteTime": {
     "end_time": "2025-01-10T11:46:14.681069Z",
     "start_time": "2025-01-10T11:46:14.606987Z"
    }
   },
   "cell_type": "code",
   "source": [
    "start=time.time()# 开始计时\n",
    "y_predict = mlt.predict(x_transform_test)# 预测测试集\n",
    "print(\"预测的前面10篇文章类别为：\", y_predict[0:10])# 查看预测结果\n",
    "print(\"准确率为：\", mlt.score(x_transform_test, y_test))# 查看准确率\n",
    "end=time.time()# 结束计时\n",
    "end-start #预测时间"
   ],
   "id": "56ee374f3ec6f28d",
   "outputs": [
    {
     "name": "stdout",
     "output_type": "stream",
     "text": [
      "预测的前面10篇文章类别为： [16 19 18  1  9 15  1  2 16 13]\n",
      "准确率为： 0.8518675721561969\n"
     ]
    },
    {
     "data": {
      "text/plain": [
       "0.06778645515441895"
      ]
     },
     "execution_count": 10,
     "metadata": {},
     "output_type": "execute_result"
    }
   ],
   "execution_count": 10
  },
  {
   "metadata": {
    "ExecuteTime": {
     "end_time": "2025-01-10T11:46:35.224590Z",
     "start_time": "2025-01-10T11:46:35.218555Z"
    }
   },
   "cell_type": "code",
   "source": "len(y_predict)# 查看预测结果的数量",
   "id": "c398e1cfed1449fa",
   "outputs": [
    {
     "data": {
      "text/plain": [
       "4712"
      ]
     },
     "execution_count": 11,
     "metadata": {},
     "output_type": "execute_result"
    }
   ],
   "execution_count": 11
  },
  {
   "metadata": {
    "ExecuteTime": {
     "end_time": "2025-01-10T11:46:59.162027Z",
     "start_time": "2025-01-10T11:46:59.151371Z"
    }
   },
   "cell_type": "code",
   "source": [
    "print(classification_report(y_test, y_predict,\n",
    "      target_names=news.target_names))# 查看精确率，召回率，F1-score"
   ],
   "id": "c833a44a4d457ef4",
   "outputs": [
    {
     "name": "stdout",
     "output_type": "stream",
     "text": [
      "                          precision    recall  f1-score   support\n",
      "\n",
      "             alt.atheism       0.91      0.77      0.83       199\n",
      "           comp.graphics       0.83      0.79      0.81       242\n",
      " comp.os.ms-windows.misc       0.89      0.83      0.86       263\n",
      "comp.sys.ibm.pc.hardware       0.80      0.83      0.81       262\n",
      "   comp.sys.mac.hardware       0.90      0.88      0.89       234\n",
      "          comp.windows.x       0.92      0.85      0.88       230\n",
      "            misc.forsale       0.96      0.67      0.79       257\n",
      "               rec.autos       0.90      0.87      0.88       265\n",
      "         rec.motorcycles       0.90      0.95      0.92       251\n",
      "      rec.sport.baseball       0.89      0.96      0.93       226\n",
      "        rec.sport.hockey       0.95      0.98      0.96       262\n",
      "               sci.crypt       0.76      0.97      0.85       257\n",
      "         sci.electronics       0.84      0.80      0.82       229\n",
      "                 sci.med       0.97      0.86      0.91       249\n",
      "               sci.space       0.92      0.96      0.94       256\n",
      "  soc.religion.christian       0.55      0.98      0.70       243\n",
      "      talk.politics.guns       0.76      0.96      0.85       234\n",
      "   talk.politics.mideast       0.93      0.99      0.96       224\n",
      "      talk.politics.misc       0.98      0.56      0.72       197\n",
      "      talk.religion.misc       0.97      0.26      0.41       132\n",
      "\n",
      "                accuracy                           0.85      4712\n",
      "               macro avg       0.88      0.84      0.84      4712\n",
      "            weighted avg       0.87      0.85      0.85      4712\n",
      "\n"
     ]
    }
   ],
   "execution_count": 12
  },
  {
   "metadata": {
    "ExecuteTime": {
     "end_time": "2025-01-10T11:47:22.437965Z",
     "start_time": "2025-01-10T11:47:22.432634Z"
    }
   },
   "cell_type": "code",
   "source": "y_test.shape# 查看测试集的真实标签数量",
   "id": "211f83a99cdd5a05",
   "outputs": [
    {
     "data": {
      "text/plain": [
       "(4712,)"
      ]
     },
     "execution_count": 13,
     "metadata": {},
     "output_type": "execute_result"
    }
   ],
   "execution_count": 13
  },
  {
   "metadata": {
    "ExecuteTime": {
     "end_time": "2025-01-10T11:47:44.904704Z",
     "start_time": "2025-01-10T11:47:44.900627Z"
    }
   },
   "cell_type": "code",
   "source": [
    "y_test1 = np.where(y_test == 0, 1, 0)# 将测试集的真实标签转换为0和1\n",
    "print(y_test1.sum())# 查看转换后的标签数量"
   ],
   "id": "66698871899d0495",
   "outputs": [
    {
     "name": "stdout",
     "output_type": "stream",
     "text": [
      "199\n"
     ]
    }
   ],
   "execution_count": 14
  },
  {
   "metadata": {
    "ExecuteTime": {
     "end_time": "2025-01-10T11:48:13.698422Z",
     "start_time": "2025-01-10T11:48:13.693022Z"
    }
   },
   "cell_type": "code",
   "source": "print(y_test1[0:20])# 查看转换后的标签",
   "id": "7ce4d18151836d9c",
   "outputs": [
    {
     "name": "stdout",
     "output_type": "stream",
     "text": [
      "[0 0 0 0 0 0 0 0 0 0 0 0 0 0 0 0 0 1 0 0]\n"
     ]
    }
   ],
   "execution_count": 15
  },
  {
   "metadata": {
    "ExecuteTime": {
     "end_time": "2025-01-10T11:49:01.221226Z",
     "start_time": "2025-01-10T11:49:01.217152Z"
    }
   },
   "cell_type": "code",
   "source": [
    "y_predict1 = np.where(y_predict == 0, 1, 0)# 将预测结果转换为0和1\n",
    "print(y_predict1.sum())# 查看转换后的预测结果数量"
   ],
   "id": "3c2bbf9020bf8fb6",
   "outputs": [
    {
     "name": "stdout",
     "output_type": "stream",
     "text": [
      "168\n"
     ]
    }
   ],
   "execution_count": 16
  },
  {
   "metadata": {
    "ExecuteTime": {
     "end_time": "2025-01-10T11:49:13.449968Z",
     "start_time": "2025-01-10T11:49:13.445167Z"
    }
   },
   "cell_type": "code",
   "source": "y_predict1[0:20]# 查看转换后的预测结果",
   "id": "14b27e88f5fc0808",
   "outputs": [
    {
     "data": {
      "text/plain": [
       "array([0, 0, 0, 0, 0, 0, 0, 0, 0, 0, 0, 0, 0, 0, 0, 0, 0, 1, 0, 0])"
      ]
     },
     "execution_count": 17,
     "metadata": {},
     "output_type": "execute_result"
    }
   ],
   "execution_count": 17
  },
  {
   "metadata": {
    "ExecuteTime": {
     "end_time": "2025-01-10T11:49:35.437415Z",
     "start_time": "2025-01-10T11:49:35.430874Z"
    }
   },
   "cell_type": "code",
   "source": "(y_test1*y_predict1).sum()# 查看正确预测的数量",
   "id": "9da715ceb3ba8034",
   "outputs": [
    {
     "data": {
      "text/plain": [
       "np.int64(153)"
      ]
     },
     "execution_count": 18,
     "metadata": {},
     "output_type": "execute_result"
    }
   ],
   "execution_count": 18
  },
  {
   "metadata": {
    "ExecuteTime": {
     "end_time": "2025-01-10T11:50:01.460223Z",
     "start_time": "2025-01-10T11:50:01.454527Z"
    }
   },
   "cell_type": "code",
   "source": "max(y_test),min(y_test)# 查看测试集的真实标签的最大值和最小值",
   "id": "c906cb3978a21445",
   "outputs": [
    {
     "data": {
      "text/plain": [
       "(np.int64(19), np.int64(0))"
      ]
     },
     "execution_count": 19,
     "metadata": {},
     "output_type": "execute_result"
    }
   ],
   "execution_count": 19
  },
  {
   "metadata": {
    "ExecuteTime": {
     "end_time": "2025-01-10T11:50:44.359628Z",
     "start_time": "2025-01-10T11:50:44.352342Z"
    }
   },
   "cell_type": "code",
   "source": [
    "y_test1 = np.where(y_test == 5, 1, 0)# 将测试集的真实标签转换为0和1\n",
    "print(y_test1.sum()) #label为5的样本数\n",
    "y_predict1 = np.where(y_predict == 5, 1, 0)# 将预测结果转换为0和1\n",
    "print(y_predict1.sum())# 查看转换后的预测结果数量\n",
    "print(\"AUC指标：\", roc_auc_score(y_test1, y_predict1))# 查看AUC值"
   ],
   "id": "c7277e1e31bb3662",
   "outputs": [
    {
     "name": "stdout",
     "output_type": "stream",
     "text": [
      "230\n",
      "214\n",
      "AUC指标： 0.924078924393225\n"
     ]
    }
   ],
   "execution_count": 20
  },
  {
   "metadata": {
    "ExecuteTime": {
     "end_time": "2025-01-10T11:51:00.091758Z",
     "start_time": "2025-01-10T11:51:00.086540Z"
    }
   },
   "cell_type": "code",
   "source": "y_test1,y_predict1# 查看转换后的标签和预测结果",
   "id": "9c6cdb2f7bca4e8d",
   "outputs": [
    {
     "data": {
      "text/plain": [
       "(array([0, 0, 0, ..., 0, 0, 0], shape=(4712,)),\n",
       " array([0, 0, 0, ..., 0, 0, 0], shape=(4712,)))"
      ]
     },
     "execution_count": 21,
     "metadata": {},
     "output_type": "execute_result"
    }
   ],
   "execution_count": 21
  },
  {
   "metadata": {
    "ExecuteTime": {
     "end_time": "2025-01-10T11:51:42.588961Z",
     "start_time": "2025-01-10T11:51:42.572278Z"
    }
   },
   "cell_type": "code",
   "source": [
    "FP=np.where((np.array(y_test1)-np.array(y_predict1))==-1,1,0).sum() #FP是196\n",
    "TP=y_predict1.sum()-FP #TP是196\n",
    "print(TP)\n",
    "FN=np.where((np.array(y_test1)-np.array(y_predict1))==1,1,0).sum() #FN是34\n",
    "print(FN)#FN是1\n",
    "TN=np.where(y_test1==0,1,0).sum()-FP  #4464\n",
    "print(TN)"
   ],
   "id": "98a6880ac3890067",
   "outputs": [
    {
     "name": "stdout",
     "output_type": "stream",
     "text": [
      "196\n",
      "34\n",
      "4464\n"
     ]
    }
   ],
   "execution_count": 22
  },
  {
   "metadata": {
    "ExecuteTime": {
     "end_time": "2025-01-10T11:52:04.689684Z",
     "start_time": "2025-01-10T11:52:04.685263Z"
    }
   },
   "cell_type": "code",
   "source": "TP/(TP+FP)#精确率",
   "id": "b7ee9ad1344a7627",
   "outputs": [
    {
     "data": {
      "text/plain": [
       "np.float64(0.9158878504672897)"
      ]
     },
     "execution_count": 23,
     "metadata": {},
     "output_type": "execute_result"
    }
   ],
   "execution_count": 23
  },
  {
   "metadata": {
    "ExecuteTime": {
     "end_time": "2025-01-10T11:52:21.570446Z",
     "start_time": "2025-01-10T11:52:21.565239Z"
    }
   },
   "cell_type": "code",
   "source": "TP/(TP+FN)#召回率",
   "id": "2bd2d7c7b3a1c400",
   "outputs": [
    {
     "data": {
      "text/plain": [
       "np.float64(0.8521739130434782)"
      ]
     },
     "execution_count": 24,
     "metadata": {},
     "output_type": "execute_result"
    }
   ],
   "execution_count": 24
  },
  {
   "metadata": {
    "ExecuteTime": {
     "end_time": "2025-01-10T11:52:35.076381Z",
     "start_time": "2025-01-10T11:52:35.071708Z"
    }
   },
   "cell_type": "code",
   "source": "2*TP/(2*TP+FP+FN)#F1-score",
   "id": "c476a5668df1d0cc",
   "outputs": [
    {
     "data": {
      "text/plain": [
       "np.float64(0.8828828828828829)"
      ]
     },
     "execution_count": 25,
     "metadata": {},
     "output_type": "execute_result"
    }
   ],
   "execution_count": 25
  }
 ],
 "metadata": {
  "kernelspec": {
   "display_name": "Python 3",
   "language": "python",
   "name": "python3"
  },
  "language_info": {
   "codemirror_mode": {
    "name": "ipython",
    "version": 2
   },
   "file_extension": ".py",
   "mimetype": "text/x-python",
   "name": "python",
   "nbconvert_exporter": "python",
   "pygments_lexer": "ipython2",
   "version": "2.7.6"
  }
 },
 "nbformat": 4,
 "nbformat_minor": 5
}
