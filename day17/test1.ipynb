{
 "cells": [
  {
   "cell_type": "code",
   "id": "initial_id",
   "metadata": {
    "collapsed": true,
    "ExecuteTime": {
     "end_time": "2025-01-13T09:34:42.594047Z",
     "start_time": "2025-01-13T09:34:39.620511Z"
    }
   },
   "source": [
    "#练习线性回归之梯度下降，Lasso回归，岭回归，理解原理是核心\n",
    "import time\n",
    "\n",
    "from sklearn.datasets import load_iris, fetch_20newsgroups, fetch_california_housing\n",
    "from sklearn.model_selection import train_test_split, GridSearchCV\n",
    "from sklearn.neighbors import KNeighborsClassifier\n",
    "from sklearn.preprocessing import StandardScaler\n",
    "from sklearn.feature_extraction.text import TfidfVectorizer\n",
    "from sklearn.naive_bayes import MultinomialNB\n",
    "from sklearn.metrics import classification_report\n",
    "from sklearn.feature_extraction import DictVectorizer\n",
    "from sklearn.tree import DecisionTreeClassifier, export_graphviz\n",
    "from sklearn.ensemble import RandomForestClassifier\n",
    "import pandas as pd\n",
    "import numpy as np\n",
    "\n",
    "fetch_data = fetch_california_housing(data_home='data')#获取数据集\n",
    "print(\"获取特征值\")\n",
    "print(fetch_data.data.shape)#获取特征值维度\n",
    "print(fetch_data.data[0])#获取特征值\n",
    "print(\"获取目标值\")\n",
    "print(fetch_data.target)#获取目标值\n",
    "print(fetch_data.feature_names)#获取特征名"
   ],
   "outputs": [
    {
     "name": "stdout",
     "output_type": "stream",
     "text": [
      "获取特征值\n",
      "(20640, 8)\n",
      "[   8.3252       41.            6.98412698    1.02380952  322.\n",
      "    2.55555556   37.88       -122.23      ]\n",
      "获取目标值\n",
      "[4.526 3.585 3.521 ... 0.923 0.847 0.894]\n",
      "['MedInc', 'HouseAge', 'AveRooms', 'AveBedrms', 'Population', 'AveOccup', 'Latitude', 'Longitude']\n"
     ]
    }
   ],
   "execution_count": 2
  },
  {
   "metadata": {
    "ExecuteTime": {
     "end_time": "2025-01-13T09:37:41.551327Z",
     "start_time": "2025-01-13T09:37:41.543899Z"
    }
   },
   "cell_type": "code",
   "source": "fetch_data.target.shape#获取目标值维度",
   "id": "4e55f491df8621eb",
   "outputs": [
    {
     "data": {
      "text/plain": [
       "(20640,)"
      ]
     },
     "execution_count": 10,
     "metadata": {},
     "output_type": "execute_result"
    }
   ],
   "execution_count": 10
  },
  {
   "metadata": {
    "ExecuteTime": {
     "end_time": "2025-01-13T09:59:50.494378Z",
     "start_time": "2025-01-13T09:59:50.476094Z"
    }
   },
   "cell_type": "code",
   "source": [
    "x_train, x_test, y_train, y_test = train_test_split(fetch_data.data, fetch_data.target, test_size=0.25, random_state=1)#分割数据集到训练集和测试集\n",
    "print(x_train.shape)#训练集特征值维度\n",
    "std_x = StandardScaler()#标准化\n",
    "x_train = std_x.fit_transform(x_train)#标准化训练集\n",
    "x_test = std_x.transform(x_test)#标准化测试集\n",
    "print(y_train.shape)\n",
    "std_y = StandardScaler()#标准化目标值\n",
    "y_train = std_y.fit_transform(y_train.reshape(-1, 1))#标准化目标值\n",
    "print(y_train.shape)#重塑后的目标值维度"
   ],
   "id": "ed889de56fa3a3cc",
   "outputs": [
    {
     "name": "stdout",
     "output_type": "stream",
     "text": [
      "(15480, 8)\n",
      "(15480,)\n",
      "(15480, 1)\n"
     ]
    }
   ],
   "execution_count": 28
  },
  {
   "metadata": {
    "ExecuteTime": {
     "end_time": "2025-01-13T09:44:48.973516Z",
     "start_time": "2025-01-13T09:44:48.965542Z"
    }
   },
   "cell_type": "code",
   "source": [
    "temp = y_train.reshape(-1, 1)#重塑目标值维度\n",
    "print(temp.shape)#重塑后的目标值维度"
   ],
   "id": "6bf1010f62075c09",
   "outputs": [
    {
     "name": "stdout",
     "output_type": "stream",
     "text": [
      "(15480, 1)\n"
     ]
    }
   ],
   "execution_count": 12
  },
  {
   "metadata": {
    "ExecuteTime": {
     "end_time": "2025-01-13T09:46:07.574187Z",
     "start_time": "2025-01-13T09:46:07.568533Z"
    }
   },
   "cell_type": "code",
   "source": [
    "test1 = np.array([1,2,3])#创建数组\n",
    "print(test1.shape)#数组维度\n",
    "print(test1.reshape(-1, 1))#重塑数组维度"
   ],
   "id": "a386467f6c57904c",
   "outputs": [
    {
     "name": "stdout",
     "output_type": "stream",
     "text": [
      "(3,)\n",
      "[[1]\n",
      " [2]\n",
      " [3]]\n"
     ]
    }
   ],
   "execution_count": 13
  },
  {
   "metadata": {
    "ExecuteTime": {
     "end_time": "2025-01-13T09:55:03.414664Z",
     "start_time": "2025-01-13T09:55:03.398109Z"
    }
   },
   "cell_type": "code",
   "source": [
    "from sklearn.metrics import mean_squared_error\n",
    "import joblib\n",
    "from sklearn.linear_model import LinearRegression, SGDRegressor, Ridge, LogisticRegression, Lasso\n",
    "import os\n",
    "lr = LinearRegression()#线性回归\n",
    "lr.fit(x_train, y_train)#训练模型\n",
    "print(\"回归系数:\")\n",
    "print(lr.coef_)#回归系数\n",
    "y_predict = lr.predict(x_test)#预测结果\n",
    "os.unlink('./tmp/test.pkl') # 删除之前的模型文件\n",
    "joblib.dump(lr, \"./tmp/test.pkl\")\n",
    "print(\"正规方程测试集里面每个房子的预测价格：\", y_predict[0:10])#打印预测结果\n",
    "print(\"正规方程的均方误差：\", mean_squared_error(y_test, y_predict))#打印均方误差"
   ],
   "id": "2a4d5cdad07b94d9",
   "outputs": [
    {
     "name": "stdout",
     "output_type": "stream",
     "text": [
      "回归系数:\n",
      "[ 0.83167028  0.12159502 -0.26758589  0.30983997 -0.00518054 -0.04040421\n",
      " -0.90736902 -0.88212727]\n",
      "正规方程测试集里面每个房子的预测价格： [2.12391852 0.93825754 2.7088455  1.70873764 2.82954754 3.50376456\n",
      " 3.0147162  1.62781292 1.74317518 2.01897806]\n",
      "正规方程的均方误差： 0.5356532845422556\n"
     ]
    }
   ],
   "execution_count": 27
  },
  {
   "metadata": {
    "ExecuteTime": {
     "end_time": "2025-01-13T10:02:17.823588Z",
     "start_time": "2025-01-13T10:02:17.809512Z"
    }
   },
   "cell_type": "code",
   "source": [
    "lr = LinearRegression()#线性回归\n",
    "lr.fit(x_train, y_train)#训练模型\n",
    "print(\"回归系数:\")\n",
    "print(lr.coef_)#回归系数\n",
    "y_predict = lr.predict(x_test)#预测结果\n",
    "y_lr_predict = std_y.inverse_transform(y_predict)#反标准化预测结果\n",
    "os.unlink('./tmp/test.pkl') # 删除之前的模型文件\n",
    "joblib.dump(lr, \"./tmp/test.pkl\")\n",
    "print(\"正规方程测试集里面每个房子的预测价格：\", y_lr_predict[0:10])\n",
    "print(\"正规方程的均方误差：\", mean_squared_error(y_test, y_lr_predict))#打印均方误差"
   ],
   "id": "70c6c67846c8d442",
   "outputs": [
    {
     "name": "stdout",
     "output_type": "stream",
     "text": [
      "回归系数:\n",
      "[[ 0.71942632  0.10518431 -0.23147194  0.26802332 -0.00448136 -0.03495117\n",
      "  -0.7849086  -0.76307353]]\n",
      "正规方程测试集里面每个房子的预测价格： [[2.12391852]\n",
      " [0.93825754]\n",
      " [2.7088455 ]\n",
      " [1.70873764]\n",
      " [2.82954754]\n",
      " [3.50376456]\n",
      " [3.0147162 ]\n",
      " [1.62781292]\n",
      " [1.74317518]\n",
      " [2.01897806]]\n",
      "正规方程的均方误差： 0.5356532845422556\n"
     ]
    }
   ],
   "execution_count": 29
  },
  {
   "metadata": {
    "ExecuteTime": {
     "end_time": "2025-01-13T10:03:20.717381Z",
     "start_time": "2025-01-13T10:03:20.708690Z"
    }
   },
   "cell_type": "code",
   "source": [
    "model = joblib.load(\"./tmp/test.pkl\")#加载模型\n",
    "y_predict = model.predict(x_test)#预测结果\n",
    "print(\"保存的y标准化后的模型预测的结果：\", std_y.inverse_transform(y_predict)[0:10])#打印预测结果\n",
    "print(\"正规方程inverse后的均方误差：\", mean_squared_error(y_test,\n",
    "                                               std_y.inverse_transform(y_predict)))#打印均方误差"
   ],
   "id": "c11deaec8f0ad267",
   "outputs": [
    {
     "name": "stdout",
     "output_type": "stream",
     "text": [
      "保存的y标准化后的模型预测的结果： [[2.12391852]\n",
      " [0.93825754]\n",
      " [2.7088455 ]\n",
      " [1.70873764]\n",
      " [2.82954754]\n",
      " [3.50376456]\n",
      " [3.0147162 ]\n",
      " [1.62781292]\n",
      " [1.74317518]\n",
      " [2.01897806]]\n",
      "正规方程inverse后的均方误差： 0.5356532845422556\n"
     ]
    }
   ],
   "execution_count": 30
  },
  {
   "metadata": {
    "ExecuteTime": {
     "end_time": "2025-01-13T10:03:56.980704Z",
     "start_time": "2025-01-13T10:03:56.972790Z"
    }
   },
   "cell_type": "code",
   "source": [
    "y_true = [3, -0.5, 2, 7]#真实值\n",
    "y_pred = [2.5, 0.0, 2, 8]#预测值\n",
    "mean_squared_error(y_true, y_pred)#计算均方误差"
   ],
   "id": "4c38e4373e717dbe",
   "outputs": [
    {
     "data": {
      "text/plain": [
       "0.375"
      ]
     },
     "execution_count": 31,
     "metadata": {},
     "output_type": "execute_result"
    }
   ],
   "execution_count": 31
  },
  {
   "metadata": {
    "ExecuteTime": {
     "end_time": "2025-01-13T10:16:15.309622Z",
     "start_time": "2025-01-13T10:16:15.283599Z"
    }
   },
   "cell_type": "code",
   "source": [
    "#线性回归之梯度下降\n",
    "sgd = SGDRegressor(eta0=0.01,penalty='l2', max_iter=1000)#创建SGDRegressor对象\n",
    "sgd.fit(x_train, y_train)#训练模型\n",
    "print('梯度下降的回归系数', sgd.coef_)#打印回归系数\n",
    "y_predict = sgd.predict(x_test)#预测结果\n",
    "print(\"梯度下降的均方误差：\", mean_squared_error(y_test, y_predict))#打印均方误差"
   ],
   "id": "26e4e0e1a217a7a3",
   "outputs": [
    {
     "name": "stdout",
     "output_type": "stream",
     "text": [
      "梯度下降的回归系数 [ 0.70944479  0.09336909 -0.20565056  0.23581556 -0.02097679 -0.12699846\n",
      " -0.77758674 -0.76332109]\n",
      "梯度下降的均方误差： 4.75094456098578\n"
     ]
    },
    {
     "name": "stderr",
     "output_type": "stream",
     "text": [
      "C:\\Users\\ASUS\\AppData\\Local\\Programs\\Python\\Python312\\Lib\\site-packages\\sklearn\\utils\\validation.py:1408: DataConversionWarning: A column-vector y was passed when a 1d array was expected. Please change the shape of y to (n_samples, ), for example using ravel().\n",
      "  y = column_or_1d(y, warn=True)\n"
     ]
    }
   ],
   "execution_count": 53
  },
  {
   "metadata": {
    "ExecuteTime": {
     "end_time": "2025-01-13T11:14:25.246791Z",
     "start_time": "2025-01-13T11:14:25.092032Z"
    }
   },
   "cell_type": "code",
   "source": [
    "#Lasso回归\n",
    "print(x_train.shape)\n",
    "print(y_train.shape)\n",
    "ls = Lasso(alpha=0.001)#创建Lasso对象\n",
    "ls.fit(x_train, y_train)#训练模型\n",
    "print('Lasso的回归系数', ls.coef_)#打印回归系数\n",
    "print(ls.predict(x_test).shape)#预测结果维度\n",
    "y_predict = ls.predict(x_test)#预测结果\n",
    "print(\"Lasso的均方误差：\", mean_squared_error(y_test, y_predict))#打印均方误差"
   ],
   "id": "ebc647c0f264826c",
   "outputs": [
    {
     "name": "stdout",
     "output_type": "stream",
     "text": [
      "(15480, 8)\n",
      "(15480, 1)\n",
      "Lasso的回归系数 [ 0.71431792  0.10613811 -0.21758465  0.25415162 -0.00311065 -0.03403136\n",
      " -0.77399969 -0.75154125]\n",
      "(5160,)\n",
      "Lasso的均方误差： 4.770944530791325\n"
     ]
    }
   ],
   "execution_count": 58
  },
  {
   "metadata": {
    "ExecuteTime": {
     "end_time": "2025-01-13T11:16:58.835119Z",
     "start_time": "2025-01-13T11:16:58.817298Z"
    }
   },
   "cell_type": "code",
   "source": [
    "#岭回归\n",
    "rd = Ridge(alpha=0.001)#创建Ridge对象\n",
    "rd.fit(x_train, y_train)#训练模型\n",
    "print('岭回归的回归系数', rd.coef_)#打印回归系数\n",
    "print(rd.predict(x_test).shape)#预测结果维度\n",
    "y_predict = rd.predict(x_test)#预测结果\n",
    "print(\"岭回归的均方误差：\", mean_squared_error(y_test, y_predict))#打印均方误差"
   ],
   "id": "21e4f81114f34e9a",
   "outputs": [
    {
     "name": "stdout",
     "output_type": "stream",
     "text": [
      "岭回归的回归系数 [ 0.7194263   0.10518438 -0.23147179  0.26802312 -0.00448134 -0.03495118\n",
      " -0.78490787 -0.7630728 ]\n",
      "(5160,)\n",
      "岭回归的均方误差： 4.7705005245159136\n"
     ]
    }
   ],
   "execution_count": 59
  }
 ],
 "metadata": {
  "kernelspec": {
   "display_name": "Python 3",
   "language": "python",
   "name": "python3"
  },
  "language_info": {
   "codemirror_mode": {
    "name": "ipython",
    "version": 2
   },
   "file_extension": ".py",
   "mimetype": "text/x-python",
   "name": "python",
   "nbconvert_exporter": "python",
   "pygments_lexer": "ipython2",
   "version": "2.7.6"
  }
 },
 "nbformat": 4,
 "nbformat_minor": 5
}
