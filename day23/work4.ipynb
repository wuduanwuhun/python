{
 "cells": [
  {
   "cell_type": "code",
   "id": "initial_id",
   "metadata": {
    "collapsed": true,
    "ExecuteTime": {
     "end_time": "2025-01-21T08:26:56.947287Z",
     "start_time": "2025-01-21T08:26:48.616177Z"
    }
   },
   "source": [
    "#完成cifar10的模型搭建\n",
    "import matplotlib as mpl\n",
    "import matplotlib.pyplot as plt\n",
    "%matplotlib inline\n",
    "import numpy as np\n",
    "import sklearn\n",
    "import pandas as pd\n",
    "import os\n",
    "import sys\n",
    "import time\n",
    "from tqdm.auto import tqdm\n",
    "import torch\n",
    "import torch.nn as nn\n",
    "import torch.nn.functional as F\n",
    "\n",
    "print(sys.version_info)\n",
    "for module in mpl, np, pd, sklearn, torch:\n",
    "    print(module.__name__, module.__version__)\n",
    "    \n",
    "device = torch.device(\"cuda:0\") if torch.cuda.is_available() else torch.device(\"cpu\")\n",
    "print(device)\n",
    "\n",
    "seed = 42\n"
   ],
   "outputs": [
    {
     "name": "stdout",
     "output_type": "stream",
     "text": [
      "sys.version_info(major=3, minor=12, micro=2, releaselevel='final', serial=0)\n",
      "matplotlib 3.10.0\n",
      "numpy 2.0.2\n",
      "pandas 2.2.3\n",
      "sklearn 1.6.0\n",
      "torch 2.5.1+cpu\n",
      "cpu\n"
     ]
    }
   ],
   "execution_count": 2
  },
  {
   "metadata": {
    "ExecuteTime": {
     "end_time": "2025-01-21T08:26:58.685867Z",
     "start_time": "2025-01-21T08:26:56.950363Z"
    }
   },
   "cell_type": "code",
   "source": [
    "from pathlib import Path\n",
    "\n",
    "DATA_DIR = Path(\"./cifar-10\")\n",
    "\n",
    "train_lables_file = DATA_DIR / \"trainLabels.csv\"\n",
    "test_csv_file = DATA_DIR / \"sampleSubmission.csv\" #测试集模板csv文件\n",
    "train_folder = DATA_DIR / \"train/train\"\n",
    "test_folder = DATA_DIR / \"test/test\"\n",
    "\n",
    "#所有的类别\n",
    "class_names = [\n",
    "    'airplane',\n",
    "    'automobile',\n",
    "    'bird',\n",
    "    'cat',\n",
    "    'deer',\n",
    "    'dog',\n",
    "    'frog',\n",
    "    'horse',\n",
    "    'ship',\n",
    "    'truck',\n",
    "]\n",
    "\n",
    "def parse_csv_file(filepath, folder): #filepath:csv文件路径，folder:图片所在文件夹\n",
    "    \"\"\"Parses csv files into (filename(path), label) format\"\"\"\n",
    "    results = []\n",
    "    #读取所有行\n",
    "    with open(filepath, 'r') as f:\n",
    "#         lines = f.readlines()  为什么加[1:]，可以试这个\n",
    "        #第一行不需要，因为第一行是标题\n",
    "        lines = f.readlines()[1:] \n",
    "    for line in lines:#依次去取每一行\n",
    "        image_id, label_str = line.strip('\\n').split(',') #图片id 和标签分离\n",
    "        image_full_path = folder / f\"{image_id}.png\"\n",
    "        results.append((image_full_path, label_str)) #得到对应图片的路径和分类\n",
    "    return results\n",
    "\n",
    "#解析对应的文件夹\n",
    "train_labels_info = parse_csv_file(train_lables_file, train_folder)\n",
    "test_csv_info = parse_csv_file(test_csv_file, test_folder)\n",
    "#打印\n",
    "import pprint\n",
    "pprint.pprint(train_labels_info[0:5])\n",
    "pprint.pprint(test_csv_info[0:5])\n",
    "print(len(train_labels_info), len(test_csv_info))"
   ],
   "id": "26a29369b459597f",
   "outputs": [
    {
     "name": "stdout",
     "output_type": "stream",
     "text": [
      "[(WindowsPath('cifar-10/train/train/1.png'), 'frog'),\n",
      " (WindowsPath('cifar-10/train/train/2.png'), 'truck'),\n",
      " (WindowsPath('cifar-10/train/train/3.png'), 'truck'),\n",
      " (WindowsPath('cifar-10/train/train/4.png'), 'deer'),\n",
      " (WindowsPath('cifar-10/train/train/5.png'), 'automobile')]\n",
      "[(WindowsPath('cifar-10/test/test/1.png'), 'cat'),\n",
      " (WindowsPath('cifar-10/test/test/2.png'), 'cat'),\n",
      " (WindowsPath('cifar-10/test/test/3.png'), 'cat'),\n",
      " (WindowsPath('cifar-10/test/test/4.png'), 'cat'),\n",
      " (WindowsPath('cifar-10/test/test/5.png'), 'cat')]\n",
      "50000 300000\n"
     ]
    }
   ],
   "execution_count": 3
  },
  {
   "metadata": {
    "ExecuteTime": {
     "end_time": "2025-01-21T08:26:58.794122Z",
     "start_time": "2025-01-21T08:26:58.687388Z"
    }
   },
   "cell_type": "code",
   "source": [
    "# train_df = pd.DataFrame(train_labels_info)\n",
    "train_df = pd.DataFrame(train_labels_info[0:45000]) # 取前45000张图片作为训练集\n",
    "valid_df = pd.DataFrame(train_labels_info[45000:]) # 取后5000张图片作为验证集\n",
    "test_df = pd.DataFrame(test_csv_info)\n",
    "\n",
    "train_df.columns = ['filepath', 'class']\n",
    "valid_df.columns = ['filepath', 'class']\n",
    "test_df.columns = ['filepath', 'class']\n",
    "\n",
    "print(train_df.head())\n",
    "print(valid_df.head())\n",
    "print(test_df.head())"
   ],
   "id": "171320b8199784d",
   "outputs": [
    {
     "name": "stdout",
     "output_type": "stream",
     "text": [
      "                     filepath       class\n",
      "0  cifar-10\\train\\train\\1.png        frog\n",
      "1  cifar-10\\train\\train\\2.png       truck\n",
      "2  cifar-10\\train\\train\\3.png       truck\n",
      "3  cifar-10\\train\\train\\4.png        deer\n",
      "4  cifar-10\\train\\train\\5.png  automobile\n",
      "                         filepath       class\n",
      "0  cifar-10\\train\\train\\45001.png       horse\n",
      "1  cifar-10\\train\\train\\45002.png  automobile\n",
      "2  cifar-10\\train\\train\\45003.png        deer\n",
      "3  cifar-10\\train\\train\\45004.png  automobile\n",
      "4  cifar-10\\train\\train\\45005.png    airplane\n",
      "                   filepath class\n",
      "0  cifar-10\\test\\test\\1.png   cat\n",
      "1  cifar-10\\test\\test\\2.png   cat\n",
      "2  cifar-10\\test\\test\\3.png   cat\n",
      "3  cifar-10\\test\\test\\4.png   cat\n",
      "4  cifar-10\\test\\test\\5.png   cat\n"
     ]
    }
   ],
   "execution_count": 4
  },
  {
   "metadata": {
    "ExecuteTime": {
     "end_time": "2025-01-21T08:27:01.603533Z",
     "start_time": "2025-01-21T08:26:58.797473Z"
    }
   },
   "cell_type": "code",
   "source": [
    "from PIL import Image\n",
    "from torch.utils.data import Dataset, DataLoader\n",
    "from torchvision import transforms\n",
    "\n",
    "class Cifar10Dataset(Dataset):\n",
    "    df_map = {\n",
    "        \"train\": train_df,\n",
    "        \"eval\": valid_df,\n",
    "        \"test\": test_df\n",
    "    }\n",
    "    label_to_idx = {label: idx for idx, label in enumerate(class_names)} # 类别映射为idx\n",
    "    idx_to_label = {idx: label for idx, label in enumerate(class_names)} # idx映射为类别,为了test测试集使用\n",
    "    def __init__(self, mode, transform=None):\n",
    "        self.df = self.df_map.get(mode, None) # 获取对应模式的df，不同字符串对应不同模式\n",
    "        if self.df is None:\n",
    "            raise ValueError(\"mode should be one of train, val, test, but got {}\".format(mode))\n",
    "        # assert self.df, \"df is None\"\n",
    "        self.transform = transform\n",
    "        \n",
    "    def __getitem__(self, index):\n",
    "        img_path, label = self.df.iloc[index] # 获取图片路径和标签\n",
    "        img = Image.open(img_path).convert('RGB')\n",
    "        # # img 转换为 channel first\n",
    "        # img = img.transpose((2, 0, 1))\n",
    "        # transform\n",
    "        img = self.transform(img) # 数据增强\n",
    "        # label 转换为 idx\n",
    "        label = self.label_to_idx[label]\n",
    "        return img, label\n",
    "    \n",
    "    def __len__(self):\n",
    "        return self.df.shape[0] # 返回df的行数,样本数\n",
    "    \n",
    "IMAGE_SIZE = 32\n",
    "mean, std = [0.4914, 0.4822, 0.4465], [0.247, 0.243, 0.261]\n",
    "\n",
    "transforms_train = transforms.Compose([\n",
    "        # resize\n",
    "        transforms.Resize((IMAGE_SIZE, IMAGE_SIZE)), #缩放\n",
    "        # random rotation 40\n",
    "        transforms.RandomRotation(40), #随机旋转\n",
    "        # horizaontal flip\n",
    "        transforms.RandomHorizontalFlip(),  #随机水平翻转\n",
    "        transforms.ToTensor(), #转换为tensor\n",
    "        # transforms.Normalize(mean, std) #标准化\n",
    "    ]) #数据增强\n",
    "\n",
    "transforms_eval = transforms.Compose([\n",
    "        # resize\n",
    "        transforms.Resize((IMAGE_SIZE, IMAGE_SIZE)),\n",
    "        transforms.ToTensor(),\n",
    "        transforms.Normalize(mean, std)\n",
    "    ])\n",
    "# ToTensor还将图像的维度从[height, width, channels]转换为[channels, height, width]。\n",
    "train_ds = Cifar10Dataset(\"train\", transforms_train)\n",
    "eval_ds = Cifar10Dataset(\"eval\", transforms_eval)"
   ],
   "id": "a7160e596a4dc2bc",
   "outputs": [],
   "execution_count": 5
  },
  {
   "metadata": {
    "ExecuteTime": {
     "end_time": "2025-01-21T08:27:01.659207Z",
     "start_time": "2025-01-21T08:27:01.605538Z"
    }
   },
   "cell_type": "code",
   "source": "train_ds[0][0].shape # 图片的shape,输入",
   "id": "7966ed2d523bda3d",
   "outputs": [
    {
     "data": {
      "text/plain": [
       "torch.Size([3, 32, 32])"
      ]
     },
     "execution_count": 6,
     "metadata": {},
     "output_type": "execute_result"
    }
   ],
   "execution_count": 6
  },
  {
   "metadata": {
    "ExecuteTime": {
     "end_time": "2025-01-21T08:27:01.667423Z",
     "start_time": "2025-01-21T08:27:01.660224Z"
    }
   },
   "cell_type": "code",
   "source": [
    "print(train_ds.idx_to_label)  # 类别映射为idx\n",
    "train_ds.label_to_idx # idx映射为类别"
   ],
   "id": "b25f28b5ba1a620",
   "outputs": [
    {
     "name": "stdout",
     "output_type": "stream",
     "text": [
      "{0: 'airplane', 1: 'automobile', 2: 'bird', 3: 'cat', 4: 'deer', 5: 'dog', 6: 'frog', 7: 'horse', 8: 'ship', 9: 'truck'}\n"
     ]
    },
    {
     "data": {
      "text/plain": [
       "{'airplane': 0,\n",
       " 'automobile': 1,\n",
       " 'bird': 2,\n",
       " 'cat': 3,\n",
       " 'deer': 4,\n",
       " 'dog': 5,\n",
       " 'frog': 6,\n",
       " 'horse': 7,\n",
       " 'ship': 8,\n",
       " 'truck': 9}"
      ]
     },
     "execution_count": 7,
     "metadata": {},
     "output_type": "execute_result"
    }
   ],
   "execution_count": 7
  },
  {
   "metadata": {
    "ExecuteTime": {
     "end_time": "2025-01-21T08:27:01.674476Z",
     "start_time": "2025-01-21T08:27:01.669451Z"
    }
   },
   "cell_type": "code",
   "source": [
    "batch_size = 64\n",
    "train_dl = DataLoader(train_ds, batch_size=batch_size, shuffle=True)   \n",
    "eval_dl = DataLoader(eval_ds, batch_size=batch_size, shuffle=False)"
   ],
   "id": "29af02abf6065591",
   "outputs": [],
   "execution_count": 8
  },
  {
   "metadata": {
    "ExecuteTime": {
     "end_time": "2025-01-21T08:28:18.582973Z",
     "start_time": "2025-01-21T08:27:01.675488Z"
    }
   },
   "cell_type": "code",
   "source": [
    "# 遍历train_ds得到每张图片，计算每个通道的均值和方差\n",
    "def cal_mean_std(ds):\n",
    "    mean = 0.\n",
    "    std = 0.\n",
    "    for img, _ in ds:\n",
    "        mean += img.mean(dim=(1, 2))\n",
    "        std += img.std(dim=(1, 2))\n",
    "    mean /= len(ds)\n",
    "    std /= len(ds)\n",
    "    return mean, std\n",
    "\n",
    "# 经过 normalize 后 均值为0，方差为1\n",
    "print(cal_mean_std(train_ds))"
   ],
   "id": "aae642dcb410975b",
   "outputs": [
    {
     "name": "stdout",
     "output_type": "stream",
     "text": [
      "(tensor([0.4367, 0.4266, 0.3945]), tensor([0.2465, 0.2420, 0.2360]))\n"
     ]
    }
   ],
   "execution_count": 9
  },
  {
   "metadata": {
    "ExecuteTime": {
     "end_time": "2025-01-21T08:28:18.685288Z",
     "start_time": "2025-01-21T08:28:18.585099Z"
    }
   },
   "cell_type": "code",
   "source": [
    "class CNN(nn.Module):\n",
    "    def __init__(self, num_classes):\n",
    "        super().__init__()\n",
    "        self.model = nn.Sequential(\n",
    "            nn.Conv2d(in_channels=3, out_channels=128, kernel_size=3, padding=\"same\"),\n",
    "            nn.ReLU(),\n",
    "            nn.BatchNorm2d(128),# 批标准化，在通道数做的归一化\n",
    "            nn.Conv2d(in_channels=128, out_channels=128, kernel_size=3, padding=\"same\"), #输出尺寸（128，32，32）\n",
    "            nn.ReLU(),\n",
    "            nn.BatchNorm2d(128),\n",
    "            nn.MaxPool2d(kernel_size=2), #输出尺寸（128，16，16）\n",
    "            nn.Conv2d(in_channels=128, out_channels=256, kernel_size=3, padding=\"same\"),\n",
    "            nn.ReLU(),\n",
    "            nn.BatchNorm2d(256),\n",
    "            nn.Conv2d(in_channels=256, out_channels=256, kernel_size=3, padding=\"same\"), #输出尺寸（256，16，16）\n",
    "            nn.ReLU(),\n",
    "            nn.BatchNorm2d(256),\n",
    "            nn.MaxPool2d(kernel_size=2),#输出尺寸（256，8，8）\n",
    "            nn.Conv2d(in_channels=256, out_channels=512, kernel_size=3, padding=\"same\"),\n",
    "            nn.ReLU(),\n",
    "            nn.BatchNorm2d(512),\n",
    "            nn.Conv2d(in_channels=512, out_channels=512, kernel_size=3, padding=\"same\"), #输出尺寸（512，8，8）\n",
    "            nn.ReLU(),\n",
    "            nn.BatchNorm2d(512),\n",
    "            nn.MaxPool2d(kernel_size=2), #输出尺寸（512，4，4）\n",
    "            nn.Flatten(), #展平\n",
    "            nn.Linear(8192, 512),\n",
    "            nn.ReLU(),\n",
    "            nn.Linear(512, num_classes),\n",
    "        ) #Sequential自动连接各层，把各层的输出作为下一层的输入\n",
    "        \n",
    "    def forward(self, x):\n",
    "        return self.model(x)\n",
    "        \n",
    "for key, value in CNN(len(class_names)).named_parameters():\n",
    "    print(f\"{key:^40}paramerters num: {np.prod(value.shape)}\")\n",
    "    \n"
   ],
   "id": "25fcd33b070486f1",
   "outputs": [
    {
     "name": "stdout",
     "output_type": "stream",
     "text": [
      "             model.0.weight             paramerters num: 3456\n",
      "              model.0.bias              paramerters num: 128\n",
      "             model.2.weight             paramerters num: 128\n",
      "              model.2.bias              paramerters num: 128\n",
      "             model.3.weight             paramerters num: 147456\n",
      "              model.3.bias              paramerters num: 128\n",
      "             model.5.weight             paramerters num: 128\n",
      "              model.5.bias              paramerters num: 128\n",
      "             model.7.weight             paramerters num: 294912\n",
      "              model.7.bias              paramerters num: 256\n",
      "             model.9.weight             paramerters num: 256\n",
      "              model.9.bias              paramerters num: 256\n",
      "            model.10.weight             paramerters num: 589824\n",
      "             model.10.bias              paramerters num: 256\n",
      "            model.12.weight             paramerters num: 256\n",
      "             model.12.bias              paramerters num: 256\n",
      "            model.14.weight             paramerters num: 1179648\n",
      "             model.14.bias              paramerters num: 512\n",
      "            model.16.weight             paramerters num: 512\n",
      "             model.16.bias              paramerters num: 512\n",
      "            model.17.weight             paramerters num: 2359296\n",
      "             model.17.bias              paramerters num: 512\n",
      "            model.19.weight             paramerters num: 512\n",
      "             model.19.bias              paramerters num: 512\n",
      "            model.22.weight             paramerters num: 4194304\n",
      "             model.22.bias              paramerters num: 512\n",
      "            model.24.weight             paramerters num: 5120\n",
      "             model.24.bias              paramerters num: 10\n"
     ]
    }
   ],
   "execution_count": 10
  },
  {
   "metadata": {
    "ExecuteTime": {
     "end_time": "2025-01-21T08:28:18.736800Z",
     "start_time": "2025-01-21T08:28:18.687804Z"
    }
   },
   "cell_type": "code",
   "source": [
    "total_params = sum(p.numel() for p in CNN(len(class_names)).parameters() if p.requires_grad)\n",
    "print(f\"Total trainable parameters: {total_params}\")"
   ],
   "id": "65e6e6e3dece0b25",
   "outputs": [
    {
     "name": "stdout",
     "output_type": "stream",
     "text": [
      "Total trainable parameters: 8779914\n"
     ]
    }
   ],
   "execution_count": 11
  },
  {
   "metadata": {
    "ExecuteTime": {
     "end_time": "2025-01-21T08:28:18.756877Z",
     "start_time": "2025-01-21T08:28:18.738006Z"
    }
   },
   "cell_type": "code",
   "source": [
    "input_4d = torch.randn(32, 3, 64, 64)  # 32 个样本，3 个通道，图像大小为 64x64\n",
    "bn2d = nn.BatchNorm2d(3)              # 对 3 个通道进行归一化\n",
    "output_4d = bn2d(input_4d)\n",
    "output_4d.shape"
   ],
   "id": "2d2aa23487ab4bc3",
   "outputs": [
    {
     "data": {
      "text/plain": [
       "torch.Size([32, 3, 64, 64])"
      ]
     },
     "execution_count": 12,
     "metadata": {},
     "output_type": "execute_result"
    }
   ],
   "execution_count": 12
  },
  {
   "metadata": {
    "ExecuteTime": {
     "end_time": "2025-01-21T08:28:18.783591Z",
     "start_time": "2025-01-21T08:28:18.757889Z"
    }
   },
   "cell_type": "code",
   "source": "output_4d# 输出尺寸（32，3，64，64）",
   "id": "4fa69e2f506dd666",
   "outputs": [
    {
     "data": {
      "text/plain": [
       "tensor([[[[-1.0526, -0.0942,  0.4009,  ...,  0.2678,  0.6547, -0.2569],\n",
       "          [-1.0497,  1.7729, -0.6057,  ..., -0.8743, -0.5932, -2.1390],\n",
       "          [ 0.3006,  0.7380, -0.2378,  ...,  0.2511, -1.2825, -0.3250],\n",
       "          ...,\n",
       "          [ 0.4880,  0.9265,  1.1575,  ...,  0.5660, -0.5783,  0.1259],\n",
       "          [-0.3727, -0.1926, -0.2252,  ..., -0.8128,  1.2883,  0.9819],\n",
       "          [-0.2919, -2.2989, -1.3467,  ..., -0.0921, -0.0392, -2.1083]],\n",
       "\n",
       "         [[ 0.3747, -0.7825, -0.9979,  ...,  0.3167, -1.8845, -0.9144],\n",
       "          [ 1.6057,  0.8234, -0.2439,  ..., -0.5703, -0.1226, -0.0820],\n",
       "          [-0.8081, -0.5782,  0.5730,  ..., -1.1787,  0.5305, -1.4845],\n",
       "          ...,\n",
       "          [ 0.7813,  0.8367, -0.3708,  ..., -0.5190,  0.0186,  0.0934],\n",
       "          [ 1.5892,  0.6375, -0.1491,  ..., -1.1142, -0.4739, -0.0089],\n",
       "          [-1.0034,  0.4536,  0.7029,  ..., -1.9041,  0.7832,  0.4585]],\n",
       "\n",
       "         [[ 1.1313,  0.3200, -0.2842,  ...,  0.1390, -1.0143, -0.4223],\n",
       "          [ 0.4369,  0.0645, -1.2899,  ..., -1.0191, -0.0615,  0.0888],\n",
       "          [ 0.5421, -0.0689, -1.5577,  ...,  1.9620,  1.1038,  0.7802],\n",
       "          ...,\n",
       "          [-0.5042, -3.2826,  0.1966,  ..., -1.5699, -1.4171,  1.1256],\n",
       "          [-0.8727, -0.5011,  0.4075,  ..., -0.6414, -0.0500,  0.3442],\n",
       "          [-0.4778,  0.4370,  0.7828,  ...,  0.6209,  0.9241,  0.2827]]],\n",
       "\n",
       "\n",
       "        [[[-0.7392,  0.1546,  2.4144,  ...,  0.8003,  0.9428, -0.4123],\n",
       "          [ 0.8047,  1.4688,  0.1248,  ...,  0.4120,  0.6984, -0.7098],\n",
       "          [ 0.6503,  0.1131, -0.3269,  ..., -1.1484, -0.9270, -0.2344],\n",
       "          ...,\n",
       "          [ 1.3092, -0.7865, -1.6729,  ..., -1.0082,  0.2729,  0.3375],\n",
       "          [ 0.8044,  0.6761, -1.1557,  ...,  0.8085,  1.2577,  0.1973],\n",
       "          [-1.4322, -0.7309,  0.9602,  ..., -0.4320, -0.5806,  0.9236]],\n",
       "\n",
       "         [[-0.5308, -0.9566,  1.6996,  ...,  1.0861, -1.3383,  0.8742],\n",
       "          [-0.5868,  0.5187,  0.3180,  ..., -0.1299, -0.4136, -0.9528],\n",
       "          [ 0.2587,  1.9835, -2.2489,  ..., -0.0701,  1.2377,  0.6036],\n",
       "          ...,\n",
       "          [ 0.0717,  0.5346, -1.6038,  ..., -1.1197,  0.8788,  0.2007],\n",
       "          [ 0.8161,  0.4624,  0.4711,  ..., -0.1732, -0.1500, -0.6216],\n",
       "          [ 0.1524, -0.8205,  1.0737,  ...,  1.0856, -1.1574, -0.0167]],\n",
       "\n",
       "         [[ 0.5559,  0.1732,  0.0041,  ...,  0.7455, -1.0928, -1.7696],\n",
       "          [-0.0287, -1.2119, -0.9917,  ...,  1.8452, -0.2109,  1.6588],\n",
       "          [ 1.3436,  0.5608,  1.3835,  ...,  0.2922, -1.5743, -1.0386],\n",
       "          ...,\n",
       "          [-0.6086, -0.2567, -0.1760,  ..., -1.0764,  1.0063,  1.7332],\n",
       "          [ 0.6157, -0.1047,  1.0214,  ...,  0.0834, -0.5177,  1.5012],\n",
       "          [ 2.0390,  0.1657, -0.5179,  ..., -0.0414, -0.5643,  1.0814]]],\n",
       "\n",
       "\n",
       "        [[[ 0.0613, -1.5020, -0.4915,  ..., -0.7816, -0.0205,  1.1305],\n",
       "          [-0.9071,  0.0333, -0.5687,  ..., -1.3402, -0.3758, -2.6619],\n",
       "          [ 0.2530, -0.3852, -0.7485,  ..., -2.0577, -0.8803,  0.5302],\n",
       "          ...,\n",
       "          [ 1.4704,  1.3297, -2.1764,  ..., -1.6739, -2.7100, -1.7270],\n",
       "          [-1.3947,  0.0769, -1.2099,  ...,  0.3817, -0.3375,  0.6026],\n",
       "          [ 0.6111,  1.0156, -0.1213,  ..., -1.0329, -0.0328, -0.1212]],\n",
       "\n",
       "         [[ 0.7931,  0.5004,  0.1416,  ...,  0.2474, -0.0526, -0.5440],\n",
       "          [-2.7793,  0.5169, -0.6556,  ..., -0.5176,  0.8565, -1.2657],\n",
       "          [ 0.5176,  0.2581,  1.0701,  ...,  0.8183, -1.4887,  0.7154],\n",
       "          ...,\n",
       "          [-0.2743, -2.2713,  0.1829,  ...,  2.2295, -0.1147,  2.2895],\n",
       "          [-0.4743, -0.4294, -0.2018,  ...,  0.0256,  0.2333, -0.0181],\n",
       "          [-0.6172,  0.6280,  1.4315,  ..., -0.5994, -0.6409, -0.9614]],\n",
       "\n",
       "         [[ 0.5532,  0.3925, -2.5358,  ...,  0.7513,  1.5823,  0.0113],\n",
       "          [ 0.1977, -1.3838, -1.4117,  ..., -0.5878, -0.8307, -1.8608],\n",
       "          [-0.5647, -0.5324, -0.0512,  ..., -1.0232, -0.6103,  0.0313],\n",
       "          ...,\n",
       "          [ 1.8919, -0.2326,  2.8631,  ..., -0.3176,  0.3323,  0.3899],\n",
       "          [ 1.0526,  1.1606, -0.9959,  ..., -0.9224, -0.8884, -0.5137],\n",
       "          [ 0.0207,  0.3492,  0.2632,  ..., -1.0157,  0.0892,  0.0629]]],\n",
       "\n",
       "\n",
       "        ...,\n",
       "\n",
       "\n",
       "        [[[ 0.1632,  0.1876, -0.1175,  ...,  0.6256, -0.0883, -1.3580],\n",
       "          [-0.4187, -2.1681,  0.7943,  ..., -1.4396,  0.7085, -0.4767],\n",
       "          [ 1.1482, -0.1047,  0.3990,  ..., -0.5943,  0.2511,  0.0698],\n",
       "          ...,\n",
       "          [ 1.5940,  0.5955,  0.1716,  ...,  0.2765, -0.6069,  0.0829],\n",
       "          [-1.0726, -0.0828, -1.2299,  ..., -1.7011, -1.7181,  0.9074],\n",
       "          [ 0.2211,  0.6538,  1.5319,  ..., -1.9112,  0.9282, -0.8723]],\n",
       "\n",
       "         [[ 0.7813,  0.4889, -0.4038,  ..., -0.7947,  1.7767,  1.9860],\n",
       "          [ 0.7549,  2.4393, -1.3071,  ..., -0.4144,  2.7382, -1.6799],\n",
       "          [-0.7633,  0.4688,  0.7276,  ...,  0.8089, -1.0926,  0.9842],\n",
       "          ...,\n",
       "          [ 0.4502, -0.1339, -0.2279,  ..., -0.4415,  0.5100,  0.5920],\n",
       "          [ 0.4225,  0.9743, -1.3510,  ...,  0.8568, -0.7183, -0.0510],\n",
       "          [-1.0140,  0.1759,  1.3078,  ...,  0.1499, -0.2950,  1.1559]],\n",
       "\n",
       "         [[-1.1659,  0.3224,  1.6200,  ...,  1.6085,  0.2199,  0.9033],\n",
       "          [ 1.1019,  0.8031,  0.6585,  ...,  0.3896, -0.7650, -0.2095],\n",
       "          [-0.3258, -1.0938, -0.0110,  ...,  1.4844,  0.9001,  1.4677],\n",
       "          ...,\n",
       "          [-0.5334, -0.0498,  0.6618,  ..., -0.6293,  1.7110,  0.1019],\n",
       "          [ 0.7858, -0.8168, -1.7786,  ..., -1.4034, -1.9861,  0.0980],\n",
       "          [-1.4739,  0.1278, -1.1997,  ..., -0.7039,  2.1168, -0.6421]]],\n",
       "\n",
       "\n",
       "        [[[-1.9779,  0.6448,  1.0173,  ...,  0.6636,  0.5678,  0.0829],\n",
       "          [-1.0188, -1.7417, -0.4972,  ...,  0.9534, -0.8486, -0.6699],\n",
       "          [-0.0088,  0.2330,  0.1714,  ...,  0.2478, -0.7696,  0.4240],\n",
       "          ...,\n",
       "          [-1.5315, -0.2547,  1.0448,  ..., -1.4059,  1.2229, -1.1423],\n",
       "          [ 0.2383,  0.2792,  1.3910,  ...,  0.5780, -0.1325,  1.0649],\n",
       "          [ 0.1883,  0.6218,  0.1983,  ..., -1.0778,  0.1529, -2.2307]],\n",
       "\n",
       "         [[-0.6144, -0.9544,  1.0988,  ...,  1.4142, -0.0228,  0.0754],\n",
       "          [-1.0012,  0.7694,  1.0061,  ...,  0.0102,  0.4159,  0.5326],\n",
       "          [-0.1486,  1.8287,  1.9727,  ...,  1.2616, -1.7048,  1.3216],\n",
       "          ...,\n",
       "          [ 0.8739,  1.2012,  0.9637,  ...,  0.4216,  1.2678,  0.4588],\n",
       "          [-0.9195, -0.1460, -0.4455,  ..., -0.1953, -0.5635, -1.0694],\n",
       "          [-0.4572,  1.3403, -1.0061,  ..., -0.9533,  0.1062,  0.2065]],\n",
       "\n",
       "         [[-0.7254, -0.1873, -1.7160,  ...,  1.3733,  1.3072, -2.1134],\n",
       "          [-0.1162,  0.7701, -0.0530,  ..., -1.2380, -0.5811,  0.6008],\n",
       "          [ 0.7604, -0.2682,  1.5063,  ...,  0.5893,  1.0279, -0.6883],\n",
       "          ...,\n",
       "          [-0.1973, -0.6765,  0.5076,  ...,  1.0447, -1.5039,  0.7068],\n",
       "          [ 1.3373,  1.4414,  1.1045,  ...,  0.5541, -0.4769, -0.1322],\n",
       "          [ 0.3134,  0.2047,  0.4470,  ..., -1.0094,  0.2530, -0.0397]]],\n",
       "\n",
       "\n",
       "        [[[ 1.0528,  0.8761,  0.2085,  ..., -2.0275,  0.4496,  0.4404],\n",
       "          [-0.6981,  0.3698, -0.3806,  ...,  0.1560,  0.9873,  0.4311],\n",
       "          [ 1.0260, -0.8059, -0.7692,  ..., -0.5819,  0.3928, -0.1071],\n",
       "          ...,\n",
       "          [ 0.4774, -0.9126, -1.7611,  ..., -0.8401, -0.4471, -0.6401],\n",
       "          [-0.0681,  0.1661, -0.6015,  ...,  0.1864,  0.9407,  1.4760],\n",
       "          [ 1.2175,  0.2705, -2.0590,  ...,  0.1481,  1.1347, -0.0097]],\n",
       "\n",
       "         [[ 0.0670, -0.1757,  0.3895,  ...,  1.4902,  0.1046,  1.1943],\n",
       "          [ 0.0755, -1.7953, -1.8938,  ..., -0.4245, -0.2029,  2.0894],\n",
       "          [ 0.3880,  0.0736, -0.0154,  ...,  0.4858, -0.8634,  0.8994],\n",
       "          ...,\n",
       "          [-1.4570,  1.6624, -0.3855,  ..., -1.0703, -0.7519, -1.3511],\n",
       "          [-1.4630,  3.2395, -0.5217,  ..., -0.4488,  0.8465,  0.1009],\n",
       "          [ 0.3838, -2.2368, -0.1420,  ...,  0.3963,  0.5972,  0.9877]],\n",
       "\n",
       "         [[ 2.2780, -0.0194, -0.7978,  ..., -1.1076, -1.7234, -0.8120],\n",
       "          [-0.9530,  1.0432,  0.6485,  ...,  1.5478, -1.0716, -1.7002],\n",
       "          [-0.1752, -1.2474,  0.5416,  ...,  0.4290, -0.7359, -2.0745],\n",
       "          ...,\n",
       "          [ 0.1333, -1.5210, -1.0912,  ..., -0.4237, -0.5764,  0.3908],\n",
       "          [-1.4973, -1.0653,  0.5280,  ..., -2.1270,  0.8479, -1.1180],\n",
       "          [ 0.1252,  1.2342,  0.4191,  ..., -0.1645,  2.6564, -0.0569]]]],\n",
       "       grad_fn=<NativeBatchNormBackward0>)"
      ]
     },
     "execution_count": 13,
     "metadata": {},
     "output_type": "execute_result"
    }
   ],
   "execution_count": 13
  },
  {
   "metadata": {
    "ExecuteTime": {
     "end_time": "2025-01-21T08:28:18.799542Z",
     "start_time": "2025-01-21T08:28:18.784677Z"
    }
   },
   "cell_type": "code",
   "source": [
    "bn2d = nn.BatchNorm2d(1)              # 对 3 个通道进行归一化\n",
    "output_4d1 = bn2d(input_4d[:, 0:1, :, :])\n",
    "output_4d1# 输出尺寸（32，1，64，64）"
   ],
   "id": "2dfd4c47d8e4b9e9",
   "outputs": [
    {
     "data": {
      "text/plain": [
       "tensor([[[[-1.0526, -0.0942,  0.4009,  ...,  0.2678,  0.6547, -0.2569],\n",
       "          [-1.0497,  1.7729, -0.6057,  ..., -0.8743, -0.5932, -2.1390],\n",
       "          [ 0.3006,  0.7380, -0.2378,  ...,  0.2511, -1.2825, -0.3250],\n",
       "          ...,\n",
       "          [ 0.4880,  0.9265,  1.1575,  ...,  0.5660, -0.5783,  0.1259],\n",
       "          [-0.3727, -0.1926, -0.2252,  ..., -0.8128,  1.2883,  0.9819],\n",
       "          [-0.2919, -2.2989, -1.3467,  ..., -0.0921, -0.0392, -2.1083]]],\n",
       "\n",
       "\n",
       "        [[[-0.7392,  0.1546,  2.4144,  ...,  0.8003,  0.9428, -0.4123],\n",
       "          [ 0.8047,  1.4688,  0.1248,  ...,  0.4120,  0.6984, -0.7098],\n",
       "          [ 0.6503,  0.1131, -0.3269,  ..., -1.1484, -0.9270, -0.2344],\n",
       "          ...,\n",
       "          [ 1.3092, -0.7865, -1.6729,  ..., -1.0082,  0.2729,  0.3375],\n",
       "          [ 0.8044,  0.6761, -1.1557,  ...,  0.8085,  1.2577,  0.1973],\n",
       "          [-1.4322, -0.7309,  0.9602,  ..., -0.4320, -0.5806,  0.9236]]],\n",
       "\n",
       "\n",
       "        [[[ 0.0613, -1.5020, -0.4915,  ..., -0.7816, -0.0205,  1.1305],\n",
       "          [-0.9071,  0.0333, -0.5687,  ..., -1.3402, -0.3758, -2.6619],\n",
       "          [ 0.2530, -0.3852, -0.7485,  ..., -2.0577, -0.8803,  0.5302],\n",
       "          ...,\n",
       "          [ 1.4704,  1.3297, -2.1764,  ..., -1.6739, -2.7100, -1.7270],\n",
       "          [-1.3947,  0.0769, -1.2099,  ...,  0.3817, -0.3375,  0.6026],\n",
       "          [ 0.6111,  1.0156, -0.1213,  ..., -1.0329, -0.0328, -0.1212]]],\n",
       "\n",
       "\n",
       "        ...,\n",
       "\n",
       "\n",
       "        [[[ 0.1632,  0.1876, -0.1175,  ...,  0.6256, -0.0883, -1.3580],\n",
       "          [-0.4187, -2.1681,  0.7943,  ..., -1.4396,  0.7085, -0.4767],\n",
       "          [ 1.1482, -0.1047,  0.3990,  ..., -0.5943,  0.2511,  0.0698],\n",
       "          ...,\n",
       "          [ 1.5940,  0.5955,  0.1716,  ...,  0.2765, -0.6069,  0.0829],\n",
       "          [-1.0726, -0.0828, -1.2299,  ..., -1.7011, -1.7181,  0.9074],\n",
       "          [ 0.2211,  0.6538,  1.5319,  ..., -1.9112,  0.9282, -0.8723]]],\n",
       "\n",
       "\n",
       "        [[[-1.9779,  0.6448,  1.0173,  ...,  0.6636,  0.5678,  0.0829],\n",
       "          [-1.0188, -1.7417, -0.4972,  ...,  0.9534, -0.8486, -0.6699],\n",
       "          [-0.0088,  0.2330,  0.1714,  ...,  0.2478, -0.7696,  0.4240],\n",
       "          ...,\n",
       "          [-1.5315, -0.2547,  1.0448,  ..., -1.4059,  1.2229, -1.1423],\n",
       "          [ 0.2383,  0.2792,  1.3910,  ...,  0.5780, -0.1325,  1.0649],\n",
       "          [ 0.1883,  0.6218,  0.1983,  ..., -1.0778,  0.1529, -2.2307]]],\n",
       "\n",
       "\n",
       "        [[[ 1.0528,  0.8761,  0.2085,  ..., -2.0275,  0.4496,  0.4404],\n",
       "          [-0.6981,  0.3698, -0.3806,  ...,  0.1560,  0.9873,  0.4311],\n",
       "          [ 1.0260, -0.8059, -0.7692,  ..., -0.5819,  0.3928, -0.1071],\n",
       "          ...,\n",
       "          [ 0.4774, -0.9126, -1.7611,  ..., -0.8401, -0.4471, -0.6401],\n",
       "          [-0.0681,  0.1661, -0.6015,  ...,  0.1864,  0.9407,  1.4760],\n",
       "          [ 1.2175,  0.2705, -2.0590,  ...,  0.1481,  1.1347, -0.0097]]]],\n",
       "       grad_fn=<NativeBatchNormBackward0>)"
      ]
     },
     "execution_count": 14,
     "metadata": {},
     "output_type": "execute_result"
    }
   ],
   "execution_count": 14
  },
  {
   "metadata": {
    "ExecuteTime": {
     "end_time": "2025-01-21T08:28:18.933404Z",
     "start_time": "2025-01-21T08:28:18.800555Z"
    }
   },
   "cell_type": "code",
   "source": [
    "from sklearn.metrics import accuracy_score\n",
    "\n",
    "@torch.no_grad()\n",
    "def evaluating(model, dataloader, loss_fct):\n",
    "    loss_list = []\n",
    "    pred_list = []\n",
    "    label_list = []\n",
    "    for datas, labels in dataloader:\n",
    "        datas = datas.to(device)\n",
    "        labels = labels.to(device)\n",
    "        # 前向计算\n",
    "        logits = model(datas)\n",
    "        loss = loss_fct(logits, labels)         # 验证集损失\n",
    "        loss_list.append(loss.item())\n",
    "        \n",
    "        preds = logits.argmax(axis=-1)    # 验证集预测\n",
    "        pred_list.extend(preds.cpu().numpy().tolist())\n",
    "        label_list.extend(labels.cpu().numpy().tolist())\n",
    "        \n",
    "    acc = accuracy_score(label_list, pred_list)\n",
    "    return np.mean(loss_list), acc\n"
   ],
   "id": "e7aaacc6cf512c13",
   "outputs": [],
   "execution_count": 15
  },
  {
   "metadata": {
    "ExecuteTime": {
     "end_time": "2025-01-21T08:28:26.472543Z",
     "start_time": "2025-01-21T08:28:18.934409Z"
    }
   },
   "cell_type": "code",
   "source": [
    "from torch.utils.tensorboard import SummaryWriter\n",
    "\n",
    "\n",
    "class TensorBoardCallback:\n",
    "    def __init__(self, log_dir, flush_secs=10):\n",
    "        \"\"\"\n",
    "        Args:\n",
    "            log_dir (str): dir to write log.\n",
    "            flush_secs (int, optional): write to dsk each flush_secs seconds. Defaults to 10.\n",
    "        \"\"\"\n",
    "        self.writer = SummaryWriter(log_dir=log_dir, flush_secs=flush_secs)\n",
    "\n",
    "    def draw_model(self, model, input_shape):\n",
    "        self.writer.add_graph(model, input_to_model=torch.randn(input_shape))\n",
    "        \n",
    "    def add_loss_scalars(self, step, loss, val_loss):\n",
    "        self.writer.add_scalars(\n",
    "            main_tag=\"training/loss\", \n",
    "            tag_scalar_dict={\"loss\": loss, \"val_loss\": val_loss},\n",
    "            global_step=step,\n",
    "            )\n",
    "        \n",
    "    def add_acc_scalars(self, step, acc, val_acc):\n",
    "        self.writer.add_scalars(\n",
    "            main_tag=\"training/accuracy\",\n",
    "            tag_scalar_dict={\"accuracy\": acc, \"val_accuracy\": val_acc},\n",
    "            global_step=step,\n",
    "        )\n",
    "        \n",
    "    def add_lr_scalars(self, step, learning_rate):\n",
    "        self.writer.add_scalars(\n",
    "            main_tag=\"training/learning_rate\",\n",
    "            tag_scalar_dict={\"learning_rate\": learning_rate},\n",
    "            global_step=step,\n",
    "            \n",
    "        )\n",
    "    \n",
    "    def __call__(self, step, **kwargs):\n",
    "        # add loss\n",
    "        loss = kwargs.pop(\"loss\", None)\n",
    "        val_loss = kwargs.pop(\"val_loss\", None)\n",
    "        if loss is not None and val_loss is not None:\n",
    "            self.add_loss_scalars(step, loss, val_loss)\n",
    "        # add acc\n",
    "        acc = kwargs.pop(\"acc\", None)\n",
    "        val_acc = kwargs.pop(\"val_acc\", None)\n",
    "        if acc is not None and val_acc is not None:\n",
    "            self.add_acc_scalars(step, acc, val_acc)\n",
    "        # add lr\n",
    "        learning_rate = kwargs.pop(\"lr\", None)\n",
    "        if learning_rate is not None:\n",
    "            self.add_lr_scalars(step, learning_rate)\n"
   ],
   "id": "6f92a56afa49054a",
   "outputs": [],
   "execution_count": 16
  },
  {
   "metadata": {
    "ExecuteTime": {
     "end_time": "2025-01-21T08:28:26.479955Z",
     "start_time": "2025-01-21T08:28:26.474056Z"
    }
   },
   "cell_type": "code",
   "source": [
    "class SaveCheckpointsCallback:\n",
    "    def __init__(self, save_dir, save_step=5000, save_best_only=True):\n",
    "        \"\"\"\n",
    "        Save checkpoints each save_epoch epoch. \n",
    "        We save checkpoint by epoch in this implementation.\n",
    "        Usually, training scripts with pytorch evaluating model and save checkpoint by step.\n",
    "\n",
    "        Args:\n",
    "            save_dir (str): dir to save checkpoint\n",
    "            save_epoch (int, optional): the frequency to save checkpoint. Defaults to 1.\n",
    "            save_best_only (bool, optional): If True, only save the best model or save each model at every epoch.\n",
    "        \"\"\"\n",
    "        self.save_dir = save_dir\n",
    "        self.save_step = save_step\n",
    "        self.save_best_only = save_best_only\n",
    "        self.best_metrics = -1\n",
    "        \n",
    "        # mkdir\n",
    "        if not os.path.exists(self.save_dir):\n",
    "            os.mkdir(self.save_dir)\n",
    "        \n",
    "    def __call__(self, step, state_dict, metric=None):\n",
    "        if step % self.save_step > 0:\n",
    "            return\n",
    "        \n",
    "        if self.save_best_only:\n",
    "            assert metric is not None\n",
    "            if metric >= self.best_metrics:\n",
    "                # save checkpoints\n",
    "                torch.save(state_dict, os.path.join(self.save_dir, \"best.ckpt\"))\n",
    "                # update best metrics\n",
    "                self.best_metrics = metric\n",
    "        else:\n",
    "            torch.save(state_dict, os.path.join(self.save_dir, f\"{step}.ckpt\"))\n",
    "\n"
   ],
   "id": "3c4ab9e2898668bb",
   "outputs": [],
   "execution_count": 17
  },
  {
   "metadata": {
    "ExecuteTime": {
     "end_time": "2025-01-21T08:28:26.487647Z",
     "start_time": "2025-01-21T08:28:26.481144Z"
    }
   },
   "cell_type": "code",
   "source": [
    "class EarlyStopCallback:\n",
    "    def __init__(self, patience=5, min_delta=0.01):\n",
    "        \"\"\"\n",
    "\n",
    "        Args:\n",
    "            patience (int, optional): Number of epochs with no improvement after which training will be stopped.. Defaults to 5.\n",
    "            min_delta (float, optional): Minimum change in the monitored quantity to qualify as an improvement, i.e. an absolute \n",
    "                change of less than min_delta, will count as no improvement. Defaults to 0.01.\n",
    "        \"\"\"\n",
    "        self.patience = patience\n",
    "        self.min_delta = min_delta\n",
    "        self.best_metric = -1\n",
    "        self.counter = 0\n",
    "        \n",
    "    def __call__(self, metric):\n",
    "        if metric >= self.best_metric + self.min_delta:\n",
    "            # update best metric\n",
    "            self.best_metric = metric\n",
    "            # reset counter \n",
    "            self.counter = 0\n",
    "        else: \n",
    "            self.counter += 1\n",
    "            \n",
    "    @property\n",
    "    def early_stop(self):\n",
    "        return self.counter >= self.patience\n"
   ],
   "id": "aafb19559a57d2ad",
   "outputs": [],
   "execution_count": 18
  },
  {
   "metadata": {
    "ExecuteTime": {
     "end_time": "2025-01-21T08:28:27.131562Z",
     "start_time": "2025-01-21T08:28:26.488712Z"
    }
   },
   "cell_type": "code",
   "source": [
    "# 训练\n",
    "def training(\n",
    "    model, \n",
    "    train_loader, \n",
    "    val_loader, \n",
    "    epoch, \n",
    "    loss_fct, \n",
    "    optimizer, \n",
    "    tensorboard_callback=None,\n",
    "    save_ckpt_callback=None,\n",
    "    early_stop_callback=None,\n",
    "    eval_step=500,\n",
    "    ):\n",
    "    record_dict = {\n",
    "        \"train\": [],\n",
    "        \"val\": []\n",
    "    }\n",
    "    \n",
    "    global_step = 0\n",
    "    model.train()\n",
    "    with tqdm(total=epoch * len(train_loader)) as pbar:\n",
    "        for epoch_id in range(epoch):\n",
    "            # training\n",
    "            for datas, labels in train_loader:\n",
    "                datas = datas.to(device)\n",
    "                labels = labels.to(device)\n",
    "                # 梯度清空\n",
    "                optimizer.zero_grad()\n",
    "                # 模型前向计算\n",
    "                logits = model(datas)\n",
    "                # 计算损失\n",
    "                loss = loss_fct(logits, labels)\n",
    "                # 梯度回传\n",
    "                loss.backward()\n",
    "                # 调整优化器，包括学习率的变动等\n",
    "                optimizer.step()\n",
    "                preds = logits.argmax(axis=-1) #最大值的索引\n",
    "            \n",
    "                acc = accuracy_score(labels.cpu().numpy(), preds.cpu().numpy())     # 计算准确率\n",
    "                loss = loss.cpu().item() # 计算损失\n",
    "                # record\n",
    "                \n",
    "                record_dict[\"train\"].append({\n",
    "                    \"loss\": loss, \"acc\": acc, \"step\": global_step # 记录每一步的损失和准确率\n",
    "                })\n",
    "                \n",
    "                # evaluating\n",
    "                if global_step % eval_step == 0:\n",
    "                    model.eval()\n",
    "                    val_loss, val_acc = evaluating(model, val_loader, loss_fct)\n",
    "                    record_dict[\"val\"].append({\n",
    "                        \"loss\": val_loss, \"acc\": val_acc, \"step\": global_step\n",
    "                    })\n",
    "                    model.train()\n",
    "                    \n",
    "                    # 1. 使用 tensorboard 可视化\n",
    "                    if tensorboard_callback is not None:\n",
    "                        tensorboard_callback(\n",
    "                            global_step, \n",
    "                            loss=loss, val_loss=val_loss,\n",
    "                            acc=acc, val_acc=val_acc,\n",
    "                            lr=optimizer.param_groups[0][\"lr\"],\n",
    "                            )\n",
    "                \n",
    "                    # 2. 保存模型权重 save model checkpoint\n",
    "                    if save_ckpt_callback is not None:\n",
    "                        save_ckpt_callback(global_step, model.state_dict(), metric=val_acc)\n",
    "\n",
    "                    # 3. 早停 Early Stop\n",
    "                    if early_stop_callback is not None:\n",
    "                        early_stop_callback(val_acc)\n",
    "                        if early_stop_callback.early_stop:\n",
    "                            print(f\"Early stop at epoch {epoch_id} / global_step {global_step}\")\n",
    "                            return record_dict\n",
    "                    \n",
    "                # udate step\n",
    "                global_step += 1\n",
    "                pbar.update(1)\n",
    "                pbar.set_postfix({\"epoch\": epoch_id})\n",
    "        \n",
    "    return record_dict\n",
    "        \n",
    "\n",
    "epoch = 20\n",
    "\n",
    "model = CNN(num_classes=10)\n",
    "\n",
    "# 1. 定义损失函数 采用交叉熵损失\n",
    "loss_fct = nn.CrossEntropyLoss()\n",
    "# 2. 定义优化器 采用 adam\n",
    "# Optimizers specified in the torch.optim package\n",
    "optimizer = torch.optim.Adam(model.parameters(), lr=0.001)\n",
    "\n",
    "# 1. tensorboard 可视化\n",
    "if not os.path.exists(\"runs\"):\n",
    "    os.mkdir(\"runs\")\n",
    "tensorboard_callback = TensorBoardCallback(\"runs/cifar-10\")\n",
    "tensorboard_callback.draw_model(model, [1, 3, IMAGE_SIZE, IMAGE_SIZE])\n",
    "# 2. save best\n",
    "if not os.path.exists(\"checkpoints\"):\n",
    "    os.makedirs(\"checkpoints\")\n",
    "save_ckpt_callback = SaveCheckpointsCallback(\"checkpoints/cifar-10\", save_step=len(train_dl), save_best_only=True)\n",
    "# 3. early stop\n",
    "early_stop_callback = EarlyStopCallback(patience=5)\n",
    "\n",
    "model = model.to(device)\n"
   ],
   "id": "10352dbae050e03a",
   "outputs": [],
   "execution_count": 19
  },
  {
   "metadata": {
    "ExecuteTime": {
     "end_time": "2025-01-21T09:53:26.244558Z",
     "start_time": "2025-01-21T08:28:27.132575Z"
    }
   },
   "cell_type": "code",
   "source": [
    "record = training(\n",
    "    model,\n",
    "    train_dl,\n",
    "    eval_dl,\n",
    "    epoch,\n",
    "    loss_fct,\n",
    "    optimizer,\n",
    "    tensorboard_callback=tensorboard_callback,\n",
    "    save_ckpt_callback=save_ckpt_callback,\n",
    "    early_stop_callback=early_stop_callback,\n",
    "    eval_step=len(train_dl)\n",
    "    )"
   ],
   "id": "5608a545c231c7eb",
   "outputs": [
    {
     "data": {
      "text/plain": [
       "  0%|          | 0/14080 [00:00<?, ?it/s]"
      ],
      "application/vnd.jupyter.widget-view+json": {
       "version_major": 2,
       "version_minor": 0,
       "model_id": "e4ba22a2ee0b49eab2a7ea9d7027ab8b"
      }
     },
     "metadata": {},
     "output_type": "display_data"
    },
    {
     "name": "stdout",
     "output_type": "stream",
     "text": [
      "Early stop at epoch 6 / global_step 4224\n"
     ]
    }
   ],
   "execution_count": 20
  },
  {
   "metadata": {
    "ExecuteTime": {
     "end_time": "2025-01-21T09:53:27.002955Z",
     "start_time": "2025-01-21T09:53:26.294563Z"
    }
   },
   "cell_type": "code",
   "source": [
    "#画线要注意的是损失是不一定在零到1之间的\n",
    "def plot_learning_curves(record_dict, sample_step=500):\n",
    "    # build DataFrame\n",
    "    train_df = pd.DataFrame(record_dict[\"train\"]).set_index(\"step\").iloc[::sample_step]\n",
    "    val_df = pd.DataFrame(record_dict[\"val\"]).set_index(\"step\")\n",
    "\n",
    "    # plot\n",
    "    fig_num = len(train_df.columns)\n",
    "    fig, axs = plt.subplots(1, fig_num, figsize=(5 * fig_num, 5))\n",
    "    for idx, item in enumerate(train_df.columns):    \n",
    "        axs[idx].plot(train_df.index, train_df[item], label=f\"train_{item}\")\n",
    "        axs[idx].plot(val_df.index, val_df[item], label=f\"val_{item}\")\n",
    "        axs[idx].grid()\n",
    "        axs[idx].legend()\n",
    "        # axs[idx].set_xticks(range(0, train_df.index[-1], 5000))\n",
    "        # axs[idx].set_xticklabels(map(lambda x: f\"{int(x/1000)}k\", range(0, train_df.index[-1], 5000)))\n",
    "        axs[idx].set_xlabel(\"step\")\n",
    "    \n",
    "    plt.show()\n",
    "\n",
    "plot_learning_curves(record, sample_step=10)  #横坐标是 steps"
   ],
   "id": "bf9559971c709648",
   "outputs": [
    {
     "data": {
      "text/plain": [
       "<Figure size 1000x500 with 2 Axes>"
      ],
      "image/png": "[encoded data removed]"
     },
     "metadata": {},
     "output_type": "display_data"
    }
   ],
   "execution_count": 21
  },
  {
   "metadata": {
    "ExecuteTime": {
     "end_time": "2025-01-21T09:53:53.370384Z",
     "start_time": "2025-01-21T09:53:27.006200Z"
    }
   },
   "cell_type": "code",
   "source": [
    "# dataload for evaluating\n",
    "\n",
    "# load checkpoints\n",
    "model.load_state_dict(torch.load(\"checkpoints/cifar-10/best.ckpt\", map_location=\"cpu\"))\n",
    "\n",
    "model.eval()\n",
    "loss, acc = evaluating(model, eval_dl, loss_fct)\n",
    "print(f\"loss:     {loss:.4f}\\naccuracy: {acc:.4f}\")"
   ],
   "id": "9081eff1f588f68d",
   "outputs": [
    {
     "name": "stderr",
     "output_type": "stream",
     "text": [
      "C:\\Users\\ASUS\\AppData\\Local\\Temp\\ipykernel_35316\\1513600467.py:4: FutureWarning: You are using `torch.load` with `weights_only=False` (the current default value), which uses the default pickle module implicitly. It is possible to construct malicious pickle data which will execute arbitrary code during unpickling (See https://github.com/pytorch/pytorch/blob/main/SECURITY.md#untrusted-models for more details). In a future release, the default value for `weights_only` will be flipped to `True`. This limits the functions that could be executed during unpickling. Arbitrary objects will no longer be allowed to be loaded via this mode unless they are explicitly allowlisted by the user via `torch.serialization.add_safe_globals`. We recommend you start setting `weights_only=True` for any use case where you don't have full control of the loaded file. Please open an issue on GitHub for any issues related to this experimental feature.\n",
      "  model.load_state_dict(torch.load(\"checkpoints/cifar-10/best.ckpt\", map_location=\"cpu\"))\n"
     ]
    },
    {
     "name": "stdout",
     "output_type": "stream",
     "text": [
      "loss:     6.9525\n",
      "accuracy: 0.1446\n"
     ]
    }
   ],
   "execution_count": 22
  },
  {
   "metadata": {
    "ExecuteTime": {
     "end_time": "2025-01-21T10:22:56.468491Z",
     "start_time": "2025-01-21T09:53:53.373424Z"
    }
   },
   "cell_type": "code",
   "source": [
    "# test_df\n",
    "test_ds = Cifar10Dataset(\"test\", transform=transforms_eval)\n",
    "test_dl = DataLoader(test_ds, batch_size=batch_size, shuffle=False, drop_last=False)\n",
    "\n",
    "preds_collect = [] # 预测结果收集器\n",
    "model.eval()\n",
    "for data, fake_label in tqdm(test_dl):\n",
    "    data = data.to(device=device)\n",
    "    logits = model(data) #得到预测结果\n",
    "    preds = [test_ds.idx_to_label[idx] for idx in logits.argmax(axis=-1).cpu().tolist()] # 得到预测类别，idx_to_label是id到字符串类别的映射\n",
    "    preds_collect.extend(preds)\n",
    "    \n",
    "test_df[\"label\"] = preds_collect # 增加预测类别列,比赛要求这一列是label\n",
    "test_df.head()"
   ],
   "id": "9b23cc3f9d50e371",
   "outputs": [
    {
     "data": {
      "text/plain": [
       "  0%|          | 0/4688 [00:00<?, ?it/s]"
      ],
      "application/vnd.jupyter.widget-view+json": {
       "version_major": 2,
       "version_minor": 0,
       "model_id": "74801f58138c4263beb796f35f414520"
      }
     },
     "metadata": {},
     "output_type": "display_data"
    },
    {
     "data": {
      "text/plain": [
       "                   filepath class       label\n",
       "0  cifar-10\\test\\test\\1.png   cat  automobile\n",
       "1  cifar-10\\test\\test\\2.png   cat       horse\n",
       "2  cifar-10\\test\\test\\3.png   cat  automobile\n",
       "3  cifar-10\\test\\test\\4.png   cat    airplane\n",
       "4  cifar-10\\test\\test\\5.png   cat    airplane"
      ],
      "text/html": [
       "<div>\n",
       "<style scoped>\n",
       "    .dataframe tbody tr th:only-of-type {\n",
       "        vertical-align: middle;\n",
       "    }\n",
       "\n",
       "    .dataframe tbody tr th {\n",
       "        vertical-align: top;\n",
       "    }\n",
       "\n",
       "    .dataframe thead th {\n",
       "        text-align: right;\n",
       "    }\n",
       "</style>\n",
       "<table border=\"1\" class=\"dataframe\">\n",
       "  <thead>\n",
       "    <tr style=\"text-align: right;\">\n",
       "      <th></th>\n",
       "      <th>filepath</th>\n",
       "      <th>class</th>\n",
       "      <th>label</th>\n",
       "    </tr>\n",
       "  </thead>\n",
       "  <tbody>\n",
       "    <tr>\n",
       "      <th>0</th>\n",
       "      <td>cifar-10\\test\\test\\1.png</td>\n",
       "      <td>cat</td>\n",
       "      <td>automobile</td>\n",
       "    </tr>\n",
       "    <tr>\n",
       "      <th>1</th>\n",
       "      <td>cifar-10\\test\\test\\2.png</td>\n",
       "      <td>cat</td>\n",
       "      <td>horse</td>\n",
       "    </tr>\n",
       "    <tr>\n",
       "      <th>2</th>\n",
       "      <td>cifar-10\\test\\test\\3.png</td>\n",
       "      <td>cat</td>\n",
       "      <td>automobile</td>\n",
       "    </tr>\n",
       "    <tr>\n",
       "      <th>3</th>\n",
       "      <td>cifar-10\\test\\test\\4.png</td>\n",
       "      <td>cat</td>\n",
       "      <td>airplane</td>\n",
       "    </tr>\n",
       "    <tr>\n",
       "      <th>4</th>\n",
       "      <td>cifar-10\\test\\test\\5.png</td>\n",
       "      <td>cat</td>\n",
       "      <td>airplane</td>\n",
       "    </tr>\n",
       "  </tbody>\n",
       "</table>\n",
       "</div>"
      ]
     },
     "execution_count": 23,
     "metadata": {},
     "output_type": "execute_result"
    }
   ],
   "execution_count": 23
  },
  {
   "metadata": {
    "ExecuteTime": {
     "end_time": "2025-01-21T10:22:56.944285Z",
     "start_time": "2025-01-21T10:22:56.469565Z"
    }
   },
   "cell_type": "code",
   "source": [
    "# 导出 submission.csv\n",
    "test_df.to_csv(\"submission.csv\", index=False)"
   ],
   "id": "c6b0b9a270e17af3",
   "outputs": [],
   "execution_count": 24
  }
 ],
 "metadata": {
  "kernelspec": {
   "display_name": "Python 3",
   "language": "python",
   "name": "python3"
  },
  "language_info": {
   "codemirror_mode": {
    "name": "ipython",
    "version": 2
   },
   "file_extension": ".py",
   "mimetype": "text/x-python",
   "name": "python",
   "nbconvert_exporter": "python",
   "pygments_lexer": "ipython2",
   "version": "2.7.6"
  }
 },
 "nbformat": 4,
 "nbformat_minor": 5
}
