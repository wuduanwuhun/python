{
 "cells": [
  {
   "metadata": {
    "ExecuteTime": {
     "end_time": "2025-01-09T11:58:27.133763Z",
     "start_time": "2025-01-09T11:58:27.126830Z"
    }
   },
   "cell_type": "code",
   "source": [
    "# MinMaxScaler, StandardScaler练习并理解原理\n",
    "#MinMaxScaler:通过将每个特性缩放到给定范围来转换特性。这个估计量对每个特征进行了缩放和单独转换，使其位于训练集的给定范围内，即在0和1之间。\n",
    "from sklearn.preprocessing import MinMaxScaler, StandardScaler\n",
    "def min_max_scaler():\n",
    "    num = MinMaxScaler(feature_range=(0, 1))# 初始化一个MinMaxScaler对象，并将其特征范围设置为0到1\n",
    "    data = num.fit_transform([[770, 2, 14, 40], [64, 4, 13, 47], [75, 3, 15, 46]])# 对数据进行转换，使其位于0到1之间\n",
    "    print(data)\n",
    "    out = num.transform([[1,2,3,4],[6,5,8,7]])# 对单个数据点进行转换，使其位于0到1之间\n",
    "    print(out)\n",
    "    return None\n",
    "min_max_scaler()"
   ],
   "id": "fae69199ee368121",
   "outputs": [
    {
     "name": "stdout",
     "output_type": "stream",
     "text": [
      "[[1.         0.         0.5        0.        ]\n",
      " [0.         1.         0.         1.        ]\n",
      " [0.01558074 0.5        1.         0.85714286]]\n",
      "[[-0.08923513  0.         -5.         -5.14285714]\n",
      " [-0.08215297  1.5        -2.5        -4.71428571]]\n"
     ]
    }
   ],
   "execution_count": 3
  },
  {
   "metadata": {
    "ExecuteTime": {
     "end_time": "2025-01-09T12:03:46.193211Z",
     "start_time": "2025-01-09T12:03:46.186219Z"
    }
   },
   "cell_type": "code",
   "source": [
    "#StandardScaler:用于对数据进行标准化处理。标准化是将特征缩放到给定的范围（通常是均值为0，标准差为1）的过程，StandardScaler通过计算特征列的均值和标准差来实现这一转换\n",
    "def standard_scaler():\n",
    "    word = StandardScaler()# 初始化一个StandardScaler对象\n",
    "    data = word.fit_transform([[1., -1., 3.],\n",
    "                              [2., 4., 2.],\n",
    "                              [4., 6., -1.]])# 对数据进行转换，使其具有均值为0和单位方差\n",
    "    print(data)\n",
    "    print(word.mean_)# 打印数据的均值\n",
    "    print(word.var_)# 打印数据的方差\n",
    "    print(word.n_samples_seen_)# 打印数据的样本数\n",
    "    return data\n",
    "\n",
    "data = standard_scaler()"
   ],
   "id": "e3de8d5fb2bffbb3",
   "outputs": [
    {
     "name": "stdout",
     "output_type": "stream",
     "text": [
      "[[-1.06904497 -1.35873244  0.98058068]\n",
      " [-0.26726124  0.33968311  0.39223227]\n",
      " [ 1.33630621  1.01904933 -1.37281295]]\n",
      "[2.33333333 3.         1.33333333]\n",
      "[1.55555556 8.66666667 2.88888889]\n",
      "3\n"
     ]
    }
   ],
   "execution_count": 4
  }
 ],
 "metadata": {
  "kernelspec": {
   "display_name": "Python 3",
   "language": "python",
   "name": "python3"
  },
  "language_info": {
   "codemirror_mode": {
    "name": "ipython",
    "version": 2
   },
   "file_extension": ".py",
   "mimetype": "text/x-python",
   "name": "python",
   "nbconvert_exporter": "python",
   "pygments_lexer": "ipython2",
   "version": "2.7.6"
  }
 },
 "nbformat": 4,
 "nbformat_minor": 5
}
