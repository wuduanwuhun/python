{
 "cells": [
  {
   "cell_type": "code",
   "id": "initial_id",
   "metadata": {
    "collapsed": true,
    "ExecuteTime": {
     "end_time": "2025-01-09T12:16:22.358465Z",
     "start_time": "2025-01-09T12:16:22.351653Z"
    }
   },
   "source": [
    "import numpy as np\n",
    "# 完成SimpleImputer的练习\n",
    "from sklearn.impute import SimpleImputer\n",
    "def Simple_Imputer():\n",
    "    num = SimpleImputer(missing_values=np.nan, strategy='mean')\n",
    "    data = num.fit_transform([[2,4],[np.nan,5],[7,8],[1,2]])\n",
    "    print(data)\n",
    "    return None\n",
    "\n",
    "Simple_Imputer()"
   ],
   "outputs": [
    {
     "name": "stdout",
     "output_type": "stream",
     "text": [
      "[[2.         4.        ]\n",
      " [3.33333333 5.        ]\n",
      " [7.         8.        ]\n",
      " [1.         2.        ]]\n"
     ]
    }
   ],
   "execution_count": 5
  }
 ],
 "metadata": {
  "kernelspec": {
   "display_name": "Python 3",
   "language": "python",
   "name": "python3"
  },
  "language_info": {
   "codemirror_mode": {
    "name": "ipython",
    "version": 2
   },
   "file_extension": ".py",
   "mimetype": "text/x-python",
   "name": "python",
   "nbconvert_exporter": "python",
   "pygments_lexer": "ipython2",
   "version": "2.7.6"
  }
 },
 "nbformat": 4,
 "nbformat_minor": 5
}
