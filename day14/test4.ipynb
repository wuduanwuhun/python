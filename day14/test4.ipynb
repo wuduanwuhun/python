{
 "cells": [
  {
   "cell_type": "code",
   "id": "initial_id",
   "metadata": {
    "collapsed": true,
    "ExecuteTime": {
     "end_time": "2025-01-09T12:33:04.215480Z",
     "start_time": "2025-01-09T12:33:04.207609Z"
    }
   },
   "source": [
    "from sklearn.decomposition import PCA\n",
    "from sklearn.feature_selection import VarianceThreshold\n",
    "# 完成VarianceThreshold，PCA的练习并理解原理\n",
    "#VarianceThreshold:其特征选择原理只关心特征变量X，而不需要数据中的输出结果y，因此可以被用于无监督学习\n",
    "def variance_threshold():\n",
    "    num = VarianceThreshold(threshold=0.1)#设定方差阈值，低于此值的特征将被去除\n",
    "    data = num.fit_transform([[0,2,2,3],\n",
    "                              [0,1,4,3],\n",
    "                              [0,1,2,3],])#对数据进行拟合和转换\n",
    "    print(data)\n",
    "    print('支持是 %s' % num.get_support(True))\n",
    "    return None\n",
    "\n",
    "variance_threshold()"
   ],
   "outputs": [
    {
     "name": "stdout",
     "output_type": "stream",
     "text": [
      "[[2 2]\n",
      " [1 4]\n",
      " [1 2]]\n",
      "支持是 [1 2]\n"
     ]
    }
   ],
   "execution_count": 11
  },
  {
   "metadata": {
    "ExecuteTime": {
     "end_time": "2025-01-09T12:39:39.906879Z",
     "start_time": "2025-01-09T12:39:39.886360Z"
    }
   },
   "cell_type": "code",
   "source": [
    "import numpy as np\n",
    "from sklearn.decomposition import PCA\n",
    "\n",
    "\n",
    "# PCA：用于探索高维数据结构的技术。PCA 通常用于高维数据集的探索与可视化；还可以用于数据压缩，数据预处理等。PCA 可以把可能具有相关性的高维变量合成线性无关的低维变量，称为主成分。新的低维数据集会尽可能的保留原始数据的变量。\n",
    "def pca():\n",
    "    original_value = np.array([[2, 8, 4, 5],\n",
    "                               [6, 3, 0, 8],\n",
    "                               [5, 4, 9, 1]])#原始数据\n",
    "    print(np.var(original_value, axis=0).sum())#计算原始数据的方差\n",
    "    pca = PCA(n_components=0.99)#设定主成分个数\n",
    "    data = pca.fit_transform(original_value)#对数据进行拟合和转换\n",
    "    print(data)\n",
    "    print(type(data))\n",
    "    print(np.var(data, axis=0).sum())#计算转换后的方差\n",
    "    print(pca.explained_variance_ratio_)#解释方差比率\n",
    "    print(pca.explained_variance_ratio_.sum())#解释方差比率之和\n",
    "    return None\n",
    "pca()"
   ],
   "id": "8e9d391259252b91",
   "outputs": [
    {
     "name": "stdout",
     "output_type": "stream",
     "text": [
      "29.333333333333336\n",
      "[[-1.28620952e-15  3.82970843e+00]\n",
      " [-5.74456265e+00 -1.91485422e+00]\n",
      " [ 5.74456265e+00 -1.91485422e+00]]\n",
      "<class 'numpy.ndarray'>\n",
      "29.333333333333332\n",
      "[0.75 0.25]\n",
      "1.0\n"
     ]
    }
   ],
   "execution_count": 17
  },
  {
   "metadata": {},
   "cell_type": "code",
   "outputs": [],
   "execution_count": null,
   "source": "",
   "id": "7a8ceecf53df22dc"
  }
 ],
 "metadata": {
  "kernelspec": {
   "display_name": "Python 3",
   "language": "python",
   "name": "python3"
  },
  "language_info": {
   "codemirror_mode": {
    "name": "ipython",
    "version": 2
   },
   "file_extension": ".py",
   "mimetype": "text/x-python",
   "name": "python",
   "nbconvert_exporter": "python",
   "pygments_lexer": "ipython2",
   "version": "2.7.6"
  }
 },
 "nbformat": 4,
 "nbformat_minor": 5
}
