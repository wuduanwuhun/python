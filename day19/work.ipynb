{
 "cells": [
  {
   "cell_type": "code",
   "id": "initial_id",
   "metadata": {
    "collapsed": true,
    "ExecuteTime": {
     "end_time": "2025-01-15T05:39:13.025709Z",
     "start_time": "2025-01-15T05:39:13.017036Z"
    }
   },
   "source": [
    "# 理解FashionMNIST数据集\n",
    "import matplotlib as mpl\n",
    "import matplotlib.pyplot as plt\n",
    "%matplotlib inline\n",
    "import numpy as np\n",
    "import sklearn\n",
    "import pandas as pd\n",
    "import os\n",
    "import sys\n",
    "import time\n",
    "from tqdm.auto import tqdm\n",
    "import torch\n",
    "import torch.nn as nn\n",
    "import torch.nn.functional as F\n",
    "\n",
    "print(sys.version_info)\n",
    "for module in mpl, np, pd, sklearn, torch:\n",
    "    print(module.__name__, module.__version__)# 显示版本信息\n",
    "    \n",
    "device = torch.device(\"cuda:0\") if torch.cuda.is_available() else torch.device(\"cpu\")# 判断是否有GPU，如果有则使用GPU，否则使用CPU\n",
    "print(device)# 显示设备信息"
   ],
   "outputs": [
    {
     "name": "stdout",
     "output_type": "stream",
     "text": [
      "sys.version_info(major=3, minor=12, micro=2, releaselevel='final', serial=0)\n",
      "matplotlib 3.10.0\n",
      "numpy 2.2.1\n",
      "pandas 2.2.3\n",
      "sklearn 1.6.0\n",
      "torch 2.5.1+cpu\n",
      "cpu\n"
     ]
    }
   ],
   "execution_count": 28
  },
  {
   "metadata": {
    "ExecuteTime": {
     "end_time": "2025-01-15T05:39:13.092272Z",
     "start_time": "2025-01-15T05:39:13.038595Z"
    }
   },
   "cell_type": "code",
   "source": [
    "from torchvision import datasets\n",
    "from torchvision.transforms import ToTensor\n",
    "from torchvision import transforms\n",
    "\n",
    "transform = transforms.Compose([\n",
    "     transforms.ToTensor()# 将图片转换为Tensor\n",
    "])\n",
    "train_ds = datasets.FashionMNIST(\n",
    "    root=\"data\",\n",
    "    train=True,\n",
    "    download=True,\n",
    "    transform=transform\n",
    ")# 加载数据集，并将其转换为Tensor格式\n",
    "\n",
    "test_ds = datasets.FashionMNIST(\n",
    "    root=\"data\",\n",
    "    train=False,\n",
    "    download=True,\n",
    "    transform=transform\n",
    ")# 加载测试数据集，并将其转换为Tensor格式"
   ],
   "id": "b98b0b135288584",
   "outputs": [],
   "execution_count": 29
  },
  {
   "metadata": {
    "ExecuteTime": {
     "end_time": "2025-01-15T05:39:13.106365Z",
     "start_time": "2025-01-15T05:39:13.098815Z"
    }
   },
   "cell_type": "code",
   "source": "type(train_ds)# 显示数据集类型",
   "id": "8b56e08c1dcc600b",
   "outputs": [
    {
     "data": {
      "text/plain": [
       "torchvision.datasets.mnist.FashionMNIST"
      ]
     },
     "execution_count": 30,
     "metadata": {},
     "output_type": "execute_result"
    }
   ],
   "execution_count": 30
  },
  {
   "metadata": {
    "ExecuteTime": {
     "end_time": "2025-01-15T05:39:13.123231Z",
     "start_time": "2025-01-15T05:39:13.117100Z"
    }
   },
   "cell_type": "code",
   "source": "len(train_ds)# 显示训练数据集的长度",
   "id": "682d18ffbd86a855",
   "outputs": [
    {
     "data": {
      "text/plain": [
       "60000"
      ]
     },
     "execution_count": 31,
     "metadata": {},
     "output_type": "execute_result"
    }
   ],
   "execution_count": 31
  },
  {
   "metadata": {
    "ExecuteTime": {
     "end_time": "2025-01-15T05:39:13.132906Z",
     "start_time": "2025-01-15T05:39:13.125249Z"
    }
   },
   "cell_type": "code",
   "source": "type(train_ds[0])# 显示训练数据集的第一个元素类型",
   "id": "c48b8d0a545d0851",
   "outputs": [
    {
     "data": {
      "text/plain": [
       "tuple"
      ]
     },
     "execution_count": 32,
     "metadata": {},
     "output_type": "execute_result"
    }
   ],
   "execution_count": 32
  },
  {
   "metadata": {
    "ExecuteTime": {
     "end_time": "2025-01-15T05:39:48.557435Z",
     "start_time": "2025-01-15T05:39:48.550340Z"
    }
   },
   "cell_type": "code",
   "source": [
    "img, label = train_ds[0]# 显示第一个元素的图像和标签\n",
    "img.shape, label# 显示第一个元素的形状和标签"
   ],
   "id": "5df5a951896d6f04",
   "outputs": [
    {
     "data": {
      "text/plain": [
       "(torch.Size([1, 28, 28]), 9)"
      ]
     },
     "execution_count": 50,
     "metadata": {},
     "output_type": "execute_result"
    }
   ],
   "execution_count": 50
  },
  {
   "metadata": {
    "ExecuteTime": {
     "end_time": "2025-01-15T05:39:13.217677Z",
     "start_time": "2025-01-15T05:39:13.209274Z"
    }
   },
   "cell_type": "code",
   "source": "type(img)# 显示图像类型",
   "id": "ac61be50fd46d856",
   "outputs": [
    {
     "data": {
      "text/plain": [
       "PIL.Image.Image"
      ]
     },
     "execution_count": 34,
     "metadata": {},
     "output_type": "execute_result"
    }
   ],
   "execution_count": 34
  },
  {
   "metadata": {
    "ExecuteTime": {
     "end_time": "2025-01-15T05:39:52.200376Z",
     "start_time": "2025-01-15T05:39:52.189904Z"
    }
   },
   "cell_type": "code",
   "source": "img[0]# 显示第一个通道的图像",
   "id": "1451a9ac27fe1018",
   "outputs": [
    {
     "data": {
      "text/plain": [
       "tensor([[0.0000, 0.0000, 0.0000, 0.0000, 0.0000, 0.0000, 0.0000, 0.0000, 0.0000,\n",
       "         0.0000, 0.0000, 0.0000, 0.0000, 0.0000, 0.0000, 0.0000, 0.0000, 0.0000,\n",
       "         0.0000, 0.0000, 0.0000, 0.0000, 0.0000, 0.0000, 0.0000, 0.0000, 0.0000,\n",
       "         0.0000],\n",
       "        [0.0000, 0.0000, 0.0000, 0.0000, 0.0000, 0.0000, 0.0000, 0.0000, 0.0000,\n",
       "         0.0000, 0.0000, 0.0000, 0.0000, 0.0000, 0.0000, 0.0000, 0.0000, 0.0000,\n",
       "         0.0000, 0.0000, 0.0000, 0.0000, 0.0000, 0.0000, 0.0000, 0.0000, 0.0000,\n",
       "         0.0000],\n",
       "        [0.0000, 0.0000, 0.0000, 0.0000, 0.0000, 0.0000, 0.0000, 0.0000, 0.0000,\n",
       "         0.0000, 0.0000, 0.0000, 0.0000, 0.0000, 0.0000, 0.0000, 0.0000, 0.0000,\n",
       "         0.0000, 0.0000, 0.0000, 0.0000, 0.0000, 0.0000, 0.0000, 0.0000, 0.0000,\n",
       "         0.0000],\n",
       "        [0.0000, 0.0000, 0.0000, 0.0000, 0.0000, 0.0000, 0.0000, 0.0000, 0.0000,\n",
       "         0.0000, 0.0000, 0.0000, 0.0039, 0.0000, 0.0000, 0.0510, 0.2863, 0.0000,\n",
       "         0.0000, 0.0039, 0.0157, 0.0000, 0.0000, 0.0000, 0.0000, 0.0039, 0.0039,\n",
       "         0.0000],\n",
       "        [0.0000, 0.0000, 0.0000, 0.0000, 0.0000, 0.0000, 0.0000, 0.0000, 0.0000,\n",
       "         0.0000, 0.0000, 0.0000, 0.0118, 0.0000, 0.1412, 0.5333, 0.4980, 0.2431,\n",
       "         0.2118, 0.0000, 0.0000, 0.0000, 0.0039, 0.0118, 0.0157, 0.0000, 0.0000,\n",
       "         0.0118],\n",
       "        [0.0000, 0.0000, 0.0000, 0.0000, 0.0000, 0.0000, 0.0000, 0.0000, 0.0000,\n",
       "         0.0000, 0.0000, 0.0000, 0.0235, 0.0000, 0.4000, 0.8000, 0.6902, 0.5255,\n",
       "         0.5647, 0.4824, 0.0902, 0.0000, 0.0000, 0.0000, 0.0000, 0.0471, 0.0392,\n",
       "         0.0000],\n",
       "        [0.0000, 0.0000, 0.0000, 0.0000, 0.0000, 0.0000, 0.0000, 0.0000, 0.0000,\n",
       "         0.0000, 0.0000, 0.0000, 0.0000, 0.0000, 0.6078, 0.9255, 0.8118, 0.6980,\n",
       "         0.4196, 0.6118, 0.6314, 0.4275, 0.2510, 0.0902, 0.3020, 0.5098, 0.2824,\n",
       "         0.0588],\n",
       "        [0.0000, 0.0000, 0.0000, 0.0000, 0.0000, 0.0000, 0.0000, 0.0000, 0.0000,\n",
       "         0.0000, 0.0000, 0.0039, 0.0000, 0.2706, 0.8118, 0.8745, 0.8549, 0.8471,\n",
       "         0.8471, 0.6392, 0.4980, 0.4745, 0.4784, 0.5725, 0.5529, 0.3451, 0.6745,\n",
       "         0.2588],\n",
       "        [0.0000, 0.0000, 0.0000, 0.0000, 0.0000, 0.0000, 0.0000, 0.0000, 0.0000,\n",
       "         0.0039, 0.0039, 0.0039, 0.0000, 0.7843, 0.9098, 0.9098, 0.9137, 0.8980,\n",
       "         0.8745, 0.8745, 0.8431, 0.8353, 0.6431, 0.4980, 0.4824, 0.7686, 0.8980,\n",
       "         0.0000],\n",
       "        [0.0000, 0.0000, 0.0000, 0.0000, 0.0000, 0.0000, 0.0000, 0.0000, 0.0000,\n",
       "         0.0000, 0.0000, 0.0000, 0.0000, 0.7176, 0.8824, 0.8471, 0.8745, 0.8941,\n",
       "         0.9216, 0.8902, 0.8784, 0.8706, 0.8784, 0.8667, 0.8745, 0.9608, 0.6784,\n",
       "         0.0000],\n",
       "        [0.0000, 0.0000, 0.0000, 0.0000, 0.0000, 0.0000, 0.0000, 0.0000, 0.0000,\n",
       "         0.0000, 0.0000, 0.0000, 0.0000, 0.7569, 0.8941, 0.8549, 0.8353, 0.7765,\n",
       "         0.7059, 0.8314, 0.8235, 0.8275, 0.8353, 0.8745, 0.8627, 0.9529, 0.7922,\n",
       "         0.0000],\n",
       "        [0.0000, 0.0000, 0.0000, 0.0000, 0.0000, 0.0000, 0.0000, 0.0000, 0.0000,\n",
       "         0.0039, 0.0118, 0.0000, 0.0471, 0.8588, 0.8627, 0.8314, 0.8549, 0.7529,\n",
       "         0.6627, 0.8902, 0.8157, 0.8549, 0.8784, 0.8314, 0.8863, 0.7725, 0.8196,\n",
       "         0.2039],\n",
       "        [0.0000, 0.0000, 0.0000, 0.0000, 0.0000, 0.0000, 0.0000, 0.0000, 0.0000,\n",
       "         0.0000, 0.0235, 0.0000, 0.3882, 0.9569, 0.8706, 0.8627, 0.8549, 0.7961,\n",
       "         0.7765, 0.8667, 0.8431, 0.8353, 0.8706, 0.8627, 0.9608, 0.4667, 0.6549,\n",
       "         0.2196],\n",
       "        [0.0000, 0.0000, 0.0000, 0.0000, 0.0000, 0.0000, 0.0000, 0.0000, 0.0000,\n",
       "         0.0157, 0.0000, 0.0000, 0.2157, 0.9255, 0.8941, 0.9020, 0.8941, 0.9412,\n",
       "         0.9098, 0.8353, 0.8549, 0.8745, 0.9176, 0.8510, 0.8510, 0.8196, 0.3608,\n",
       "         0.0000],\n",
       "        [0.0000, 0.0000, 0.0039, 0.0157, 0.0235, 0.0275, 0.0078, 0.0000, 0.0000,\n",
       "         0.0000, 0.0000, 0.0000, 0.9294, 0.8863, 0.8510, 0.8745, 0.8706, 0.8588,\n",
       "         0.8706, 0.8667, 0.8471, 0.8745, 0.8980, 0.8431, 0.8549, 1.0000, 0.3020,\n",
       "         0.0000],\n",
       "        [0.0000, 0.0118, 0.0000, 0.0000, 0.0000, 0.0000, 0.0000, 0.0000, 0.0000,\n",
       "         0.2431, 0.5686, 0.8000, 0.8941, 0.8118, 0.8353, 0.8667, 0.8549, 0.8157,\n",
       "         0.8275, 0.8549, 0.8784, 0.8745, 0.8588, 0.8431, 0.8784, 0.9569, 0.6235,\n",
       "         0.0000],\n",
       "        [0.0000, 0.0000, 0.0000, 0.0000, 0.0706, 0.1725, 0.3216, 0.4196, 0.7412,\n",
       "         0.8941, 0.8627, 0.8706, 0.8510, 0.8863, 0.7843, 0.8039, 0.8275, 0.9020,\n",
       "         0.8784, 0.9176, 0.6902, 0.7373, 0.9804, 0.9725, 0.9137, 0.9333, 0.8431,\n",
       "         0.0000],\n",
       "        [0.0000, 0.2235, 0.7333, 0.8157, 0.8784, 0.8667, 0.8784, 0.8157, 0.8000,\n",
       "         0.8392, 0.8157, 0.8196, 0.7843, 0.6235, 0.9608, 0.7569, 0.8078, 0.8745,\n",
       "         1.0000, 1.0000, 0.8667, 0.9176, 0.8667, 0.8275, 0.8627, 0.9098, 0.9647,\n",
       "         0.0000],\n",
       "        [0.0118, 0.7922, 0.8941, 0.8784, 0.8667, 0.8275, 0.8275, 0.8392, 0.8039,\n",
       "         0.8039, 0.8039, 0.8627, 0.9412, 0.3137, 0.5882, 1.0000, 0.8980, 0.8667,\n",
       "         0.7373, 0.6039, 0.7490, 0.8235, 0.8000, 0.8196, 0.8706, 0.8941, 0.8824,\n",
       "         0.0000],\n",
       "        [0.3843, 0.9137, 0.7765, 0.8235, 0.8706, 0.8980, 0.8980, 0.9176, 0.9765,\n",
       "         0.8627, 0.7608, 0.8431, 0.8510, 0.9451, 0.2549, 0.2863, 0.4157, 0.4588,\n",
       "         0.6588, 0.8588, 0.8667, 0.8431, 0.8510, 0.8745, 0.8745, 0.8784, 0.8980,\n",
       "         0.1137],\n",
       "        [0.2941, 0.8000, 0.8314, 0.8000, 0.7569, 0.8039, 0.8275, 0.8824, 0.8471,\n",
       "         0.7255, 0.7725, 0.8078, 0.7765, 0.8353, 0.9412, 0.7647, 0.8902, 0.9608,\n",
       "         0.9373, 0.8745, 0.8549, 0.8314, 0.8196, 0.8706, 0.8627, 0.8667, 0.9020,\n",
       "         0.2627],\n",
       "        [0.1882, 0.7961, 0.7176, 0.7608, 0.8353, 0.7725, 0.7255, 0.7451, 0.7608,\n",
       "         0.7529, 0.7922, 0.8392, 0.8588, 0.8667, 0.8627, 0.9255, 0.8824, 0.8471,\n",
       "         0.7804, 0.8078, 0.7294, 0.7098, 0.6941, 0.6745, 0.7098, 0.8039, 0.8078,\n",
       "         0.4510],\n",
       "        [0.0000, 0.4784, 0.8588, 0.7569, 0.7020, 0.6706, 0.7176, 0.7686, 0.8000,\n",
       "         0.8235, 0.8353, 0.8118, 0.8275, 0.8235, 0.7843, 0.7686, 0.7608, 0.7490,\n",
       "         0.7647, 0.7490, 0.7765, 0.7529, 0.6902, 0.6118, 0.6549, 0.6941, 0.8235,\n",
       "         0.3608],\n",
       "        [0.0000, 0.0000, 0.2902, 0.7412, 0.8314, 0.7490, 0.6863, 0.6745, 0.6863,\n",
       "         0.7098, 0.7255, 0.7373, 0.7412, 0.7373, 0.7569, 0.7765, 0.8000, 0.8196,\n",
       "         0.8235, 0.8235, 0.8275, 0.7373, 0.7373, 0.7608, 0.7529, 0.8471, 0.6667,\n",
       "         0.0000],\n",
       "        [0.0078, 0.0000, 0.0000, 0.0000, 0.2588, 0.7843, 0.8706, 0.9294, 0.9373,\n",
       "         0.9490, 0.9647, 0.9529, 0.9569, 0.8667, 0.8627, 0.7569, 0.7490, 0.7020,\n",
       "         0.7137, 0.7137, 0.7098, 0.6902, 0.6510, 0.6588, 0.3882, 0.2275, 0.0000,\n",
       "         0.0000],\n",
       "        [0.0000, 0.0000, 0.0000, 0.0000, 0.0000, 0.0000, 0.0000, 0.1569, 0.2392,\n",
       "         0.1725, 0.2824, 0.1608, 0.1373, 0.0000, 0.0000, 0.0000, 0.0000, 0.0000,\n",
       "         0.0000, 0.0000, 0.0000, 0.0000, 0.0000, 0.0000, 0.0000, 0.0000, 0.0000,\n",
       "         0.0000],\n",
       "        [0.0000, 0.0000, 0.0000, 0.0000, 0.0000, 0.0000, 0.0000, 0.0000, 0.0000,\n",
       "         0.0000, 0.0000, 0.0000, 0.0000, 0.0000, 0.0000, 0.0000, 0.0000, 0.0000,\n",
       "         0.0000, 0.0000, 0.0000, 0.0000, 0.0000, 0.0000, 0.0000, 0.0000, 0.0000,\n",
       "         0.0000],\n",
       "        [0.0000, 0.0000, 0.0000, 0.0000, 0.0000, 0.0000, 0.0000, 0.0000, 0.0000,\n",
       "         0.0000, 0.0000, 0.0000, 0.0000, 0.0000, 0.0000, 0.0000, 0.0000, 0.0000,\n",
       "         0.0000, 0.0000, 0.0000, 0.0000, 0.0000, 0.0000, 0.0000, 0.0000, 0.0000,\n",
       "         0.0000]])"
      ]
     },
     "execution_count": 51,
     "metadata": {},
     "output_type": "execute_result"
    }
   ],
   "execution_count": 51
  },
  {
   "metadata": {
    "ExecuteTime": {
     "end_time": "2025-01-15T05:39:13.411881Z",
     "start_time": "2025-01-15T05:39:13.363893Z"
    }
   },
   "cell_type": "code",
   "source": "img# 显示图像",
   "id": "cf5ea391b6ac3e33",
   "outputs": [
    {
     "data": {
      "text/plain": [
       "<PIL.Image.Image image mode=L size=28x28>"
      ],
      "image/png": "[encoded data removed]",
      "image/jpeg": "[encoded data removed]"
     },
     "execution_count": 36,
     "metadata": {},
     "output_type": "execute_result"
    }
   ],
   "execution_count": 36
  },
  {
   "metadata": {
    "ExecuteTime": {
     "end_time": "2025-01-15T05:40:04.447371Z",
     "start_time": "2025-01-15T05:39:56.751985Z"
    }
   },
   "cell_type": "code",
   "source": [
    "def cal_mean_std(ds):\n",
    "    mean = 0.\n",
    "    std = 0.\n",
    "    for img, _ in ds: # 遍历数据集，计算每个图像的均值和标准差\n",
    "        mean += img.mean(dim=(1, 2))# 计算每个图像的均值和标准差\n",
    "        std += img.std(dim=(1, 2))# 计算每个图像的均值和标准差\n",
    "    mean /= len(ds)# 计算每个图像的均值和标准差\n",
    "    std /= len(ds)# 计算每个图像的均值和标准差\n",
    "    return mean, std\n",
    "\n",
    "print(cal_mean_std(train_ds))"
   ],
   "id": "2d78f508577b6ea3",
   "outputs": [
    {
     "name": "stdout",
     "output_type": "stream",
     "text": [
      "(tensor([0.2860]), tensor([0.3205]))\n"
     ]
    }
   ],
   "execution_count": 52
  },
  {
   "metadata": {
    "ExecuteTime": {
     "end_time": "2025-01-15T05:39:13.585043Z",
     "start_time": "2025-01-15T05:39:13.575641Z"
    }
   },
   "cell_type": "code",
   "source": "type(img)# 显示图像类型",
   "id": "3b31ba24f3f96860",
   "outputs": [
    {
     "data": {
      "text/plain": [
       "PIL.Image.Image"
      ]
     },
     "execution_count": 38,
     "metadata": {},
     "output_type": "execute_result"
    }
   ],
   "execution_count": 38
  },
  {
   "metadata": {
    "ExecuteTime": {
     "end_time": "2025-01-15T05:39:13.691803Z",
     "start_time": "2025-01-15T05:39:13.683076Z"
    }
   },
   "cell_type": "code",
   "source": "label# 显示标签",
   "id": "cfd6fc6990dbf15c",
   "outputs": [
    {
     "data": {
      "text/plain": [
       "9"
      ]
     },
     "execution_count": 39,
     "metadata": {},
     "output_type": "execute_result"
    }
   ],
   "execution_count": 39
  },
  {
   "metadata": {
    "ExecuteTime": {
     "end_time": "2025-01-15T05:39:13.745019Z",
     "start_time": "2025-01-15T05:39:13.735814Z"
    }
   },
   "cell_type": "code",
   "source": "type(img)# 显示图像类型",
   "id": "c193cbdef2b06bee",
   "outputs": [
    {
     "data": {
      "text/plain": [
       "PIL.Image.Image"
      ]
     },
     "execution_count": 40,
     "metadata": {},
     "output_type": "execute_result"
    }
   ],
   "execution_count": 40
  },
  {
   "metadata": {
    "ExecuteTime": {
     "end_time": "2025-01-15T05:39:13.796566Z",
     "start_time": "2025-01-15T05:39:13.788725Z"
    }
   },
   "cell_type": "code",
   "source": "label# 显示标签",
   "id": "6710467fa3d39a13",
   "outputs": [
    {
     "data": {
      "text/plain": [
       "9"
      ]
     },
     "execution_count": 41,
     "metadata": {},
     "output_type": "execute_result"
    }
   ],
   "execution_count": 41
  },
  {
   "metadata": {
    "ExecuteTime": {
     "end_time": "2025-01-15T05:39:13.839269Z",
     "start_time": "2025-01-15T05:39:13.830440Z"
    }
   },
   "cell_type": "code",
   "source": [
    "def show_img_content(img):\n",
    "    from PIL import Image\n",
    "    print(\"图像大小:\", img.size)\n",
    "    print(\"图像模式:\", img.mode)\n",
    "    if img.mode == 'L':\n",
    "        pixel_values = list(img.getdata())# 显示图像的像素值\n",
    "        print(pixel_values)# 显示图像的像素值\n",
    "show_img_content(img)# 显示图像的内容"
   ],
   "id": "43c17f886011bd6",
   "outputs": [
    {
     "name": "stdout",
     "output_type": "stream",
     "text": [
      "图像大小: (28, 28)\n",
      "图像模式: L\n",
      "[0, 0, 0, 0, 0, 0, 0, 0, 0, 0, 0, 0, 0, 0, 0, 0, 0, 0, 0, 0, 0, 0, 0, 0, 0, 0, 0, 0, 0, 0, 0, 0, 0, 0, 0, 0, 0, 0, 0, 0, 0, 0, 0, 0, 0, 0, 0, 0, 0, 0, 0, 0, 0, 0, 0, 0, 0, 0, 0, 0, 0, 0, 0, 0, 0, 0, 0, 0, 0, 0, 0, 0, 0, 0, 0, 0, 0, 0, 0, 0, 0, 0, 0, 0, 0, 0, 0, 0, 0, 0, 0, 0, 0, 0, 0, 0, 1, 0, 0, 13, 73, 0, 0, 1, 4, 0, 0, 0, 0, 1, 1, 0, 0, 0, 0, 0, 0, 0, 0, 0, 0, 0, 0, 0, 3, 0, 36, 136, 127, 62, 54, 0, 0, 0, 1, 3, 4, 0, 0, 3, 0, 0, 0, 0, 0, 0, 0, 0, 0, 0, 0, 0, 6, 0, 102, 204, 176, 134, 144, 123, 23, 0, 0, 0, 0, 12, 10, 0, 0, 0, 0, 0, 0, 0, 0, 0, 0, 0, 0, 0, 0, 0, 155, 236, 207, 178, 107, 156, 161, 109, 64, 23, 77, 130, 72, 15, 0, 0, 0, 0, 0, 0, 0, 0, 0, 0, 0, 1, 0, 69, 207, 223, 218, 216, 216, 163, 127, 121, 122, 146, 141, 88, 172, 66, 0, 0, 0, 0, 0, 0, 0, 0, 0, 1, 1, 1, 0, 200, 232, 232, 233, 229, 223, 223, 215, 213, 164, 127, 123, 196, 229, 0, 0, 0, 0, 0, 0, 0, 0, 0, 0, 0, 0, 0, 0, 183, 225, 216, 223, 228, 235, 227, 224, 222, 224, 221, 223, 245, 173, 0, 0, 0, 0, 0, 0, 0, 0, 0, 0, 0, 0, 0, 0, 193, 228, 218, 213, 198, 180, 212, 210, 211, 213, 223, 220, 243, 202, 0, 0, 0, 0, 0, 0, 0, 0, 0, 0, 1, 3, 0, 12, 219, 220, 212, 218, 192, 169, 227, 208, 218, 224, 212, 226, 197, 209, 52, 0, 0, 0, 0, 0, 0, 0, 0, 0, 0, 6, 0, 99, 244, 222, 220, 218, 203, 198, 221, 215, 213, 222, 220, 245, 119, 167, 56, 0, 0, 0, 0, 0, 0, 0, 0, 0, 4, 0, 0, 55, 236, 228, 230, 228, 240, 232, 213, 218, 223, 234, 217, 217, 209, 92, 0, 0, 0, 1, 4, 6, 7, 2, 0, 0, 0, 0, 0, 237, 226, 217, 223, 222, 219, 222, 221, 216, 223, 229, 215, 218, 255, 77, 0, 0, 3, 0, 0, 0, 0, 0, 0, 0, 62, 145, 204, 228, 207, 213, 221, 218, 208, 211, 218, 224, 223, 219, 215, 224, 244, 159, 0, 0, 0, 0, 0, 18, 44, 82, 107, 189, 228, 220, 222, 217, 226, 200, 205, 211, 230, 224, 234, 176, 188, 250, 248, 233, 238, 215, 0, 0, 57, 187, 208, 224, 221, 224, 208, 204, 214, 208, 209, 200, 159, 245, 193, 206, 223, 255, 255, 221, 234, 221, 211, 220, 232, 246, 0, 3, 202, 228, 224, 221, 211, 211, 214, 205, 205, 205, 220, 240, 80, 150, 255, 229, 221, 188, 154, 191, 210, 204, 209, 222, 228, 225, 0, 98, 233, 198, 210, 222, 229, 229, 234, 249, 220, 194, 215, 217, 241, 65, 73, 106, 117, 168, 219, 221, 215, 217, 223, 223, 224, 229, 29, 75, 204, 212, 204, 193, 205, 211, 225, 216, 185, 197, 206, 198, 213, 240, 195, 227, 245, 239, 223, 218, 212, 209, 222, 220, 221, 230, 67, 48, 203, 183, 194, 213, 197, 185, 190, 194, 192, 202, 214, 219, 221, 220, 236, 225, 216, 199, 206, 186, 181, 177, 172, 181, 205, 206, 115, 0, 122, 219, 193, 179, 171, 183, 196, 204, 210, 213, 207, 211, 210, 200, 196, 194, 191, 195, 191, 198, 192, 176, 156, 167, 177, 210, 92, 0, 0, 74, 189, 212, 191, 175, 172, 175, 181, 185, 188, 189, 188, 193, 198, 204, 209, 210, 210, 211, 188, 188, 194, 192, 216, 170, 0, 2, 0, 0, 0, 66, 200, 222, 237, 239, 242, 246, 243, 244, 221, 220, 193, 191, 179, 182, 182, 181, 176, 166, 168, 99, 58, 0, 0, 0, 0, 0, 0, 0, 0, 0, 40, 61, 44, 72, 41, 35, 0, 0, 0, 0, 0, 0, 0, 0, 0, 0, 0, 0, 0, 0, 0, 0, 0, 0, 0, 0, 0, 0, 0, 0, 0, 0, 0, 0, 0, 0, 0, 0, 0, 0, 0, 0, 0, 0, 0, 0, 0, 0, 0, 0, 0, 0, 0, 0, 0, 0, 0, 0, 0, 0, 0, 0, 0, 0, 0, 0, 0, 0, 0, 0, 0, 0, 0, 0, 0, 0, 0]\n"
     ]
    }
   ],
   "execution_count": 42
  },
  {
   "metadata": {
    "ExecuteTime": {
     "end_time": "2025-01-15T05:39:14.136740Z",
     "start_time": "2025-01-15T05:39:13.889146Z"
    }
   },
   "cell_type": "code",
   "source": [
    "def show_single_image(img_arr):\n",
    "    plt.imshow(img_arr, cmap=\"binary\") # 显示图片\n",
    "    plt.colorbar() # 显示颜色条\n",
    "    plt.show()\n",
    "show_single_image(img)"
   ],
   "id": "736e2823c244a199",
   "outputs": [
    {
     "data": {
      "text/plain": [
       "<Figure size 640x480 with 2 Axes>"
      ],
      "image/png": "[encoded data removed]"
     },
     "metadata": {},
     "output_type": "display_data"
    }
   ],
   "execution_count": 43
  },
  {
   "metadata": {
    "ExecuteTime": {
     "end_time": "2025-01-15T05:39:14.145658Z",
     "start_time": "2025-01-15T05:39:14.138802Z"
    }
   },
   "cell_type": "code",
   "source": [
    "from torchvision import datasets\n",
    "from torchvision.transforms import ToTensor\n",
    "from torchvision import transforms"
   ],
   "id": "5bb38f3e39b9e6d",
   "outputs": [],
   "execution_count": 44
  },
  {
   "metadata": {
    "ExecuteTime": {
     "end_time": "2025-01-15T05:39:14.155652Z",
     "start_time": "2025-01-15T05:39:14.148677Z"
    }
   },
   "cell_type": "code",
   "source": [
    "transform = transforms.Compose([\n",
    "    transforms.ToTensor(), # 转换为tensor，进行归一化\n",
    "    # transforms.Normalize(mean, std) # 标准化，mean和std是数据集的均值和方差\n",
    "])"
   ],
   "id": "11585f1755204151",
   "outputs": [],
   "execution_count": 45
  },
  {
   "metadata": {
    "ExecuteTime": {
     "end_time": "2025-01-15T05:39:14.236536Z",
     "start_time": "2025-01-15T05:39:14.159149Z"
    }
   },
   "cell_type": "code",
   "source": [
    "train_ds = datasets.FashionMNIST(\n",
    "    root=\"data\",\n",
    "    train=True,\n",
    "    download=True,\n",
    "    transform=transform\n",
    ")# 加载数据集，并将其转换为Tensor格式\n",
    "\n",
    "test_ds = datasets.FashionMNIST(\n",
    "    root=\"data\",\n",
    "    train=False,\n",
    "    download=True,\n",
    "    transform=transform\n",
    ")# 加载测试数据集，并将其转换为Tensor格式"
   ],
   "id": "a3df244b53404d60",
   "outputs": [],
   "execution_count": 46
  },
  {
   "metadata": {
    "ExecuteTime": {
     "end_time": "2025-01-15T05:39:14.245849Z",
     "start_time": "2025-01-15T05:39:14.238575Z"
    }
   },
   "cell_type": "code",
   "source": [
    "img, label = train_ds[0]# 显示第一个元素的图像和标签\n",
    "img.shape# 显示第一个元素的形状"
   ],
   "id": "f6ad18fcdbec97b",
   "outputs": [
    {
     "data": {
      "text/plain": [
       "torch.Size([1, 28, 28])"
      ]
     },
     "execution_count": 47,
     "metadata": {},
     "output_type": "execute_result"
    }
   ],
   "execution_count": 47
  },
  {
   "metadata": {
    "ExecuteTime": {
     "end_time": "2025-01-15T05:39:22.375960Z",
     "start_time": "2025-01-15T05:39:14.247379Z"
    }
   },
   "cell_type": "code",
   "source": [
    "def cal_mean_std(ds):\n",
    "    mean = 0.\n",
    "    std = 0.\n",
    "    for img, _ in ds:  \n",
    "        mean += img.mean(dim=(1, 2))  # 计算每张图片的均值，dim=(1, 2)表示计算每张图片的每一个像素的均值,行列共同求均值\n",
    "        std += img.std(dim=(1, 2))# 计算每张图片的标准差，dim=(1, 2)表示计算每张图片的每一个像素的标准差,行列共同求标准差\n",
    "    mean /= len(ds)\n",
    "    std /= len(ds)\n",
    "    return mean, std\n",
    "\n",
    "\n",
    "print(cal_mean_std(train_ds))# 计算数据集的均值和标准差"
   ],
   "id": "c3eaf88820694245",
   "outputs": [
    {
     "name": "stdout",
     "output_type": "stream",
     "text": [
      "(tensor([0.2860]), tensor([0.3205]))\n"
     ]
    }
   ],
   "execution_count": 48
  },
  {
   "metadata": {
    "ExecuteTime": {
     "end_time": "2025-01-15T05:42:22.371874Z",
     "start_time": "2025-01-15T05:42:21.192549Z"
    }
   },
   "cell_type": "code",
   "source": [
    "def show_imgs(n_rows, n_cols, train_ds, class_names):\n",
    "    assert n_rows * n_cols < len(train_ds)  #确保打印的图片小于总样本数\n",
    "    plt.figure(figsize = (n_cols * 1.4, n_rows * 1.6))  #宽1.4高1.6，宽，高\n",
    "    for row in range(n_rows):\n",
    "        for col in range(n_cols):\n",
    "            index = n_cols * row + col  # 计算索引，从0开始\n",
    "            plt.subplot(n_rows, n_cols, index+1)#因为从1开始\n",
    "            img_arr, label = train_ds[index]# 获取图片和标签\n",
    "            img_arr = np.transpose(img_arr, (1, 2, 0))  # 通道换到最后一维\n",
    "            plt.imshow(img_arr, cmap=\"binary\",\n",
    "                       interpolation = 'nearest')# 显示图片，cmap=\"binary\"表示灰度图，interpolation=\"nearest\"表示插值方式为最近邻居插值\n",
    "            plt.axis('off')#去除坐标系\n",
    "            plt.title(class_names[label]) # 显示类别名称\n",
    "    plt.show()\n",
    "    \n",
    "class_names = ['T-shirt', 'Trouser', 'Pullover', 'Dress',\n",
    "               'Coat', 'Sandal', 'Shirt', 'Sneaker',\n",
    "               'Bag', 'Ankle boot'] # 类别名称\n",
    "#打印了前30个样本\n",
    "show_imgs(3, 10, train_ds, class_names)"
   ],
   "id": "9ed02fae7983f140",
   "outputs": [
    {
     "data": {
      "text/plain": [
       "<Figure size 1400x480 with 30 Axes>"
      ],
      "image/png": "[encoded data removed]"
     },
     "metadata": {},
     "output_type": "display_data"
    }
   ],
   "execution_count": 53
  },
  {
   "metadata": {
    "ExecuteTime": {
     "end_time": "2025-01-15T05:45:33.063017Z",
     "start_time": "2025-01-15T05:45:33.057295Z"
    }
   },
   "cell_type": "code",
   "source": [
    "train_loader = torch.utils.data.DataLoader(train_ds, batch_size=32, shuffle=True) #batch_size分批，shuffle洗牌\n",
    "val_loader = torch.utils.data.DataLoader(test_ds, batch_size=32, shuffle=False)# 验证集"
   ],
   "id": "293ae7f99aba97e",
   "outputs": [],
   "execution_count": 54
  },
  {
   "metadata": {
    "ExecuteTime": {
     "end_time": "2025-01-15T05:50:41.522874Z",
     "start_time": "2025-01-15T05:50:41.473530Z"
    }
   },
   "cell_type": "code",
   "source": [
    "for datas, labels in train_loader:#查看train_loader\n",
    "    print(datas.shape)#查看datas和labels的形状\n",
    "    print(labels.shape)\n",
    "    break\n",
    "\n",
    "for datas, labels in val_loader:#查看val_loader\n",
    "    print(datas.shape)#查看datas和labels的形状\n",
    "    print(labels.shape)\n",
    "    break"
   ],
   "id": "b083da0caad6139e",
   "outputs": [
    {
     "name": "stdout",
     "output_type": "stream",
     "text": [
      "torch.Size([32, 1, 28, 28])\n",
      "torch.Size([32])\n",
      "torch.Size([32, 1, 28, 28])\n",
      "torch.Size([32])\n"
     ]
    }
   ],
   "execution_count": 55
  },
  {
   "metadata": {
    "ExecuteTime": {
     "end_time": "2025-01-15T05:55:01.696530Z",
     "start_time": "2025-01-15T05:55:01.682136Z"
    }
   },
   "cell_type": "code",
   "source": [
    "class NeuralNetwork(nn.Module):\n",
    "    def __init__(self):\n",
    "        super().__init__() # 继承父类的初始化方法，子类有父类的属性\n",
    "        self.flatten = nn.Flatten()  # 展平层，将输入的二维图像展平为一维向量\n",
    "        self.linear_relu_stack = nn.Sequential(\n",
    "            nn.Linear(784, 300),  # in_features=784, out_features=300, 784是输入特征数，300是输出特征数\n",
    "            nn.ReLU(), # 激活函数\n",
    "            nn.Linear(300, 100),#隐藏层神经元数100\n",
    "            nn.ReLU(), # 激活函数\n",
    "            nn.Linear(100, 10),#输出层神经元数10 \n",
    "        )\n",
    "\n",
    "    def forward(self, x): # 前向计算，前向传播\n",
    "        x = self.flatten(x) # 展平层，将输入的二维图像展平为一维向量\n",
    "        logits = self.linear_relu_stack(x)# 线性层，将展平后的向量输入到线性层中，得到输出\n",
    "        return logits # 返回输出\n",
    "    \n",
    "model = NeuralNetwork()# 创建模型"
   ],
   "id": "7a53b52a2d70daf3",
   "outputs": [],
   "execution_count": 56
  },
  {
   "metadata": {
    "ExecuteTime": {
     "end_time": "2025-01-15T05:56:27.059006Z",
     "start_time": "2025-01-15T05:56:27.047974Z"
    }
   },
   "cell_type": "code",
   "source": "model# 查看模型结构",
   "id": "1cec1bdc1c38e84",
   "outputs": [
    {
     "data": {
      "text/plain": [
       "NeuralNetwork(\n",
       "  (flatten): Flatten(start_dim=1, end_dim=-1)\n",
       "  (linear_relu_stack): Sequential(\n",
       "    (0): Linear(in_features=784, out_features=300, bias=True)\n",
       "    (1): ReLU()\n",
       "    (2): Linear(in_features=300, out_features=100, bias=True)\n",
       "    (3): ReLU()\n",
       "    (4): Linear(in_features=100, out_features=10, bias=True)\n",
       "  )\n",
       ")"
      ]
     },
     "execution_count": 57,
     "metadata": {},
     "output_type": "execute_result"
    }
   ],
   "execution_count": 57
  },
  {
   "metadata": {
    "ExecuteTime": {
     "end_time": "2025-01-15T05:59:16.314365Z",
     "start_time": "2025-01-15T05:59:16.280398Z"
    }
   },
   "cell_type": "code",
   "source": [
    "x = torch.randn(32, 1, 28, 28)# 随机生成32张28x28的图片\n",
    "print(x.shape)# 查看图片的形状\n",
    "logits = model(x)# 输入图片，得到输出\n",
    "print(logits.shape)# 查看输出的形状"
   ],
   "id": "7d845a092e56e4ee",
   "outputs": [
    {
     "name": "stdout",
     "output_type": "stream",
     "text": [
      "torch.Size([32, 1, 28, 28])\n",
      "torch.Size([32, 10])\n"
     ]
    }
   ],
   "execution_count": 58
  },
  {
   "metadata": {
    "ExecuteTime": {
     "end_time": "2025-01-15T06:01:10.079634Z",
     "start_time": "2025-01-15T06:01:10.073322Z"
    }
   },
   "cell_type": "code",
   "source": [
    "for name, param in model.named_parameters(): # 打印模型参数\n",
    "      print(name, param.shape)"
   ],
   "id": "e231df69fb88a3c7",
   "outputs": [
    {
     "name": "stdout",
     "output_type": "stream",
     "text": [
      "linear_relu_stack.0.weight torch.Size([300, 784])\n",
      "linear_relu_stack.0.bias torch.Size([300])\n",
      "linear_relu_stack.2.weight torch.Size([100, 300])\n",
      "linear_relu_stack.2.bias torch.Size([100])\n",
      "linear_relu_stack.4.weight torch.Size([10, 100])\n",
      "linear_relu_stack.4.bias torch.Size([10])\n"
     ]
    }
   ],
   "execution_count": 59
  },
  {
   "metadata": {
    "ExecuteTime": {
     "end_time": "2025-01-15T06:04:23.698073Z",
     "start_time": "2025-01-15T06:04:23.677298Z"
    }
   },
   "cell_type": "code",
   "source": "list(model.parameters())# 查看模型参数",
   "id": "e5f7d941ef1037ec",
   "outputs": [
    {
     "data": {
      "text/plain": [
       "[Parameter containing:\n",
       " tensor([[-0.0244, -0.0058, -0.0287,  ..., -0.0089,  0.0068, -0.0355],\n",
       "         [-0.0141, -0.0249,  0.0046,  ..., -0.0202, -0.0093,  0.0031],\n",
       "         [ 0.0136,  0.0313,  0.0169,  ...,  0.0192, -0.0273,  0.0204],\n",
       "         ...,\n",
       "         [ 0.0324,  0.0250, -0.0341,  ...,  0.0294, -0.0175,  0.0019],\n",
       "         [ 0.0229, -0.0184, -0.0003,  ..., -0.0063, -0.0087,  0.0308],\n",
       "         [ 0.0340, -0.0004, -0.0226,  ..., -0.0071, -0.0122,  0.0158]],\n",
       "        requires_grad=True),\n",
       " Parameter containing:\n",
       " tensor([-2.9326e-02, -3.1887e-02,  2.5959e-02,  4.6377e-03, -7.3488e-03,\n",
       "          3.1319e-02,  1.4968e-02,  9.0207e-03, -3.3037e-02,  9.9587e-03,\n",
       "          1.6142e-02, -7.4490e-03, -2.4420e-03,  1.3458e-02,  6.3112e-03,\n",
       "          3.0722e-02, -1.6769e-04, -2.4244e-02, -1.6526e-02, -2.2682e-02,\n",
       "          2.9205e-02,  2.0895e-02, -3.5066e-02, -1.8022e-02,  1.9071e-03,\n",
       "         -1.7407e-02,  7.2820e-03, -2.0270e-02,  2.6359e-02, -3.0880e-02,\n",
       "         -2.0013e-04,  2.4660e-02, -2.5781e-02, -2.8982e-02,  3.0654e-02,\n",
       "         -6.3389e-03,  3.4282e-02, -7.0815e-03, -1.1487e-02,  3.0501e-02,\n",
       "         -5.3248e-03, -1.3051e-02,  2.2055e-02, -1.8989e-02, -2.8203e-02,\n",
       "         -7.1990e-03, -5.6135e-03,  8.8180e-03,  1.7671e-03,  2.6635e-04,\n",
       "          5.3621e-03,  2.6419e-02, -4.8389e-03, -2.6376e-02, -1.1371e-03,\n",
       "          1.8659e-02,  1.2640e-02,  1.8815e-03, -1.5924e-02, -1.0212e-02,\n",
       "         -2.6991e-02,  6.1871e-03, -2.0234e-02, -7.3915e-03, -2.7324e-02,\n",
       "          1.2577e-02, -5.2022e-03, -1.6358e-03,  1.2886e-02, -1.9835e-02,\n",
       "          3.1912e-02,  2.2783e-02, -2.0127e-02,  1.6730e-02,  8.4372e-03,\n",
       "          3.0434e-02, -2.7429e-02,  4.2153e-03, -3.5254e-02, -1.1451e-02,\n",
       "         -1.3360e-02, -9.8031e-03,  2.9675e-02,  1.1604e-02, -2.1916e-02,\n",
       "          2.6312e-02,  1.6843e-02, -2.7694e-02,  2.8338e-02, -3.2885e-02,\n",
       "          1.6871e-02, -8.5689e-03,  8.5748e-03,  1.0616e-02,  2.3768e-02,\n",
       "          3.1237e-02,  2.4119e-02,  2.8117e-02,  1.9706e-02,  2.3369e-02,\n",
       "          1.3228e-02, -6.3035e-03,  1.8642e-02, -2.6755e-02, -1.6396e-02,\n",
       "          3.2970e-02, -1.7023e-02,  2.6351e-02, -2.0477e-03, -3.3032e-03,\n",
       "         -7.6737e-03,  3.5229e-02,  1.9079e-02,  2.2303e-02, -9.3439e-03,\n",
       "         -2.3622e-02, -1.3270e-02, -3.4331e-03, -4.8881e-03,  7.6932e-03,\n",
       "         -1.3644e-02,  3.4807e-02,  1.6282e-02,  7.0027e-03, -6.7798e-03,\n",
       "          1.4866e-02, -1.0211e-02,  3.4890e-02, -9.4615e-03,  2.2537e-02,\n",
       "          2.7036e-03, -1.5109e-02,  2.2932e-02,  2.3460e-03, -3.4630e-02,\n",
       "         -2.3747e-03, -2.4690e-02, -1.9582e-02, -9.1253e-03,  4.1804e-03,\n",
       "          3.2997e-02,  2.8028e-02,  2.1404e-02, -3.2351e-02, -3.3293e-02,\n",
       "          1.1752e-02, -3.1315e-02,  3.4722e-02,  2.1138e-02,  1.5038e-02,\n",
       "         -1.3246e-02,  1.0425e-02, -3.5186e-02, -1.9164e-02,  9.1686e-03,\n",
       "         -7.6035e-03, -9.3679e-03, -7.7387e-03,  5.3997e-03, -1.5842e-02,\n",
       "          2.0556e-02,  3.5564e-02,  1.7210e-02, -5.1237e-03,  4.2852e-03,\n",
       "          1.1472e-02, -1.0929e-02,  2.6641e-02,  1.7368e-02, -4.1798e-03,\n",
       "         -1.3542e-02, -9.5951e-03, -2.6430e-02,  7.6402e-03,  2.8247e-03,\n",
       "         -3.0371e-02, -7.0221e-03,  2.4889e-02, -2.2615e-02,  3.0750e-02,\n",
       "         -2.1204e-02, -2.8095e-02,  1.9436e-02, -1.8952e-02, -1.2979e-03,\n",
       "         -2.0007e-03, -3.1081e-02, -2.6061e-03,  1.6246e-02,  2.3075e-02,\n",
       "         -1.6977e-02, -1.2443e-02,  1.5727e-02, -1.7883e-02, -2.3347e-03,\n",
       "         -2.6384e-03,  1.6056e-02,  2.2673e-03,  3.4951e-03,  2.5071e-02,\n",
       "         -2.0050e-02, -1.6234e-02,  2.8022e-02,  2.5423e-03, -2.9295e-02,\n",
       "          9.5783e-03, -2.8235e-02, -2.4517e-02, -9.4679e-03, -5.0426e-03,\n",
       "          5.6038e-03,  1.3099e-02, -7.5359e-03,  8.9295e-03,  2.5010e-02,\n",
       "          2.3415e-02,  3.2718e-02, -4.9168e-03, -2.7698e-02, -7.1086e-05,\n",
       "         -6.6021e-04,  2.3207e-02,  9.3280e-03, -1.9551e-02, -5.0280e-03,\n",
       "         -1.6909e-02, -3.4724e-02, -1.1376e-02,  5.5174e-03,  3.5526e-02,\n",
       "          2.0783e-02, -1.9816e-02,  3.3660e-02,  2.0756e-02, -3.3347e-02,\n",
       "         -1.7355e-02,  6.6982e-03, -1.0695e-02, -4.9822e-03,  5.4536e-03,\n",
       "          9.0922e-03,  2.2143e-03,  1.9091e-02,  8.0261e-03,  5.4441e-03,\n",
       "         -1.2615e-02,  1.9873e-02, -2.7857e-02, -3.0211e-02,  1.1103e-02,\n",
       "          2.1428e-02, -1.7202e-02,  1.3408e-02, -2.2198e-02, -1.8134e-02,\n",
       "          1.2965e-02, -3.2561e-02,  2.1220e-02, -2.9442e-02, -3.4668e-02,\n",
       "         -3.4951e-02,  4.3159e-03, -1.2703e-02,  1.4979e-02, -1.3956e-02,\n",
       "          2.7103e-02,  2.5701e-02,  3.3527e-02,  3.2354e-02,  2.7395e-02,\n",
       "         -3.0583e-02,  2.0101e-02, -3.5043e-02, -3.5565e-02,  9.1635e-03,\n",
       "          2.6597e-02,  2.0043e-02, -2.7893e-02,  4.4636e-03,  3.2076e-02,\n",
       "          1.0135e-02,  2.0596e-02,  1.7578e-02,  1.8546e-02,  2.6517e-02,\n",
       "         -2.5628e-02, -3.1379e-02,  2.9551e-02, -2.1109e-03,  2.3377e-02,\n",
       "          2.6107e-02, -1.9201e-02,  1.5353e-02, -3.5286e-02, -1.5358e-02,\n",
       "          2.5401e-02, -2.9756e-02,  3.0937e-02, -3.5461e-02,  1.1541e-02],\n",
       "        requires_grad=True),\n",
       " Parameter containing:\n",
       " tensor([[-0.0006, -0.0499,  0.0378,  ...,  0.0512,  0.0138, -0.0278],\n",
       "         [-0.0290, -0.0172,  0.0049,  ...,  0.0352, -0.0132,  0.0280],\n",
       "         [ 0.0548,  0.0009,  0.0019,  ..., -0.0536, -0.0313,  0.0469],\n",
       "         ...,\n",
       "         [ 0.0411, -0.0220, -0.0152,  ..., -0.0541,  0.0553,  0.0145],\n",
       "         [-0.0459, -0.0149, -0.0385,  ...,  0.0389, -0.0183, -0.0521],\n",
       "         [-0.0028, -0.0010, -0.0196,  ..., -0.0448,  0.0466, -0.0020]],\n",
       "        requires_grad=True),\n",
       " Parameter containing:\n",
       " tensor([-0.0454,  0.0513, -0.0560,  0.0340, -0.0007, -0.0153, -0.0167,  0.0240,\n",
       "          0.0169,  0.0205, -0.0577,  0.0151, -0.0109, -0.0172, -0.0207,  0.0358,\n",
       "         -0.0185,  0.0366, -0.0556,  0.0407, -0.0139,  0.0560,  0.0544,  0.0011,\n",
       "          0.0248, -0.0136,  0.0364, -0.0253,  0.0487,  0.0307, -0.0074,  0.0282,\n",
       "          0.0276,  0.0389, -0.0269, -0.0221, -0.0037,  0.0472, -0.0048, -0.0022,\n",
       "          0.0203, -0.0187, -0.0232, -0.0206,  0.0008, -0.0028,  0.0336,  0.0422,\n",
       "         -0.0198,  0.0385, -0.0416, -0.0241, -0.0280,  0.0461,  0.0347,  0.0490,\n",
       "         -0.0408,  0.0017,  0.0279,  0.0174,  0.0319,  0.0006, -0.0126,  0.0176,\n",
       "         -0.0226, -0.0466, -0.0188, -0.0297, -0.0319, -0.0208,  0.0035,  0.0002,\n",
       "          0.0217, -0.0121,  0.0135,  0.0490,  0.0449, -0.0499,  0.0561,  0.0102,\n",
       "         -0.0165,  0.0018, -0.0423,  0.0276, -0.0458,  0.0280,  0.0444,  0.0488,\n",
       "          0.0118, -0.0073, -0.0111, -0.0391, -0.0289, -0.0326,  0.0267, -0.0572,\n",
       "         -0.0136,  0.0108, -0.0279,  0.0131], requires_grad=True),\n",
       " Parameter containing:\n",
       " tensor([[-1.2144e-02,  9.9839e-02,  6.8838e-02, -6.2136e-02, -7.8511e-02,\n",
       "          -5.2711e-02,  4.2638e-02,  2.3460e-02, -8.3109e-02,  4.2130e-02,\n",
       "           5.7486e-02, -6.1631e-02, -4.9079e-02,  3.2187e-04, -5.9747e-02,\n",
       "           5.6968e-02,  4.8046e-02,  7.7219e-02,  6.2196e-02,  3.9635e-02,\n",
       "          -7.1154e-02,  8.3057e-02,  6.7543e-02, -9.7190e-02,  2.2570e-02,\n",
       "           4.0451e-02, -5.0439e-02, -4.1123e-02,  3.3275e-03, -4.7600e-04,\n",
       "           2.0228e-02, -3.3635e-02,  9.4235e-04,  5.8346e-03, -6.0722e-03,\n",
       "          -5.4378e-02, -4.6400e-02, -5.8836e-02,  2.2118e-02, -7.8475e-03,\n",
       "           1.2769e-02,  8.9092e-02,  8.5617e-02, -4.1690e-02,  9.0132e-02,\n",
       "           2.6028e-03,  8.0916e-02, -5.5271e-02, -1.6342e-02,  4.0695e-02,\n",
       "          -6.1567e-02,  1.8683e-02, -8.9082e-02,  3.1219e-02, -8.4407e-02,\n",
       "          -3.0983e-03, -4.1606e-02,  1.4415e-02,  9.6535e-02, -4.0204e-02,\n",
       "           1.4754e-02,  8.1322e-02,  5.1047e-02, -3.2376e-02, -8.8243e-02,\n",
       "          -1.4553e-02,  1.7152e-02, -1.0362e-02, -1.8590e-03,  4.6028e-02,\n",
       "          -4.2998e-02,  6.6147e-02, -2.6695e-02,  1.6763e-02,  2.5525e-02,\n",
       "           9.8657e-02, -3.2362e-02, -2.7425e-02,  9.1396e-03, -5.8654e-02,\n",
       "          -8.9071e-02, -1.4436e-02,  3.0407e-02, -4.1876e-02,  6.7155e-02,\n",
       "           9.2291e-02, -1.0465e-02, -7.9017e-02,  3.0616e-02, -1.3687e-02,\n",
       "          -4.1308e-02, -4.3409e-03, -1.0269e-02,  8.4944e-02,  3.7790e-02,\n",
       "          -5.1721e-02, -8.5896e-02, -4.8796e-04,  4.7930e-02, -1.6279e-02],\n",
       "         [ 6.0704e-02,  3.6445e-02, -5.1431e-02,  6.1372e-02, -5.7829e-02,\n",
       "           3.0751e-02,  6.5004e-02, -3.8559e-02,  3.9165e-02,  8.0176e-02,\n",
       "          -9.2988e-02, -9.0751e-02,  6.6549e-02,  4.9526e-02, -8.7909e-02,\n",
       "          -3.6035e-02, -7.0019e-02, -9.1757e-02, -6.9594e-02,  4.7963e-02,\n",
       "           6.6855e-02,  7.0434e-02, -2.9890e-02,  3.9203e-02,  9.6153e-02,\n",
       "           7.8040e-02, -7.0621e-02, -4.2097e-02,  1.3334e-02, -6.7420e-02,\n",
       "           5.8793e-02,  9.5853e-02,  4.6553e-02, -3.2941e-02,  7.3913e-02,\n",
       "          -2.1053e-02, -3.1553e-02, -9.7973e-02, -5.5491e-02, -1.1896e-02,\n",
       "          -8.7885e-03, -1.4691e-03, -2.9174e-02,  8.0059e-02, -4.2108e-02,\n",
       "           9.2217e-02, -6.6923e-02,  2.7040e-02, -8.0652e-02,  9.5540e-02,\n",
       "          -3.8711e-02,  1.0467e-04,  2.8966e-02, -4.4496e-02,  8.9296e-02,\n",
       "          -8.1709e-02, -1.4053e-02,  1.4639e-02, -5.5028e-02,  3.2290e-02,\n",
       "          -6.2884e-02, -5.2223e-02, -9.7796e-03, -4.3364e-02,  1.7365e-02,\n",
       "          -5.7242e-02,  8.4603e-02,  6.7495e-02, -3.6350e-03,  3.6525e-02,\n",
       "          -2.9860e-02, -2.6779e-02,  3.8592e-02,  5.6812e-02, -8.2401e-02,\n",
       "          -1.4263e-02, -8.4737e-02,  6.6219e-02, -5.9825e-02, -6.1019e-02,\n",
       "           6.7480e-02,  9.6309e-02,  1.8565e-02,  9.0154e-02, -1.8226e-02,\n",
       "           5.7036e-02, -1.4847e-02, -3.1567e-02, -6.2070e-02,  8.2040e-02,\n",
       "           8.2978e-02, -2.0815e-02, -8.1246e-02, -4.5061e-02, -9.5762e-02,\n",
       "          -9.1309e-02,  8.8505e-02, -3.1850e-02,  4.4135e-02, -2.1958e-02],\n",
       "         [-9.3461e-02, -3.0262e-02,  7.0367e-03,  1.3099e-02,  4.4811e-03,\n",
       "          -2.1120e-04,  8.8437e-02, -8.3638e-02,  2.1328e-02,  3.1743e-02,\n",
       "          -5.7604e-02, -8.7776e-03,  1.7082e-02, -3.6197e-03, -3.6286e-02,\n",
       "          -6.5547e-02,  3.3655e-02,  7.7281e-02,  6.5486e-02,  5.4413e-02,\n",
       "          -3.2285e-03, -5.2564e-02,  9.3552e-02, -6.2740e-02, -1.8324e-02,\n",
       "          -4.1127e-02, -3.4218e-02, -5.7638e-02, -5.8949e-02, -3.9788e-02,\n",
       "          -5.9583e-02,  7.8077e-02,  8.2404e-03,  5.1482e-02,  7.8364e-03,\n",
       "          -4.7590e-02,  8.1953e-02, -2.3505e-03,  4.2319e-02, -7.8761e-02,\n",
       "           6.5237e-02, -2.6195e-02, -5.2808e-02, -3.0522e-02, -3.9869e-02,\n",
       "           3.7251e-02, -4.3674e-02, -3.9573e-02, -2.1964e-02, -8.5581e-02,\n",
       "          -7.5689e-02, -9.0634e-02,  4.1889e-02, -9.1369e-02,  8.7972e-02,\n",
       "           5.4651e-03, -3.0596e-02,  8.9960e-02, -3.1008e-02,  9.8513e-02,\n",
       "          -4.1838e-02, -7.8073e-02,  7.2435e-02,  9.0696e-02,  8.2985e-02,\n",
       "           4.6600e-03, -2.5085e-02, -3.8254e-02,  2.9043e-03, -9.3556e-02,\n",
       "          -2.6119e-03,  1.7158e-02, -3.6922e-03, -1.7709e-02,  7.3734e-02,\n",
       "           7.1124e-02, -6.8667e-02, -9.9279e-02,  4.6580e-02,  7.5808e-02,\n",
       "          -5.4962e-02,  8.0341e-02,  2.6168e-02, -7.6288e-03, -5.9031e-02,\n",
       "          -6.5959e-02,  4.6931e-02,  3.2893e-02, -4.2368e-02, -9.2307e-02,\n",
       "          -1.0640e-02, -4.2608e-02,  5.1761e-02,  3.8311e-02, -5.3305e-02,\n",
       "          -1.8670e-04, -3.7482e-02,  7.3292e-02, -2.8523e-02, -9.9331e-02],\n",
       "         [ 5.7309e-02,  8.7685e-02, -5.0586e-02,  7.9180e-02, -5.3665e-02,\n",
       "           3.3887e-02,  5.7078e-02,  8.2906e-02, -4.4561e-02, -4.3879e-02,\n",
       "           3.5871e-02,  9.4652e-02,  2.2132e-02, -2.2223e-02,  2.3479e-02,\n",
       "          -4.6479e-02, -9.7438e-02,  5.5486e-02,  6.8714e-02, -7.0413e-02,\n",
       "          -4.5526e-02, -2.9234e-02, -6.0159e-03,  5.4408e-02,  4.5601e-02,\n",
       "          -2.1698e-02,  2.3981e-02,  4.6093e-02, -4.0456e-02,  1.9765e-02,\n",
       "          -7.2483e-02,  9.1912e-02, -3.3419e-02, -8.6385e-02, -5.2464e-02,\n",
       "          -4.0238e-02, -2.6152e-02,  5.4343e-03, -5.2793e-02, -2.5476e-02,\n",
       "          -5.3171e-02, -3.6886e-02, -9.6580e-02, -9.0221e-02, -5.9040e-02,\n",
       "           8.2124e-03, -2.1826e-02,  4.4138e-02,  3.4449e-02, -5.7327e-02,\n",
       "          -5.4121e-02,  4.4065e-02,  1.7211e-02,  5.4749e-02, -8.4500e-02,\n",
       "           3.9442e-02, -8.4414e-02,  9.2930e-02,  1.0975e-02, -5.7937e-02,\n",
       "          -5.0577e-02,  3.6425e-02, -5.8276e-02,  6.5334e-02,  7.2568e-02,\n",
       "          -5.9663e-02, -6.0386e-02,  8.9686e-03, -2.8688e-02, -2.9080e-02,\n",
       "           6.0476e-02, -5.8863e-02, -1.5130e-02,  6.3423e-02,  9.9617e-02,\n",
       "          -6.8907e-04,  3.7920e-02,  2.5168e-02,  4.5952e-03,  4.4929e-02,\n",
       "           5.6085e-02, -9.5418e-02, -3.0851e-02,  5.7341e-03,  6.8421e-02,\n",
       "          -5.4109e-02,  2.5454e-02, -5.7135e-02,  8.4650e-03, -8.9753e-03,\n",
       "          -9.9445e-02,  1.3399e-02,  4.6329e-02,  5.9774e-02, -5.1907e-02,\n",
       "           8.2801e-02,  1.0120e-02,  1.4838e-02,  5.3970e-02, -1.9040e-02],\n",
       "         [ 5.6504e-03, -8.0864e-02, -9.9708e-02, -4.4332e-02,  6.4240e-02,\n",
       "           6.0756e-02,  1.1714e-02,  1.4614e-02,  3.7914e-02, -9.6221e-02,\n",
       "           5.3106e-02,  3.3717e-02, -1.8536e-02,  2.2904e-02,  9.8414e-02,\n",
       "          -2.0503e-02,  1.7150e-02, -3.6568e-02, -6.8459e-02, -7.9172e-02,\n",
       "           5.3008e-02, -6.8308e-02, -8.1122e-02,  6.1939e-02, -1.5719e-02,\n",
       "          -1.2810e-02, -8.8707e-02, -9.5146e-02, -3.6446e-02,  8.8585e-02,\n",
       "           2.5192e-02, -6.7504e-02,  4.1428e-02, -2.5075e-02, -7.9868e-02,\n",
       "          -4.7416e-02,  4.7937e-02,  4.6035e-02,  9.6796e-02,  7.0320e-02,\n",
       "          -6.7343e-02, -7.2920e-03,  1.7137e-02,  6.6590e-02,  9.0874e-03,\n",
       "           3.6876e-02,  7.7284e-02,  7.5618e-02,  9.9632e-02, -9.9075e-02,\n",
       "          -6.7005e-02,  4.2125e-02, -9.9858e-02, -3.9306e-02, -3.8297e-02,\n",
       "          -6.6933e-02,  9.1711e-03,  8.7895e-02,  4.9323e-02, -4.2976e-02,\n",
       "          -2.8847e-02,  9.1476e-02, -1.7454e-02,  9.2817e-02, -5.5447e-02,\n",
       "          -8.7443e-02,  1.4835e-02, -9.9042e-02,  3.6324e-02, -7.0290e-02,\n",
       "           1.1776e-02, -6.9787e-02,  1.2103e-02,  4.8165e-02,  7.4932e-02,\n",
       "          -7.5951e-02, -1.6313e-02,  3.8444e-03, -5.9073e-02,  5.1922e-02,\n",
       "          -6.4248e-02, -9.7334e-02,  2.2354e-02, -9.8403e-02,  2.0042e-03,\n",
       "          -3.9167e-02, -5.5952e-02, -6.4500e-02, -7.5819e-02, -2.9882e-02,\n",
       "           4.6540e-02, -4.6072e-02, -4.7251e-02,  9.9453e-02, -3.5906e-03,\n",
       "          -2.2487e-02,  9.2988e-02,  7.7762e-02,  3.8543e-02, -6.9102e-02],\n",
       "         [-2.1599e-02,  8.8515e-02,  6.4045e-03,  5.4921e-02,  4.1030e-02,\n",
       "          -4.5912e-02, -6.6626e-02,  7.1038e-02, -6.1844e-02, -7.6446e-02,\n",
       "           3.9998e-02, -3.3377e-02, -9.1835e-02, -7.9943e-02,  3.5033e-05,\n",
       "          -2.1398e-02, -8.3459e-02,  1.0259e-02, -1.4926e-02, -1.1964e-02,\n",
       "          -7.7598e-02, -1.5239e-02, -1.5645e-02,  7.6851e-02,  5.7558e-02,\n",
       "           8.2275e-02,  2.7172e-02, -1.6001e-02,  5.5626e-02,  9.2136e-02,\n",
       "          -9.4204e-02, -7.2273e-02, -2.2606e-02,  4.5214e-02, -3.0072e-02,\n",
       "          -6.3052e-02,  9.9795e-02, -3.6965e-02,  1.5310e-02,  7.9021e-02,\n",
       "           2.3264e-02,  7.0213e-02,  9.1638e-02,  8.5450e-02,  4.9264e-02,\n",
       "           7.4688e-02, -5.3737e-02,  3.1024e-02,  1.2555e-02, -1.7000e-02,\n",
       "           4.0519e-02,  6.9130e-02, -7.8808e-02, -8.8205e-02,  7.1272e-02,\n",
       "          -3.9968e-02,  1.7479e-02, -8.0012e-02,  3.6807e-02, -8.6889e-02,\n",
       "          -1.9413e-04, -9.5086e-02,  9.2619e-02, -8.2639e-02, -4.5272e-02,\n",
       "          -1.1207e-04, -4.2258e-02,  9.7925e-02, -4.3900e-02,  3.4758e-02,\n",
       "          -9.6281e-02, -5.2176e-02, -9.7033e-02, -8.9143e-02, -7.3033e-02,\n",
       "           9.2866e-02,  6.3411e-03,  3.1411e-02, -1.5968e-02, -9.3445e-02,\n",
       "           9.0935e-02, -9.4953e-02, -8.3500e-02, -3.0160e-02, -8.1272e-02,\n",
       "           2.2457e-02, -2.0192e-02, -8.8395e-02, -5.6055e-03,  4.1601e-02,\n",
       "           6.6597e-02, -9.2598e-02,  6.1418e-02,  8.1036e-02, -3.0823e-02,\n",
       "          -2.2432e-03,  1.3638e-03,  2.1609e-02, -7.1323e-02,  1.7321e-02],\n",
       "         [-1.6814e-02,  4.3700e-02, -4.4928e-02,  1.1250e-02,  3.6862e-02,\n",
       "           6.9430e-02, -4.8758e-02, -6.3078e-02, -5.7313e-02, -8.7218e-02,\n",
       "           9.1447e-04, -2.0016e-02, -5.7747e-02,  3.8160e-02, -8.3830e-02,\n",
       "          -2.5554e-02, -8.2457e-02,  8.5561e-03,  2.6969e-02, -1.8413e-02,\n",
       "          -8.8390e-02,  3.3187e-02, -7.8991e-02, -5.1508e-02, -4.3512e-02,\n",
       "          -9.1436e-03, -7.4146e-02,  2.2412e-02, -6.4025e-02,  5.9415e-02,\n",
       "          -7.6625e-02, -5.5030e-02, -9.3229e-02,  3.9493e-03, -6.0829e-03,\n",
       "          -8.3777e-02,  9.9353e-02,  4.1051e-02,  4.3708e-02,  4.0036e-02,\n",
       "           3.4740e-02, -6.8045e-02,  5.2738e-02,  5.2658e-02, -1.1910e-02,\n",
       "          -3.9893e-02,  1.9474e-02,  3.4155e-03,  9.6242e-02,  7.2003e-02,\n",
       "          -8.2821e-02, -1.0930e-02,  5.7635e-02,  5.4667e-02,  2.0490e-02,\n",
       "          -2.1983e-02,  8.3539e-02,  7.3199e-02,  3.1670e-02, -1.8293e-02,\n",
       "           1.1955e-02, -6.9694e-02, -6.2820e-02,  6.9260e-02,  5.3818e-02,\n",
       "          -5.8388e-02, -2.3198e-02,  1.1294e-02, -5.9257e-02, -5.1923e-02,\n",
       "          -7.6751e-03, -4.6169e-02,  6.8685e-02,  4.9344e-02,  5.9586e-03,\n",
       "          -7.5657e-02,  5.6189e-02, -5.6161e-02, -2.1216e-02,  4.9893e-02,\n",
       "           7.9091e-02,  7.8603e-03, -5.0124e-02, -5.4262e-02, -4.9788e-02,\n",
       "          -8.0273e-02,  2.5738e-03, -8.9841e-02, -8.0832e-02,  3.5294e-02,\n",
       "          -5.0346e-02, -7.2269e-02,  8.5901e-02, -7.3660e-02,  3.8829e-02,\n",
       "          -1.4914e-02, -4.9692e-02, -5.5715e-02, -7.3012e-02,  4.0300e-02],\n",
       "         [ 8.6935e-02, -1.6654e-02, -6.9742e-02, -6.1256e-02,  6.9915e-02,\n",
       "          -1.4684e-02, -6.6255e-02, -3.3283e-02, -4.9653e-02,  5.6021e-02,\n",
       "           6.5981e-03, -3.9182e-02, -2.7718e-03, -9.6793e-03, -4.1349e-02,\n",
       "          -4.3931e-02, -5.6450e-02, -7.7323e-02, -8.5700e-02,  7.4295e-02,\n",
       "          -3.8770e-02, -4.9015e-02, -8.0020e-02,  2.0894e-02, -3.6036e-02,\n",
       "          -4.9226e-02, -4.9613e-02,  3.7392e-02, -5.8312e-02,  5.6141e-02,\n",
       "          -8.7903e-02, -3.8731e-02,  9.8958e-02, -9.9347e-02, -9.2179e-02,\n",
       "           5.0618e-02, -4.6011e-02,  5.2504e-02,  9.2067e-02, -8.6079e-02,\n",
       "          -9.3604e-02, -1.0876e-03,  1.5554e-02, -8.3175e-02,  4.8847e-02,\n",
       "           5.6820e-03,  4.9753e-02, -9.7541e-02,  1.9738e-03,  5.7718e-02,\n",
       "          -1.5864e-02, -9.5794e-02,  4.0222e-02,  8.8931e-03,  5.8501e-02,\n",
       "           5.8767e-02, -2.2103e-02,  1.9683e-02,  6.2504e-02, -3.4862e-02,\n",
       "          -1.2548e-02, -3.7232e-03,  3.4043e-02,  5.2517e-02, -1.2427e-02,\n",
       "           3.8238e-02,  9.8450e-02,  7.2937e-02,  4.0696e-02,  5.6827e-02,\n",
       "          -2.2300e-02,  5.6903e-02,  6.4017e-02, -3.4922e-04,  8.6472e-02,\n",
       "           6.1597e-02, -7.6547e-02,  5.2808e-02,  8.8826e-02, -5.2304e-02,\n",
       "          -3.4048e-02, -5.1351e-02, -8.6159e-02, -5.8996e-02,  6.7543e-03,\n",
       "           4.9657e-02, -9.3766e-02, -6.7631e-02,  4.3410e-02, -6.8240e-02,\n",
       "          -3.7926e-02, -8.6586e-02, -1.8485e-02,  5.8331e-02,  7.7068e-02,\n",
       "          -1.0235e-03,  7.5597e-02, -1.9191e-03,  2.6815e-03, -2.1186e-02],\n",
       "         [ 2.7285e-02,  8.8496e-02,  6.4622e-03, -9.4941e-02, -1.6729e-02,\n",
       "           7.8753e-02,  1.1676e-02,  5.1212e-02, -8.2191e-02, -2.0140e-02,\n",
       "          -7.1558e-02,  1.3931e-02,  6.9626e-02, -1.3134e-02, -9.3104e-02,\n",
       "          -5.6161e-03, -3.7564e-02, -5.8122e-03,  2.7452e-02, -2.6630e-02,\n",
       "           6.2833e-02,  4.2344e-02, -6.2442e-02,  9.1895e-02, -3.6191e-02,\n",
       "          -9.3400e-02,  8.3138e-02,  6.9564e-02, -6.3009e-02,  4.9584e-02,\n",
       "          -5.9707e-02, -8.9060e-02,  4.9821e-02,  1.4860e-02,  9.3994e-02,\n",
       "          -3.6102e-02,  7.2659e-02, -6.7773e-02, -7.7982e-02, -8.6584e-03,\n",
       "          -1.4131e-02,  7.1781e-02, -5.1978e-02, -8.6122e-02, -4.6818e-02,\n",
       "           4.2442e-02, -2.9288e-02,  4.4417e-02,  9.1041e-02,  5.6662e-02,\n",
       "          -6.2022e-02,  5.3134e-02,  4.5545e-02, -9.0814e-02, -9.0644e-02,\n",
       "           7.5547e-02,  7.2683e-02,  9.6389e-02, -9.0804e-02,  2.4456e-02,\n",
       "          -6.4710e-02, -4.4433e-02,  8.0645e-02,  7.8242e-02, -3.2928e-04,\n",
       "           7.3061e-02,  7.5364e-02, -3.5361e-02, -2.1936e-02,  1.9548e-02,\n",
       "           9.6603e-02, -2.4062e-02,  2.5019e-02,  8.9848e-02, -8.7625e-02,\n",
       "           7.5764e-02, -1.9118e-02, -4.4858e-02, -8.0111e-03,  4.3903e-02,\n",
       "           7.2332e-02, -5.2656e-02,  1.9085e-02,  6.8238e-02,  3.6811e-02,\n",
       "           4.8871e-02, -4.2751e-02, -7.3080e-02, -7.5337e-02,  5.0327e-02,\n",
       "           5.0623e-03, -4.8009e-02, -8.4088e-02, -2.6807e-03, -1.5434e-02,\n",
       "          -8.6690e-02,  7.7255e-02,  6.5945e-02, -3.1289e-02, -3.2798e-02],\n",
       "         [-9.0041e-02, -3.0568e-02,  2.5631e-02, -4.7945e-02,  9.8842e-02,\n",
       "          -2.4197e-02,  5.8572e-02,  4.3770e-02, -4.1909e-02, -7.8409e-02,\n",
       "          -8.3884e-02,  5.5686e-03, -2.5012e-02,  4.3108e-02, -8.2316e-02,\n",
       "           7.0637e-02, -5.7874e-03,  3.4142e-03, -9.9869e-02, -9.1606e-02,\n",
       "           5.2481e-02, -9.4248e-02, -2.6602e-02, -7.3968e-03, -6.9605e-02,\n",
       "          -3.9287e-02,  3.9247e-02, -9.4126e-02,  1.4600e-02, -9.4724e-02,\n",
       "          -1.4509e-02,  2.5256e-02, -1.7755e-02, -9.5877e-03,  7.0541e-02,\n",
       "          -4.5934e-02,  5.0536e-02, -7.3843e-03,  5.4692e-02,  2.6177e-02,\n",
       "          -8.3905e-02, -1.1746e-04,  4.7293e-02, -5.8123e-02,  2.7785e-02,\n",
       "          -9.8633e-02, -2.8086e-03,  8.6298e-02, -6.4355e-02,  6.8528e-02,\n",
       "           9.3674e-02, -7.7712e-02,  7.6677e-02, -9.0378e-02,  8.8898e-02,\n",
       "           2.8390e-02, -9.9799e-02, -3.8616e-02,  9.9504e-02,  1.9650e-02,\n",
       "           3.5689e-02,  1.3723e-02, -5.3272e-03,  8.9838e-02, -2.3753e-02,\n",
       "          -6.9857e-02, -2.0547e-02,  5.8661e-02,  7.5647e-02, -4.3826e-02,\n",
       "          -9.6824e-02, -8.4232e-02, -7.8035e-02,  8.4634e-02,  8.2485e-02,\n",
       "           3.8640e-02,  8.3791e-02,  9.5237e-02, -7.9798e-02,  8.1098e-02,\n",
       "           5.7782e-02,  8.4795e-02,  2.4699e-02, -1.2630e-02, -8.0864e-02,\n",
       "          -2.3358e-02, -7.0966e-02,  6.4738e-02, -7.5727e-02, -6.6082e-02,\n",
       "           9.0829e-02,  5.5395e-02,  9.6762e-03,  8.3253e-03,  9.9621e-03,\n",
       "           1.6985e-02,  7.3934e-02, -3.8199e-02,  2.5434e-02,  5.1345e-02]],\n",
       "        requires_grad=True),\n",
       " Parameter containing:\n",
       " tensor([ 0.0054,  0.0776,  0.0202,  0.0373, -0.0732,  0.0763, -0.0505,  0.0669,\n",
       "         -0.0423,  0.0708], requires_grad=True)]"
      ]
     },
     "execution_count": 60,
     "metadata": {},
     "output_type": "execute_result"
    }
   ],
   "execution_count": 60
  },
  {
   "metadata": {
    "ExecuteTime": {
     "end_time": "2025-01-15T06:05:03.763450Z",
     "start_time": "2025-01-15T06:05:03.742841Z"
    }
   },
   "cell_type": "code",
   "source": "model.state_dict() # 查看模型参数",
   "id": "b72d1bf0376f322c",
   "outputs": [
    {
     "data": {
      "text/plain": [
       "OrderedDict([('linear_relu_stack.0.weight',\n",
       "              tensor([[-0.0244, -0.0058, -0.0287,  ..., -0.0089,  0.0068, -0.0355],\n",
       "                      [-0.0141, -0.0249,  0.0046,  ..., -0.0202, -0.0093,  0.0031],\n",
       "                      [ 0.0136,  0.0313,  0.0169,  ...,  0.0192, -0.0273,  0.0204],\n",
       "                      ...,\n",
       "                      [ 0.0324,  0.0250, -0.0341,  ...,  0.0294, -0.0175,  0.0019],\n",
       "                      [ 0.0229, -0.0184, -0.0003,  ..., -0.0063, -0.0087,  0.0308],\n",
       "                      [ 0.0340, -0.0004, -0.0226,  ..., -0.0071, -0.0122,  0.0158]])),\n",
       "             ('linear_relu_stack.0.bias',\n",
       "              tensor([-2.9326e-02, -3.1887e-02,  2.5959e-02,  4.6377e-03, -7.3488e-03,\n",
       "                       3.1319e-02,  1.4968e-02,  9.0207e-03, -3.3037e-02,  9.9587e-03,\n",
       "                       1.6142e-02, -7.4490e-03, -2.4420e-03,  1.3458e-02,  6.3112e-03,\n",
       "                       3.0722e-02, -1.6769e-04, -2.4244e-02, -1.6526e-02, -2.2682e-02,\n",
       "                       2.9205e-02,  2.0895e-02, -3.5066e-02, -1.8022e-02,  1.9071e-03,\n",
       "                      -1.7407e-02,  7.2820e-03, -2.0270e-02,  2.6359e-02, -3.0880e-02,\n",
       "                      -2.0013e-04,  2.4660e-02, -2.5781e-02, -2.8982e-02,  3.0654e-02,\n",
       "                      -6.3389e-03,  3.4282e-02, -7.0815e-03, -1.1487e-02,  3.0501e-02,\n",
       "                      -5.3248e-03, -1.3051e-02,  2.2055e-02, -1.8989e-02, -2.8203e-02,\n",
       "                      -7.1990e-03, -5.6135e-03,  8.8180e-03,  1.7671e-03,  2.6635e-04,\n",
       "                       5.3621e-03,  2.6419e-02, -4.8389e-03, -2.6376e-02, -1.1371e-03,\n",
       "                       1.8659e-02,  1.2640e-02,  1.8815e-03, -1.5924e-02, -1.0212e-02,\n",
       "                      -2.6991e-02,  6.1871e-03, -2.0234e-02, -7.3915e-03, -2.7324e-02,\n",
       "                       1.2577e-02, -5.2022e-03, -1.6358e-03,  1.2886e-02, -1.9835e-02,\n",
       "                       3.1912e-02,  2.2783e-02, -2.0127e-02,  1.6730e-02,  8.4372e-03,\n",
       "                       3.0434e-02, -2.7429e-02,  4.2153e-03, -3.5254e-02, -1.1451e-02,\n",
       "                      -1.3360e-02, -9.8031e-03,  2.9675e-02,  1.1604e-02, -2.1916e-02,\n",
       "                       2.6312e-02,  1.6843e-02, -2.7694e-02,  2.8338e-02, -3.2885e-02,\n",
       "                       1.6871e-02, -8.5689e-03,  8.5748e-03,  1.0616e-02,  2.3768e-02,\n",
       "                       3.1237e-02,  2.4119e-02,  2.8117e-02,  1.9706e-02,  2.3369e-02,\n",
       "                       1.3228e-02, -6.3035e-03,  1.8642e-02, -2.6755e-02, -1.6396e-02,\n",
       "                       3.2970e-02, -1.7023e-02,  2.6351e-02, -2.0477e-03, -3.3032e-03,\n",
       "                      -7.6737e-03,  3.5229e-02,  1.9079e-02,  2.2303e-02, -9.3439e-03,\n",
       "                      -2.3622e-02, -1.3270e-02, -3.4331e-03, -4.8881e-03,  7.6932e-03,\n",
       "                      -1.3644e-02,  3.4807e-02,  1.6282e-02,  7.0027e-03, -6.7798e-03,\n",
       "                       1.4866e-02, -1.0211e-02,  3.4890e-02, -9.4615e-03,  2.2537e-02,\n",
       "                       2.7036e-03, -1.5109e-02,  2.2932e-02,  2.3460e-03, -3.4630e-02,\n",
       "                      -2.3747e-03, -2.4690e-02, -1.9582e-02, -9.1253e-03,  4.1804e-03,\n",
       "                       3.2997e-02,  2.8028e-02,  2.1404e-02, -3.2351e-02, -3.3293e-02,\n",
       "                       1.1752e-02, -3.1315e-02,  3.4722e-02,  2.1138e-02,  1.5038e-02,\n",
       "                      -1.3246e-02,  1.0425e-02, -3.5186e-02, -1.9164e-02,  9.1686e-03,\n",
       "                      -7.6035e-03, -9.3679e-03, -7.7387e-03,  5.3997e-03, -1.5842e-02,\n",
       "                       2.0556e-02,  3.5564e-02,  1.7210e-02, -5.1237e-03,  4.2852e-03,\n",
       "                       1.1472e-02, -1.0929e-02,  2.6641e-02,  1.7368e-02, -4.1798e-03,\n",
       "                      -1.3542e-02, -9.5951e-03, -2.6430e-02,  7.6402e-03,  2.8247e-03,\n",
       "                      -3.0371e-02, -7.0221e-03,  2.4889e-02, -2.2615e-02,  3.0750e-02,\n",
       "                      -2.1204e-02, -2.8095e-02,  1.9436e-02, -1.8952e-02, -1.2979e-03,\n",
       "                      -2.0007e-03, -3.1081e-02, -2.6061e-03,  1.6246e-02,  2.3075e-02,\n",
       "                      -1.6977e-02, -1.2443e-02,  1.5727e-02, -1.7883e-02, -2.3347e-03,\n",
       "                      -2.6384e-03,  1.6056e-02,  2.2673e-03,  3.4951e-03,  2.5071e-02,\n",
       "                      -2.0050e-02, -1.6234e-02,  2.8022e-02,  2.5423e-03, -2.9295e-02,\n",
       "                       9.5783e-03, -2.8235e-02, -2.4517e-02, -9.4679e-03, -5.0426e-03,\n",
       "                       5.6038e-03,  1.3099e-02, -7.5359e-03,  8.9295e-03,  2.5010e-02,\n",
       "                       2.3415e-02,  3.2718e-02, -4.9168e-03, -2.7698e-02, -7.1086e-05,\n",
       "                      -6.6021e-04,  2.3207e-02,  9.3280e-03, -1.9551e-02, -5.0280e-03,\n",
       "                      -1.6909e-02, -3.4724e-02, -1.1376e-02,  5.5174e-03,  3.5526e-02,\n",
       "                       2.0783e-02, -1.9816e-02,  3.3660e-02,  2.0756e-02, -3.3347e-02,\n",
       "                      -1.7355e-02,  6.6982e-03, -1.0695e-02, -4.9822e-03,  5.4536e-03,\n",
       "                       9.0922e-03,  2.2143e-03,  1.9091e-02,  8.0261e-03,  5.4441e-03,\n",
       "                      -1.2615e-02,  1.9873e-02, -2.7857e-02, -3.0211e-02,  1.1103e-02,\n",
       "                       2.1428e-02, -1.7202e-02,  1.3408e-02, -2.2198e-02, -1.8134e-02,\n",
       "                       1.2965e-02, -3.2561e-02,  2.1220e-02, -2.9442e-02, -3.4668e-02,\n",
       "                      -3.4951e-02,  4.3159e-03, -1.2703e-02,  1.4979e-02, -1.3956e-02,\n",
       "                       2.7103e-02,  2.5701e-02,  3.3527e-02,  3.2354e-02,  2.7395e-02,\n",
       "                      -3.0583e-02,  2.0101e-02, -3.5043e-02, -3.5565e-02,  9.1635e-03,\n",
       "                       2.6597e-02,  2.0043e-02, -2.7893e-02,  4.4636e-03,  3.2076e-02,\n",
       "                       1.0135e-02,  2.0596e-02,  1.7578e-02,  1.8546e-02,  2.6517e-02,\n",
       "                      -2.5628e-02, -3.1379e-02,  2.9551e-02, -2.1109e-03,  2.3377e-02,\n",
       "                       2.6107e-02, -1.9201e-02,  1.5353e-02, -3.5286e-02, -1.5358e-02,\n",
       "                       2.5401e-02, -2.9756e-02,  3.0937e-02, -3.5461e-02,  1.1541e-02])),\n",
       "             ('linear_relu_stack.2.weight',\n",
       "              tensor([[-0.0006, -0.0499,  0.0378,  ...,  0.0512,  0.0138, -0.0278],\n",
       "                      [-0.0290, -0.0172,  0.0049,  ...,  0.0352, -0.0132,  0.0280],\n",
       "                      [ 0.0548,  0.0009,  0.0019,  ..., -0.0536, -0.0313,  0.0469],\n",
       "                      ...,\n",
       "                      [ 0.0411, -0.0220, -0.0152,  ..., -0.0541,  0.0553,  0.0145],\n",
       "                      [-0.0459, -0.0149, -0.0385,  ...,  0.0389, -0.0183, -0.0521],\n",
       "                      [-0.0028, -0.0010, -0.0196,  ..., -0.0448,  0.0466, -0.0020]])),\n",
       "             ('linear_relu_stack.2.bias',\n",
       "              tensor([-0.0454,  0.0513, -0.0560,  0.0340, -0.0007, -0.0153, -0.0167,  0.0240,\n",
       "                       0.0169,  0.0205, -0.0577,  0.0151, -0.0109, -0.0172, -0.0207,  0.0358,\n",
       "                      -0.0185,  0.0366, -0.0556,  0.0407, -0.0139,  0.0560,  0.0544,  0.0011,\n",
       "                       0.0248, -0.0136,  0.0364, -0.0253,  0.0487,  0.0307, -0.0074,  0.0282,\n",
       "                       0.0276,  0.0389, -0.0269, -0.0221, -0.0037,  0.0472, -0.0048, -0.0022,\n",
       "                       0.0203, -0.0187, -0.0232, -0.0206,  0.0008, -0.0028,  0.0336,  0.0422,\n",
       "                      -0.0198,  0.0385, -0.0416, -0.0241, -0.0280,  0.0461,  0.0347,  0.0490,\n",
       "                      -0.0408,  0.0017,  0.0279,  0.0174,  0.0319,  0.0006, -0.0126,  0.0176,\n",
       "                      -0.0226, -0.0466, -0.0188, -0.0297, -0.0319, -0.0208,  0.0035,  0.0002,\n",
       "                       0.0217, -0.0121,  0.0135,  0.0490,  0.0449, -0.0499,  0.0561,  0.0102,\n",
       "                      -0.0165,  0.0018, -0.0423,  0.0276, -0.0458,  0.0280,  0.0444,  0.0488,\n",
       "                       0.0118, -0.0073, -0.0111, -0.0391, -0.0289, -0.0326,  0.0267, -0.0572,\n",
       "                      -0.0136,  0.0108, -0.0279,  0.0131])),\n",
       "             ('linear_relu_stack.4.weight',\n",
       "              tensor([[-1.2144e-02,  9.9839e-02,  6.8838e-02, -6.2136e-02, -7.8511e-02,\n",
       "                       -5.2711e-02,  4.2638e-02,  2.3460e-02, -8.3109e-02,  4.2130e-02,\n",
       "                        5.7486e-02, -6.1631e-02, -4.9079e-02,  3.2187e-04, -5.9747e-02,\n",
       "                        5.6968e-02,  4.8046e-02,  7.7219e-02,  6.2196e-02,  3.9635e-02,\n",
       "                       -7.1154e-02,  8.3057e-02,  6.7543e-02, -9.7190e-02,  2.2570e-02,\n",
       "                        4.0451e-02, -5.0439e-02, -4.1123e-02,  3.3275e-03, -4.7600e-04,\n",
       "                        2.0228e-02, -3.3635e-02,  9.4235e-04,  5.8346e-03, -6.0722e-03,\n",
       "                       -5.4378e-02, -4.6400e-02, -5.8836e-02,  2.2118e-02, -7.8475e-03,\n",
       "                        1.2769e-02,  8.9092e-02,  8.5617e-02, -4.1690e-02,  9.0132e-02,\n",
       "                        2.6028e-03,  8.0916e-02, -5.5271e-02, -1.6342e-02,  4.0695e-02,\n",
       "                       -6.1567e-02,  1.8683e-02, -8.9082e-02,  3.1219e-02, -8.4407e-02,\n",
       "                       -3.0983e-03, -4.1606e-02,  1.4415e-02,  9.6535e-02, -4.0204e-02,\n",
       "                        1.4754e-02,  8.1322e-02,  5.1047e-02, -3.2376e-02, -8.8243e-02,\n",
       "                       -1.4553e-02,  1.7152e-02, -1.0362e-02, -1.8590e-03,  4.6028e-02,\n",
       "                       -4.2998e-02,  6.6147e-02, -2.6695e-02,  1.6763e-02,  2.5525e-02,\n",
       "                        9.8657e-02, -3.2362e-02, -2.7425e-02,  9.1396e-03, -5.8654e-02,\n",
       "                       -8.9071e-02, -1.4436e-02,  3.0407e-02, -4.1876e-02,  6.7155e-02,\n",
       "                        9.2291e-02, -1.0465e-02, -7.9017e-02,  3.0616e-02, -1.3687e-02,\n",
       "                       -4.1308e-02, -4.3409e-03, -1.0269e-02,  8.4944e-02,  3.7790e-02,\n",
       "                       -5.1721e-02, -8.5896e-02, -4.8796e-04,  4.7930e-02, -1.6279e-02],\n",
       "                      [ 6.0704e-02,  3.6445e-02, -5.1431e-02,  6.1372e-02, -5.7829e-02,\n",
       "                        3.0751e-02,  6.5004e-02, -3.8559e-02,  3.9165e-02,  8.0176e-02,\n",
       "                       -9.2988e-02, -9.0751e-02,  6.6549e-02,  4.9526e-02, -8.7909e-02,\n",
       "                       -3.6035e-02, -7.0019e-02, -9.1757e-02, -6.9594e-02,  4.7963e-02,\n",
       "                        6.6855e-02,  7.0434e-02, -2.9890e-02,  3.9203e-02,  9.6153e-02,\n",
       "                        7.8040e-02, -7.0621e-02, -4.2097e-02,  1.3334e-02, -6.7420e-02,\n",
       "                        5.8793e-02,  9.5853e-02,  4.6553e-02, -3.2941e-02,  7.3913e-02,\n",
       "                       -2.1053e-02, -3.1553e-02, -9.7973e-02, -5.5491e-02, -1.1896e-02,\n",
       "                       -8.7885e-03, -1.4691e-03, -2.9174e-02,  8.0059e-02, -4.2108e-02,\n",
       "                        9.2217e-02, -6.6923e-02,  2.7040e-02, -8.0652e-02,  9.5540e-02,\n",
       "                       -3.8711e-02,  1.0467e-04,  2.8966e-02, -4.4496e-02,  8.9296e-02,\n",
       "                       -8.1709e-02, -1.4053e-02,  1.4639e-02, -5.5028e-02,  3.2290e-02,\n",
       "                       -6.2884e-02, -5.2223e-02, -9.7796e-03, -4.3364e-02,  1.7365e-02,\n",
       "                       -5.7242e-02,  8.4603e-02,  6.7495e-02, -3.6350e-03,  3.6525e-02,\n",
       "                       -2.9860e-02, -2.6779e-02,  3.8592e-02,  5.6812e-02, -8.2401e-02,\n",
       "                       -1.4263e-02, -8.4737e-02,  6.6219e-02, -5.9825e-02, -6.1019e-02,\n",
       "                        6.7480e-02,  9.6309e-02,  1.8565e-02,  9.0154e-02, -1.8226e-02,\n",
       "                        5.7036e-02, -1.4847e-02, -3.1567e-02, -6.2070e-02,  8.2040e-02,\n",
       "                        8.2978e-02, -2.0815e-02, -8.1246e-02, -4.5061e-02, -9.5762e-02,\n",
       "                       -9.1309e-02,  8.8505e-02, -3.1850e-02,  4.4135e-02, -2.1958e-02],\n",
       "                      [-9.3461e-02, -3.0262e-02,  7.0367e-03,  1.3099e-02,  4.4811e-03,\n",
       "                       -2.1120e-04,  8.8437e-02, -8.3638e-02,  2.1328e-02,  3.1743e-02,\n",
       "                       -5.7604e-02, -8.7776e-03,  1.7082e-02, -3.6197e-03, -3.6286e-02,\n",
       "                       -6.5547e-02,  3.3655e-02,  7.7281e-02,  6.5486e-02,  5.4413e-02,\n",
       "                       -3.2285e-03, -5.2564e-02,  9.3552e-02, -6.2740e-02, -1.8324e-02,\n",
       "                       -4.1127e-02, -3.4218e-02, -5.7638e-02, -5.8949e-02, -3.9788e-02,\n",
       "                       -5.9583e-02,  7.8077e-02,  8.2404e-03,  5.1482e-02,  7.8364e-03,\n",
       "                       -4.7590e-02,  8.1953e-02, -2.3505e-03,  4.2319e-02, -7.8761e-02,\n",
       "                        6.5237e-02, -2.6195e-02, -5.2808e-02, -3.0522e-02, -3.9869e-02,\n",
       "                        3.7251e-02, -4.3674e-02, -3.9573e-02, -2.1964e-02, -8.5581e-02,\n",
       "                       -7.5689e-02, -9.0634e-02,  4.1889e-02, -9.1369e-02,  8.7972e-02,\n",
       "                        5.4651e-03, -3.0596e-02,  8.9960e-02, -3.1008e-02,  9.8513e-02,\n",
       "                       -4.1838e-02, -7.8073e-02,  7.2435e-02,  9.0696e-02,  8.2985e-02,\n",
       "                        4.6600e-03, -2.5085e-02, -3.8254e-02,  2.9043e-03, -9.3556e-02,\n",
       "                       -2.6119e-03,  1.7158e-02, -3.6922e-03, -1.7709e-02,  7.3734e-02,\n",
       "                        7.1124e-02, -6.8667e-02, -9.9279e-02,  4.6580e-02,  7.5808e-02,\n",
       "                       -5.4962e-02,  8.0341e-02,  2.6168e-02, -7.6288e-03, -5.9031e-02,\n",
       "                       -6.5959e-02,  4.6931e-02,  3.2893e-02, -4.2368e-02, -9.2307e-02,\n",
       "                       -1.0640e-02, -4.2608e-02,  5.1761e-02,  3.8311e-02, -5.3305e-02,\n",
       "                       -1.8670e-04, -3.7482e-02,  7.3292e-02, -2.8523e-02, -9.9331e-02],\n",
       "                      [ 5.7309e-02,  8.7685e-02, -5.0586e-02,  7.9180e-02, -5.3665e-02,\n",
       "                        3.3887e-02,  5.7078e-02,  8.2906e-02, -4.4561e-02, -4.3879e-02,\n",
       "                        3.5871e-02,  9.4652e-02,  2.2132e-02, -2.2223e-02,  2.3479e-02,\n",
       "                       -4.6479e-02, -9.7438e-02,  5.5486e-02,  6.8714e-02, -7.0413e-02,\n",
       "                       -4.5526e-02, -2.9234e-02, -6.0159e-03,  5.4408e-02,  4.5601e-02,\n",
       "                       -2.1698e-02,  2.3981e-02,  4.6093e-02, -4.0456e-02,  1.9765e-02,\n",
       "                       -7.2483e-02,  9.1912e-02, -3.3419e-02, -8.6385e-02, -5.2464e-02,\n",
       "                       -4.0238e-02, -2.6152e-02,  5.4343e-03, -5.2793e-02, -2.5476e-02,\n",
       "                       -5.3171e-02, -3.6886e-02, -9.6580e-02, -9.0221e-02, -5.9040e-02,\n",
       "                        8.2124e-03, -2.1826e-02,  4.4138e-02,  3.4449e-02, -5.7327e-02,\n",
       "                       -5.4121e-02,  4.4065e-02,  1.7211e-02,  5.4749e-02, -8.4500e-02,\n",
       "                        3.9442e-02, -8.4414e-02,  9.2930e-02,  1.0975e-02, -5.7937e-02,\n",
       "                       -5.0577e-02,  3.6425e-02, -5.8276e-02,  6.5334e-02,  7.2568e-02,\n",
       "                       -5.9663e-02, -6.0386e-02,  8.9686e-03, -2.8688e-02, -2.9080e-02,\n",
       "                        6.0476e-02, -5.8863e-02, -1.5130e-02,  6.3423e-02,  9.9617e-02,\n",
       "                       -6.8907e-04,  3.7920e-02,  2.5168e-02,  4.5952e-03,  4.4929e-02,\n",
       "                        5.6085e-02, -9.5418e-02, -3.0851e-02,  5.7341e-03,  6.8421e-02,\n",
       "                       -5.4109e-02,  2.5454e-02, -5.7135e-02,  8.4650e-03, -8.9753e-03,\n",
       "                       -9.9445e-02,  1.3399e-02,  4.6329e-02,  5.9774e-02, -5.1907e-02,\n",
       "                        8.2801e-02,  1.0120e-02,  1.4838e-02,  5.3970e-02, -1.9040e-02],\n",
       "                      [ 5.6504e-03, -8.0864e-02, -9.9708e-02, -4.4332e-02,  6.4240e-02,\n",
       "                        6.0756e-02,  1.1714e-02,  1.4614e-02,  3.7914e-02, -9.6221e-02,\n",
       "                        5.3106e-02,  3.3717e-02, -1.8536e-02,  2.2904e-02,  9.8414e-02,\n",
       "                       -2.0503e-02,  1.7150e-02, -3.6568e-02, -6.8459e-02, -7.9172e-02,\n",
       "                        5.3008e-02, -6.8308e-02, -8.1122e-02,  6.1939e-02, -1.5719e-02,\n",
       "                       -1.2810e-02, -8.8707e-02, -9.5146e-02, -3.6446e-02,  8.8585e-02,\n",
       "                        2.5192e-02, -6.7504e-02,  4.1428e-02, -2.5075e-02, -7.9868e-02,\n",
       "                       -4.7416e-02,  4.7937e-02,  4.6035e-02,  9.6796e-02,  7.0320e-02,\n",
       "                       -6.7343e-02, -7.2920e-03,  1.7137e-02,  6.6590e-02,  9.0874e-03,\n",
       "                        3.6876e-02,  7.7284e-02,  7.5618e-02,  9.9632e-02, -9.9075e-02,\n",
       "                       -6.7005e-02,  4.2125e-02, -9.9858e-02, -3.9306e-02, -3.8297e-02,\n",
       "                       -6.6933e-02,  9.1711e-03,  8.7895e-02,  4.9323e-02, -4.2976e-02,\n",
       "                       -2.8847e-02,  9.1476e-02, -1.7454e-02,  9.2817e-02, -5.5447e-02,\n",
       "                       -8.7443e-02,  1.4835e-02, -9.9042e-02,  3.6324e-02, -7.0290e-02,\n",
       "                        1.1776e-02, -6.9787e-02,  1.2103e-02,  4.8165e-02,  7.4932e-02,\n",
       "                       -7.5951e-02, -1.6313e-02,  3.8444e-03, -5.9073e-02,  5.1922e-02,\n",
       "                       -6.4248e-02, -9.7334e-02,  2.2354e-02, -9.8403e-02,  2.0042e-03,\n",
       "                       -3.9167e-02, -5.5952e-02, -6.4500e-02, -7.5819e-02, -2.9882e-02,\n",
       "                        4.6540e-02, -4.6072e-02, -4.7251e-02,  9.9453e-02, -3.5906e-03,\n",
       "                       -2.2487e-02,  9.2988e-02,  7.7762e-02,  3.8543e-02, -6.9102e-02],\n",
       "                      [-2.1599e-02,  8.8515e-02,  6.4045e-03,  5.4921e-02,  4.1030e-02,\n",
       "                       -4.5912e-02, -6.6626e-02,  7.1038e-02, -6.1844e-02, -7.6446e-02,\n",
       "                        3.9998e-02, -3.3377e-02, -9.1835e-02, -7.9943e-02,  3.5033e-05,\n",
       "                       -2.1398e-02, -8.3459e-02,  1.0259e-02, -1.4926e-02, -1.1964e-02,\n",
       "                       -7.7598e-02, -1.5239e-02, -1.5645e-02,  7.6851e-02,  5.7558e-02,\n",
       "                        8.2275e-02,  2.7172e-02, -1.6001e-02,  5.5626e-02,  9.2136e-02,\n",
       "                       -9.4204e-02, -7.2273e-02, -2.2606e-02,  4.5214e-02, -3.0072e-02,\n",
       "                       -6.3052e-02,  9.9795e-02, -3.6965e-02,  1.5310e-02,  7.9021e-02,\n",
       "                        2.3264e-02,  7.0213e-02,  9.1638e-02,  8.5450e-02,  4.9264e-02,\n",
       "                        7.4688e-02, -5.3737e-02,  3.1024e-02,  1.2555e-02, -1.7000e-02,\n",
       "                        4.0519e-02,  6.9130e-02, -7.8808e-02, -8.8205e-02,  7.1272e-02,\n",
       "                       -3.9968e-02,  1.7479e-02, -8.0012e-02,  3.6807e-02, -8.6889e-02,\n",
       "                       -1.9413e-04, -9.5086e-02,  9.2619e-02, -8.2639e-02, -4.5272e-02,\n",
       "                       -1.1207e-04, -4.2258e-02,  9.7925e-02, -4.3900e-02,  3.4758e-02,\n",
       "                       -9.6281e-02, -5.2176e-02, -9.7033e-02, -8.9143e-02, -7.3033e-02,\n",
       "                        9.2866e-02,  6.3411e-03,  3.1411e-02, -1.5968e-02, -9.3445e-02,\n",
       "                        9.0935e-02, -9.4953e-02, -8.3500e-02, -3.0160e-02, -8.1272e-02,\n",
       "                        2.2457e-02, -2.0192e-02, -8.8395e-02, -5.6055e-03,  4.1601e-02,\n",
       "                        6.6597e-02, -9.2598e-02,  6.1418e-02,  8.1036e-02, -3.0823e-02,\n",
       "                       -2.2432e-03,  1.3638e-03,  2.1609e-02, -7.1323e-02,  1.7321e-02],\n",
       "                      [-1.6814e-02,  4.3700e-02, -4.4928e-02,  1.1250e-02,  3.6862e-02,\n",
       "                        6.9430e-02, -4.8758e-02, -6.3078e-02, -5.7313e-02, -8.7218e-02,\n",
       "                        9.1447e-04, -2.0016e-02, -5.7747e-02,  3.8160e-02, -8.3830e-02,\n",
       "                       -2.5554e-02, -8.2457e-02,  8.5561e-03,  2.6969e-02, -1.8413e-02,\n",
       "                       -8.8390e-02,  3.3187e-02, -7.8991e-02, -5.1508e-02, -4.3512e-02,\n",
       "                       -9.1436e-03, -7.4146e-02,  2.2412e-02, -6.4025e-02,  5.9415e-02,\n",
       "                       -7.6625e-02, -5.5030e-02, -9.3229e-02,  3.9493e-03, -6.0829e-03,\n",
       "                       -8.3777e-02,  9.9353e-02,  4.1051e-02,  4.3708e-02,  4.0036e-02,\n",
       "                        3.4740e-02, -6.8045e-02,  5.2738e-02,  5.2658e-02, -1.1910e-02,\n",
       "                       -3.9893e-02,  1.9474e-02,  3.4155e-03,  9.6242e-02,  7.2003e-02,\n",
       "                       -8.2821e-02, -1.0930e-02,  5.7635e-02,  5.4667e-02,  2.0490e-02,\n",
       "                       -2.1983e-02,  8.3539e-02,  7.3199e-02,  3.1670e-02, -1.8293e-02,\n",
       "                        1.1955e-02, -6.9694e-02, -6.2820e-02,  6.9260e-02,  5.3818e-02,\n",
       "                       -5.8388e-02, -2.3198e-02,  1.1294e-02, -5.9257e-02, -5.1923e-02,\n",
       "                       -7.6751e-03, -4.6169e-02,  6.8685e-02,  4.9344e-02,  5.9586e-03,\n",
       "                       -7.5657e-02,  5.6189e-02, -5.6161e-02, -2.1216e-02,  4.9893e-02,\n",
       "                        7.9091e-02,  7.8603e-03, -5.0124e-02, -5.4262e-02, -4.9788e-02,\n",
       "                       -8.0273e-02,  2.5738e-03, -8.9841e-02, -8.0832e-02,  3.5294e-02,\n",
       "                       -5.0346e-02, -7.2269e-02,  8.5901e-02, -7.3660e-02,  3.8829e-02,\n",
       "                       -1.4914e-02, -4.9692e-02, -5.5715e-02, -7.3012e-02,  4.0300e-02],\n",
       "                      [ 8.6935e-02, -1.6654e-02, -6.9742e-02, -6.1256e-02,  6.9915e-02,\n",
       "                       -1.4684e-02, -6.6255e-02, -3.3283e-02, -4.9653e-02,  5.6021e-02,\n",
       "                        6.5981e-03, -3.9182e-02, -2.7718e-03, -9.6793e-03, -4.1349e-02,\n",
       "                       -4.3931e-02, -5.6450e-02, -7.7323e-02, -8.5700e-02,  7.4295e-02,\n",
       "                       -3.8770e-02, -4.9015e-02, -8.0020e-02,  2.0894e-02, -3.6036e-02,\n",
       "                       -4.9226e-02, -4.9613e-02,  3.7392e-02, -5.8312e-02,  5.6141e-02,\n",
       "                       -8.7903e-02, -3.8731e-02,  9.8958e-02, -9.9347e-02, -9.2179e-02,\n",
       "                        5.0618e-02, -4.6011e-02,  5.2504e-02,  9.2067e-02, -8.6079e-02,\n",
       "                       -9.3604e-02, -1.0876e-03,  1.5554e-02, -8.3175e-02,  4.8847e-02,\n",
       "                        5.6820e-03,  4.9753e-02, -9.7541e-02,  1.9738e-03,  5.7718e-02,\n",
       "                       -1.5864e-02, -9.5794e-02,  4.0222e-02,  8.8931e-03,  5.8501e-02,\n",
       "                        5.8767e-02, -2.2103e-02,  1.9683e-02,  6.2504e-02, -3.4862e-02,\n",
       "                       -1.2548e-02, -3.7232e-03,  3.4043e-02,  5.2517e-02, -1.2427e-02,\n",
       "                        3.8238e-02,  9.8450e-02,  7.2937e-02,  4.0696e-02,  5.6827e-02,\n",
       "                       -2.2300e-02,  5.6903e-02,  6.4017e-02, -3.4922e-04,  8.6472e-02,\n",
       "                        6.1597e-02, -7.6547e-02,  5.2808e-02,  8.8826e-02, -5.2304e-02,\n",
       "                       -3.4048e-02, -5.1351e-02, -8.6159e-02, -5.8996e-02,  6.7543e-03,\n",
       "                        4.9657e-02, -9.3766e-02, -6.7631e-02,  4.3410e-02, -6.8240e-02,\n",
       "                       -3.7926e-02, -8.6586e-02, -1.8485e-02,  5.8331e-02,  7.7068e-02,\n",
       "                       -1.0235e-03,  7.5597e-02, -1.9191e-03,  2.6815e-03, -2.1186e-02],\n",
       "                      [ 2.7285e-02,  8.8496e-02,  6.4622e-03, -9.4941e-02, -1.6729e-02,\n",
       "                        7.8753e-02,  1.1676e-02,  5.1212e-02, -8.2191e-02, -2.0140e-02,\n",
       "                       -7.1558e-02,  1.3931e-02,  6.9626e-02, -1.3134e-02, -9.3104e-02,\n",
       "                       -5.6161e-03, -3.7564e-02, -5.8122e-03,  2.7452e-02, -2.6630e-02,\n",
       "                        6.2833e-02,  4.2344e-02, -6.2442e-02,  9.1895e-02, -3.6191e-02,\n",
       "                       -9.3400e-02,  8.3138e-02,  6.9564e-02, -6.3009e-02,  4.9584e-02,\n",
       "                       -5.9707e-02, -8.9060e-02,  4.9821e-02,  1.4860e-02,  9.3994e-02,\n",
       "                       -3.6102e-02,  7.2659e-02, -6.7773e-02, -7.7982e-02, -8.6584e-03,\n",
       "                       -1.4131e-02,  7.1781e-02, -5.1978e-02, -8.6122e-02, -4.6818e-02,\n",
       "                        4.2442e-02, -2.9288e-02,  4.4417e-02,  9.1041e-02,  5.6662e-02,\n",
       "                       -6.2022e-02,  5.3134e-02,  4.5545e-02, -9.0814e-02, -9.0644e-02,\n",
       "                        7.5547e-02,  7.2683e-02,  9.6389e-02, -9.0804e-02,  2.4456e-02,\n",
       "                       -6.4710e-02, -4.4433e-02,  8.0645e-02,  7.8242e-02, -3.2928e-04,\n",
       "                        7.3061e-02,  7.5364e-02, -3.5361e-02, -2.1936e-02,  1.9548e-02,\n",
       "                        9.6603e-02, -2.4062e-02,  2.5019e-02,  8.9848e-02, -8.7625e-02,\n",
       "                        7.5764e-02, -1.9118e-02, -4.4858e-02, -8.0111e-03,  4.3903e-02,\n",
       "                        7.2332e-02, -5.2656e-02,  1.9085e-02,  6.8238e-02,  3.6811e-02,\n",
       "                        4.8871e-02, -4.2751e-02, -7.3080e-02, -7.5337e-02,  5.0327e-02,\n",
       "                        5.0623e-03, -4.8009e-02, -8.4088e-02, -2.6807e-03, -1.5434e-02,\n",
       "                       -8.6690e-02,  7.7255e-02,  6.5945e-02, -3.1289e-02, -3.2798e-02],\n",
       "                      [-9.0041e-02, -3.0568e-02,  2.5631e-02, -4.7945e-02,  9.8842e-02,\n",
       "                       -2.4197e-02,  5.8572e-02,  4.3770e-02, -4.1909e-02, -7.8409e-02,\n",
       "                       -8.3884e-02,  5.5686e-03, -2.5012e-02,  4.3108e-02, -8.2316e-02,\n",
       "                        7.0637e-02, -5.7874e-03,  3.4142e-03, -9.9869e-02, -9.1606e-02,\n",
       "                        5.2481e-02, -9.4248e-02, -2.6602e-02, -7.3968e-03, -6.9605e-02,\n",
       "                       -3.9287e-02,  3.9247e-02, -9.4126e-02,  1.4600e-02, -9.4724e-02,\n",
       "                       -1.4509e-02,  2.5256e-02, -1.7755e-02, -9.5877e-03,  7.0541e-02,\n",
       "                       -4.5934e-02,  5.0536e-02, -7.3843e-03,  5.4692e-02,  2.6177e-02,\n",
       "                       -8.3905e-02, -1.1746e-04,  4.7293e-02, -5.8123e-02,  2.7785e-02,\n",
       "                       -9.8633e-02, -2.8086e-03,  8.6298e-02, -6.4355e-02,  6.8528e-02,\n",
       "                        9.3674e-02, -7.7712e-02,  7.6677e-02, -9.0378e-02,  8.8898e-02,\n",
       "                        2.8390e-02, -9.9799e-02, -3.8616e-02,  9.9504e-02,  1.9650e-02,\n",
       "                        3.5689e-02,  1.3723e-02, -5.3272e-03,  8.9838e-02, -2.3753e-02,\n",
       "                       -6.9857e-02, -2.0547e-02,  5.8661e-02,  7.5647e-02, -4.3826e-02,\n",
       "                       -9.6824e-02, -8.4232e-02, -7.8035e-02,  8.4634e-02,  8.2485e-02,\n",
       "                        3.8640e-02,  8.3791e-02,  9.5237e-02, -7.9798e-02,  8.1098e-02,\n",
       "                        5.7782e-02,  8.4795e-02,  2.4699e-02, -1.2630e-02, -8.0864e-02,\n",
       "                       -2.3358e-02, -7.0966e-02,  6.4738e-02, -7.5727e-02, -6.6082e-02,\n",
       "                        9.0829e-02,  5.5395e-02,  9.6762e-03,  8.3253e-03,  9.9621e-03,\n",
       "                        1.6985e-02,  7.3934e-02, -3.8199e-02,  2.5434e-02,  5.1345e-02]])),\n",
       "             ('linear_relu_stack.4.bias',\n",
       "              tensor([ 0.0054,  0.0776,  0.0202,  0.0373, -0.0732,  0.0763, -0.0505,  0.0669,\n",
       "                      -0.0423,  0.0708]))])"
      ]
     },
     "execution_count": 61,
     "metadata": {},
     "output_type": "execute_result"
    }
   ],
   "execution_count": 61
  },
  {
   "metadata": {
    "ExecuteTime": {
     "end_time": "2025-01-15T06:07:35.848159Z",
     "start_time": "2025-01-15T06:07:35.843880Z"
    }
   },
   "cell_type": "code",
   "source": [
    "loss_fct = nn.CrossEntropyLoss() # 交叉熵损失函数\n",
    "optimizer = torch.optim.SGD(model.parameters(), lr=0.001, momentum=0.9) # 优化器，学习率0.001，动量0.9"
   ],
   "id": "2aa907068e6177b3",
   "outputs": [],
   "execution_count": 62
  },
  {
   "metadata": {
    "ExecuteTime": {
     "end_time": "2025-01-15T06:17:53.794158Z",
     "start_time": "2025-01-15T06:17:53.484052Z"
    }
   },
   "cell_type": "code",
   "source": [
    "from sklearn.metrics import accuracy_score\n",
    "\n",
    "@torch.no_grad() # 装饰器，禁止反向传播，节省内存\n",
    "def evaluating(model, dataloader, loss_fct):\n",
    "    loss_list = [] # 记录损失\n",
    "    pred_list = [] # 记录预测\n",
    "    label_list = [] # 记录标签\n",
    "    for datas, labels in dataloader:#10000/32=312\n",
    "        datas = datas.to(device) # 转到GPU\n",
    "        labels = labels.to(device) # 转到GPU\n",
    "        # 前向计算\n",
    "        logits = model(datas)\n",
    "        loss = loss_fct(logits, labels)# 验证集损失,loss尺寸是一个数值\n",
    "        loss_list.append(loss.item()) # 记录损失,item是把tensor转换为数值\n",
    "        \n",
    "        preds = logits.argmax(axis=-1)# 验证集预测,argmax返回最大值索引\n",
    "        pred_list.extend(preds.cpu().numpy().tolist())#将PyTorch张量转换为NumPy数组。只有当张量在CPU上时，这个转换才是合法的\n",
    "        label_list.extend(labels.cpu().numpy().tolist())\n",
    "        \n",
    "    acc = accuracy_score(label_list, pred_list) # 计算准确率\n",
    "    return np.mean(loss_list), acc# 返回平均损失和准确率"
   ],
   "id": "42c026ecc3efe66b",
   "outputs": [],
   "execution_count": 63
  },
  {
   "metadata": {
    "ExecuteTime": {
     "end_time": "2025-01-15T06:31:22.285758Z",
     "start_time": "2025-01-15T06:25:58.671864Z"
    }
   },
   "cell_type": "code",
   "source": [
    "def training(model, train_loader, val_loader, epoch, loss_fct, optimizer, eval_step=500):\n",
    "    record_dict = {\n",
    "        \"train\": [],\n",
    "        \"val\": []\n",
    "    } # 记录训练和验证的损失和准确率\n",
    "    global_step = 0# 全局步数\n",
    "    model.train()# 训练模式\n",
    "    with tqdm(total=epoch * len(train_loader)) as pbar: # 进度条，总共训练60000/32=1875次\n",
    "        for epoch_id in range(epoch): # 训练epoch次\n",
    "            # training\n",
    "            for datas, labels in train_loader: #执行次数是60000/32=1875\n",
    "                datas = datas.to(device) #datas尺寸是[batch_size,1,28,28]\n",
    "                labels = labels.to(device) #labels尺寸是[batch_size]\n",
    "                # 梯度清空\n",
    "                optimizer.zero_grad()\n",
    "                # 模型前向计算\n",
    "                logits = model(datas)\n",
    "                # 计算损失\n",
    "                loss = loss_fct(logits, labels)\n",
    "                # 梯度回传，loss.backward()会计算梯度，loss对模型参数求导\n",
    "                loss.backward()\n",
    "                # 调整优化器，包括学习率的变动等,优化器的学习率会随着训练的进行而减小，更新w,b\n",
    "                optimizer.step() #梯度是计算并存储在模型参数的 .grad 属性中，优化器使用这些存储的梯度来更新模型参数\n",
    "                preds = logits.argmax(axis=-1) # 训练集预测\n",
    "                acc = accuracy_score(labels.cpu().numpy(), preds.cpu().numpy())   # 计算准确率，numpy可以\n",
    "                loss = loss.cpu().item() # 损失转到CPU，item()取值,一个数值\n",
    "                # record\n",
    "                record_dict[\"train\"].append({\n",
    "                    \"loss\": loss, \"acc\": acc, \"step\": global_step\n",
    "                }) # 记录训练集信息，每一步的损失，准确率，步数\n",
    "                # evaluating\n",
    "                if global_step % eval_step == 0:\n",
    "                    model.eval() # 进入评估模式\n",
    "                    val_loss, val_acc = evaluating(model, val_loader, loss_fct)\n",
    "                    record_dict[\"val\"].append({\n",
    "                        \"loss\": val_loss, \"acc\": val_acc, \"step\": global_step\n",
    "                    })\n",
    "                    model.train() # 进入训练模式\n",
    "                # udate step\n",
    "                global_step += 1 # 全局步数加1\n",
    "                pbar.update(1) # 更新进度条\n",
    "                pbar.set_postfix({\"epoch\": epoch_id}) # 设置进度条显示信息\n",
    "    return record_dict\n",
    "epoch = 20 #改为40\n",
    "model = model.to(device)# 转到GPU\n",
    "record = training(model, train_loader, val_loader, epoch, loss_fct, optimizer, eval_step=1000)# 训练模型，记录训练和验证的损失和准确率"
   ],
   "id": "2d5f2e4e5a5ab991",
   "outputs": [
    {
     "data": {
      "text/plain": [
       "  0%|          | 0/37500 [00:00<?, ?it/s]"
      ],
      "application/vnd.jupyter.widget-view+json": {
       "version_major": 2,
       "version_minor": 0,
       "model_id": "641b6795ce2f4d61ab4136eab4ad3486"
      }
     },
     "metadata": {},
     "output_type": "display_data"
    }
   ],
   "execution_count": 64
  },
  {
   "metadata": {
    "ExecuteTime": {
     "end_time": "2025-01-15T06:31:47.292734Z",
     "start_time": "2025-01-15T06:31:47.286459Z"
    }
   },
   "cell_type": "code",
   "source": "record[\"train\"][-5:] # 查看最后5个训练记录",
   "id": "431e3f2d7eb4b18a",
   "outputs": [
    {
     "data": {
      "text/plain": [
       "[{'loss': 0.26500770449638367, 'acc': 0.96875, 'step': 37495},\n",
       " {'loss': 0.268770307302475, 'acc': 0.9375, 'step': 37496},\n",
       " {'loss': 0.4576316177845001, 'acc': 0.90625, 'step': 37497},\n",
       " {'loss': 0.2810133695602417, 'acc': 0.9375, 'step': 37498},\n",
       " {'loss': 0.5410898327827454, 'acc': 0.84375, 'step': 37499}]"
      ]
     },
     "execution_count": 65,
     "metadata": {},
     "output_type": "execute_result"
    }
   ],
   "execution_count": 65
  },
  {
   "metadata": {
    "ExecuteTime": {
     "end_time": "2025-01-15T06:32:09.615116Z",
     "start_time": "2025-01-15T06:32:09.606009Z"
    }
   },
   "cell_type": "code",
   "source": "record[\"val\"][-5:] # 查看最后5个验证记录",
   "id": "cda5aed5a6fbf23b",
   "outputs": [
    {
     "data": {
      "text/plain": [
       "[{'loss': np.float64(0.3561820703597305), 'acc': 0.871, 'step': 33000},\n",
       " {'loss': np.float64(0.3600335490351287), 'acc': 0.8681, 'step': 34000},\n",
       " {'loss': np.float64(0.3631911678150439), 'acc': 0.872, 'step': 35000},\n",
       " {'loss': np.float64(0.3512550280355036), 'acc': 0.8747, 'step': 36000},\n",
       " {'loss': np.float64(0.3578207879639662), 'acc': 0.8709, 'step': 37000}]"
      ]
     },
     "execution_count": 66,
     "metadata": {},
     "output_type": "execute_result"
    }
   ],
   "execution_count": 66
  },
  {
   "metadata": {
    "ExecuteTime": {
     "end_time": "2025-01-15T06:37:25.322682Z",
     "start_time": "2025-01-15T06:37:24.997462Z"
    }
   },
   "cell_type": "code",
   "source": [
    "def plot_learning_curves(record_dict, sample_step=1000):\n",
    "    train_df = pd.DataFrame(record_dict[\"train\"]).set_index(\"step\").iloc[::sample_step]# 每1000步取一个点，画出损失和准确率曲线\n",
    "    val_df = pd.DataFrame(record_dict[\"val\"]).set_index(\"step\")# 每1000步取一个点，画出损失和准确率曲线\n",
    "    last_step = train_df.index[-1] # 最后一步的步数\n",
    "    print(train_df['acc'])# 查看训练集准确率\n",
    "    print(val_df['acc'])# 查看验证集准确率\n",
    "    fig_num = len(train_df.columns) # 画几张图,分别是损失和准确率\n",
    "    fig, axs = plt.subplots(1, fig_num, figsize=(5 * fig_num, 5))# 画几张图,分别是损失和准确率\n",
    "    for idx, item in enumerate(train_df.columns):\n",
    "        axs[idx].plot(train_df.index, train_df[item], label=f\"train_{item}\")# 画出训练集损失和准确率曲线\n",
    "        axs[idx].plot(val_df.index, val_df[item], label=f\"val_{item}\")# 画出验证集损失和准确率曲线\n",
    "        axs[idx].grid() # 显示网格\n",
    "        axs[idx].legend() # 显示图例\n",
    "        axs[idx].set_xticks(range(0, train_df.index[-1], 5000)) # 设置x轴刻度\n",
    "        axs[idx].set_xticklabels(map(lambda x: f\"{int(x/1000)}k\", range(0, last_step, 5000))) # 设置x轴标签\n",
    "        axs[idx].set_xlabel(\"step\")\n",
    "    plt.show()# 显示图片\n",
    "plot_learning_curves(record)# 画出损失和准确率曲线"
   ],
   "id": "dc5ab0f2b1ef88f9",
   "outputs": [
    {
     "name": "stdout",
     "output_type": "stream",
     "text": [
      "step\n",
      "0        0.09375\n",
      "1000     0.78125\n",
      "2000     0.75000\n",
      "3000     0.78125\n",
      "4000     0.87500\n",
      "5000     0.75000\n",
      "6000     0.81250\n",
      "7000     0.84375\n",
      "8000     0.78125\n",
      "9000     0.90625\n",
      "10000    0.90625\n",
      "11000    0.90625\n",
      "12000    0.87500\n",
      "13000    0.87500\n",
      "14000    0.96875\n",
      "15000    0.78125\n",
      "16000    0.90625\n",
      "17000    0.84375\n",
      "18000    0.90625\n",
      "19000    0.90625\n",
      "20000    0.84375\n",
      "21000    0.93750\n",
      "22000    0.78125\n",
      "23000    0.84375\n",
      "24000    1.00000\n",
      "25000    0.81250\n",
      "26000    0.93750\n",
      "27000    0.84375\n",
      "28000    0.90625\n",
      "29000    0.81250\n",
      "30000    0.78125\n",
      "31000    0.87500\n",
      "32000    0.84375\n",
      "33000    0.90625\n",
      "34000    0.84375\n",
      "35000    0.81250\n",
      "36000    0.81250\n",
      "37000    0.96875\n",
      "Name: acc, dtype: float64\n",
      "step\n",
      "0        0.1902\n",
      "1000     0.6957\n",
      "2000     0.7621\n",
      "3000     0.7939\n",
      "4000     0.8102\n",
      "5000     0.8142\n",
      "6000     0.8193\n",
      "7000     0.8097\n",
      "8000     0.8265\n",
      "9000     0.8351\n",
      "10000    0.8389\n",
      "11000    0.8356\n",
      "12000    0.8408\n",
      "13000    0.8468\n",
      "14000    0.8475\n",
      "15000    0.8481\n",
      "16000    0.8463\n",
      "17000    0.8523\n",
      "18000    0.8544\n",
      "19000    0.8527\n",
      "20000    0.8574\n",
      "21000    0.8571\n",
      "22000    0.8613\n",
      "23000    0.8567\n",
      "24000    0.8584\n",
      "25000    0.8653\n",
      "26000    0.8614\n",
      "27000    0.8641\n",
      "28000    0.8645\n",
      "29000    0.8677\n",
      "30000    0.8612\n",
      "31000    0.8688\n",
      "32000    0.8632\n",
      "33000    0.8710\n",
      "34000    0.8681\n",
      "35000    0.8720\n",
      "36000    0.8747\n",
      "37000    0.8709\n",
      "Name: acc, dtype: float64\n"
     ]
    },
    {
     "data": {
      "text/plain": [
       "<Figure size 1000x500 with 2 Axes>"
      ],
      "image/png": "[encoded data removed]"
     },
     "metadata": {},
     "output_type": "display_data"
    }
   ],
   "execution_count": 67
  },
  {
   "metadata": {
    "ExecuteTime": {
     "end_time": "2025-01-15T06:41:47.423240Z",
     "start_time": "2025-01-15T06:41:45.523160Z"
    }
   },
   "cell_type": "code",
   "source": [
    "model.eval() # 进入评估模式\n",
    "loss, acc = evaluating(model, val_loader, loss_fct)# 验证模型\n",
    "print(f\"loss:{loss:.4f}\\naccuracy: {acc:.4f}\")# 打印损失和准确率"
   ],
   "id": "bbf4841a593eb6a9",
   "outputs": [
    {
     "name": "stdout",
     "output_type": "stream",
     "text": [
      "loss:0.3594\n",
      "accuracy: 0.8708\n"
     ]
    }
   ],
   "execution_count": 68
  }
 ],
 "metadata": {
  "kernelspec": {
   "display_name": "Python 3",
   "language": "python",
   "name": "python3"
  },
  "language_info": {
   "codemirror_mode": {
    "name": "ipython",
    "version": 2
   },
   "file_extension": ".py",
   "mimetype": "text/x-python",
   "name": "python",
   "nbconvert_exporter": "python",
   "pygments_lexer": "ipython2",
   "version": "2.7.6"
  }
 },
 "nbformat": 4,
 "nbformat_minor": 5
}
