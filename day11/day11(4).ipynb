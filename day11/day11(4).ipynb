{
 "cells": [
  {
   "cell_type": "code",
   "id": "initial_id",
   "metadata": {
    "collapsed": true,
    "ExecuteTime": {
     "end_time": "2025-01-06T11:50:45.771643Z",
     "start_time": "2025-01-06T11:50:45.767331Z"
    }
   },
   "source": [
    "# 掌握numpy的数据类型，练习数组和数的运算，数组和数组的运算，理解数组的轴\n",
    "import numpy as np\n",
    "import random"
   ],
   "outputs": [],
   "execution_count": 2
  },
  {
   "metadata": {
    "ExecuteTime": {
     "end_time": "2025-01-06T11:53:25.183669Z",
     "start_time": "2025-01-06T11:53:25.178964Z"
    }
   },
   "cell_type": "code",
   "source": [
    "# 创建数组\n",
    "num = np.array([1,2,3,4,12],dtype=np.int8)#创建数组\n",
    "print(num.itemsize)\n",
    "print(num.dtype)"
   ],
   "id": "969731c66807db6b",
   "outputs": [
    {
     "name": "stdout",
     "output_type": "stream",
     "text": [
      "1\n",
      "int8\n"
     ]
    }
   ],
   "execution_count": 8
  },
  {
   "metadata": {
    "ExecuteTime": {
     "end_time": "2025-01-06T11:53:27.544431Z",
     "start_time": "2025-01-06T11:53:27.539529Z"
    }
   },
   "cell_type": "code",
   "source": "num[4]= num[4] + 1",
   "id": "c08533b87ddd3896",
   "outputs": [],
   "execution_count": 9
  },
  {
   "metadata": {
    "ExecuteTime": {
     "end_time": "2025-01-06T11:53:33.695884Z",
     "start_time": "2025-01-06T11:53:33.691349Z"
    }
   },
   "cell_type": "code",
   "source": "num[4]",
   "id": "69a9e01dc494590",
   "outputs": [
    {
     "data": {
      "text/plain": [
       "np.int8(13)"
      ]
     },
     "execution_count": 12,
     "metadata": {},
     "output_type": "execute_result"
    }
   ],
   "execution_count": 12
  },
  {
   "metadata": {
    "ExecuteTime": {
     "end_time": "2025-01-06T11:55:19.688991Z",
     "start_time": "2025-01-06T11:55:19.683905Z"
    }
   },
   "cell_type": "code",
   "source": [
    "num1 = num.astype(np.int64)#改变数据类型\n",
    "print(num1.dtype)\n",
    "print(num1.itemsize)"
   ],
   "id": "6146ffcd08a67a68",
   "outputs": [
    {
     "name": "stdout",
     "output_type": "stream",
     "text": [
      "int64\n",
      "8\n"
     ]
    }
   ],
   "execution_count": 13
  },
  {
   "metadata": {
    "ExecuteTime": {
     "end_time": "2025-01-06T11:59:05.488449Z",
     "start_time": "2025-01-06T11:59:05.482474Z"
    }
   },
   "cell_type": "code",
   "source": [
    "# 练习数组和数的运算\n",
    "num1 = np.arange(35).reshape(7,5)#创建数组\n",
    "print(num1)\n",
    "num2 = num1.tolist()\n",
    "print(num1+2)\n",
    "print(num1*2)\n",
    "print(num1/2)"
   ],
   "id": "23ebabc256745d5d",
   "outputs": [
    {
     "name": "stdout",
     "output_type": "stream",
     "text": [
      "[[ 0  1  2  3  4]\n",
      " [ 5  6  7  8  9]\n",
      " [10 11 12 13 14]\n",
      " [15 16 17 18 19]\n",
      " [20 21 22 23 24]\n",
      " [25 26 27 28 29]\n",
      " [30 31 32 33 34]]\n",
      "[[ 2  3  4  5  6]\n",
      " [ 7  8  9 10 11]\n",
      " [12 13 14 15 16]\n",
      " [17 18 19 20 21]\n",
      " [22 23 24 25 26]\n",
      " [27 28 29 30 31]\n",
      " [32 33 34 35 36]]\n",
      "[[ 0  2  4  6  8]\n",
      " [10 12 14 16 18]\n",
      " [20 22 24 26 28]\n",
      " [30 32 34 36 38]\n",
      " [40 42 44 46 48]\n",
      " [50 52 54 56 58]\n",
      " [60 62 64 66 68]]\n",
      "[[ 0.   0.5  1.   1.5  2. ]\n",
      " [ 2.5  3.   3.5  4.   4.5]\n",
      " [ 5.   5.5  6.   6.5  7. ]\n",
      " [ 7.5  8.   8.5  9.   9.5]\n",
      " [10.  10.5 11.  11.5 12. ]\n",
      " [12.5 13.  13.5 14.  14.5]\n",
      " [15.  15.5 16.  16.5 17. ]]\n"
     ]
    }
   ],
   "execution_count": 14
  },
  {
   "metadata": {
    "ExecuteTime": {
     "end_time": "2025-01-06T12:02:03.035983Z",
     "start_time": "2025-01-06T12:02:03.029636Z"
    }
   },
   "cell_type": "code",
   "source": [
    "#加减乘除\n",
    "num1 = np.arange(25).reshape(5,5)#创建数组\n",
    "num2 = np.arange(100,125).reshape(5,5)#创建数组\n",
    "print(num1)\n",
    "print(num2)\n",
    "print(num1+num2)#数组的加减乘除\n",
    "print(num1-num2)#数组的加减乘除\n",
    "print(num1*num2)#数组的加减乘除\n",
    "print(num1/num2)"
   ],
   "id": "e5c4791cd00a3c72",
   "outputs": [
    {
     "name": "stdout",
     "output_type": "stream",
     "text": [
      "[[ 0  1  2  3  4]\n",
      " [ 5  6  7  8  9]\n",
      " [10 11 12 13 14]\n",
      " [15 16 17 18 19]\n",
      " [20 21 22 23 24]]\n",
      "[[100 101 102 103 104]\n",
      " [105 106 107 108 109]\n",
      " [110 111 112 113 114]\n",
      " [115 116 117 118 119]\n",
      " [120 121 122 123 124]]\n",
      "[[100 102 104 106 108]\n",
      " [110 112 114 116 118]\n",
      " [120 122 124 126 128]\n",
      " [130 132 134 136 138]\n",
      " [140 142 144 146 148]]\n",
      "[[-100 -100 -100 -100 -100]\n",
      " [-100 -100 -100 -100 -100]\n",
      " [-100 -100 -100 -100 -100]\n",
      " [-100 -100 -100 -100 -100]\n",
      " [-100 -100 -100 -100 -100]]\n",
      "[[   0  101  204  309  416]\n",
      " [ 525  636  749  864  981]\n",
      " [1100 1221 1344 1469 1596]\n",
      " [1725 1856 1989 2124 2261]\n",
      " [2400 2541 2684 2829 2976]]\n",
      "[[0.         0.00990099 0.01960784 0.02912621 0.03846154]\n",
      " [0.04761905 0.05660377 0.06542056 0.07407407 0.08256881]\n",
      " [0.09090909 0.0990991  0.10714286 0.11504425 0.12280702]\n",
      " [0.13043478 0.13793103 0.14529915 0.15254237 0.15966387]\n",
      " [0.16666667 0.17355372 0.18032787 0.18699187 0.19354839]]\n"
     ]
    }
   ],
   "execution_count": 16
  },
  {
   "metadata": {
    "ExecuteTime": {
     "end_time": "2025-01-06T12:04:20.292263Z",
     "start_time": "2025-01-06T12:04:20.286133Z"
    }
   },
   "cell_type": "code",
   "source": [
    "num1 = np.arange(25).reshape(5,5)\n",
    "num2 = np.arange(100,125).reshape(5,5)\n",
    "print(num2.shape)\n",
    "print(num1)\n",
    "print(num2)\n",
    "num2 - num1"
   ],
   "id": "697f5fe7fff88e00",
   "outputs": [
    {
     "name": "stdout",
     "output_type": "stream",
     "text": [
      "(5, 5)\n",
      "[[ 0  1  2  3  4]\n",
      " [ 5  6  7  8  9]\n",
      " [10 11 12 13 14]\n",
      " [15 16 17 18 19]\n",
      " [20 21 22 23 24]]\n",
      "[[100 101 102 103 104]\n",
      " [105 106 107 108 109]\n",
      " [110 111 112 113 114]\n",
      " [115 116 117 118 119]\n",
      " [120 121 122 123 124]]\n"
     ]
    },
    {
     "data": {
      "text/plain": [
       "array([[100, 100, 100, 100, 100],\n",
       "       [100, 100, 100, 100, 100],\n",
       "       [100, 100, 100, 100, 100],\n",
       "       [100, 100, 100, 100, 100],\n",
       "       [100, 100, 100, 100, 100]])"
      ]
     },
     "execution_count": 18,
     "metadata": {},
     "output_type": "execute_result"
    }
   ],
   "execution_count": 18
  },
  {
   "metadata": {
    "ExecuteTime": {
     "end_time": "2025-01-06T12:04:29.177815Z",
     "start_time": "2025-01-06T12:04:29.173100Z"
    }
   },
   "cell_type": "code",
   "source": "(num2 - num1).shape",
   "id": "61222b25ca0a72c6",
   "outputs": [
    {
     "data": {
      "text/plain": [
       "(5, 5)"
      ]
     },
     "execution_count": 19,
     "metadata": {},
     "output_type": "execute_result"
    }
   ],
   "execution_count": 19
  },
  {
   "metadata": {
    "ExecuteTime": {
     "end_time": "2025-01-06T12:05:45.386544Z",
     "start_time": "2025-01-06T12:05:45.380845Z"
    }
   },
   "cell_type": "code",
   "source": [
    "num1 = np.arange(27).reshape(3,3,3)\n",
    "num2 = np.arange(100,127).reshape(3,3,3)\n",
    "num1 - num2"
   ],
   "id": "8470568560d08b01",
   "outputs": [
    {
     "data": {
      "text/plain": [
       "array([[[-100, -100, -100],\n",
       "        [-100, -100, -100],\n",
       "        [-100, -100, -100]],\n",
       "\n",
       "       [[-100, -100, -100],\n",
       "        [-100, -100, -100],\n",
       "        [-100, -100, -100]],\n",
       "\n",
       "       [[-100, -100, -100],\n",
       "        [-100, -100, -100],\n",
       "        [-100, -100, -100]]])"
      ]
     },
     "execution_count": 20,
     "metadata": {},
     "output_type": "execute_result"
    }
   ],
   "execution_count": 20
  },
  {
   "metadata": {
    "ExecuteTime": {
     "end_time": "2025-01-06T12:08:50.102843Z",
     "start_time": "2025-01-06T12:08:50.097196Z"
    }
   },
   "cell_type": "code",
   "source": [
    "# 理解数组的轴\n",
    "num = np.array([[1,2,3],[4,5,6]])\n",
    "print(num)\n",
    "print(np.sum(num,axis=0))\n",
    "print(np.sum(num,axis=1))\n",
    "print(np.sum(num))"
   ],
   "id": "e6ae9aa3b3487cd3",
   "outputs": [
    {
     "name": "stdout",
     "output_type": "stream",
     "text": [
      "[[1 2 3]\n",
      " [4 5 6]]\n",
      "[5 7 9]\n",
      "[ 6 15]\n",
      "21\n"
     ]
    }
   ],
   "execution_count": 23
  },
  {
   "metadata": {
    "ExecuteTime": {
     "end_time": "2025-01-06T12:12:29.942566Z",
     "start_time": "2025-01-06T12:12:29.937603Z"
    }
   },
   "cell_type": "code",
   "source": [
    "num1 = np.arange(27).reshape(3,3,3)\n",
    "num2 = np.sum(num1,axis=0)\n",
    "print(num2.shape)\n",
    "num3 = np.sum(num1,axis=1)\n",
    "print(num3.shape)\n",
    "num4 = np.sum(num1,axis=2)\n",
    "print(num4.shape)"
   ],
   "id": "aa68c3fe51921cca",
   "outputs": [
    {
     "name": "stdout",
     "output_type": "stream",
     "text": [
      "(3, 3)\n",
      "(3, 3)\n",
      "(3, 3)\n"
     ]
    }
   ],
   "execution_count": 25
  }
 ],
 "metadata": {
  "kernelspec": {
   "display_name": "Python 3",
   "language": "python",
   "name": "python3"
  },
  "language_info": {
   "codemirror_mode": {
    "name": "ipython",
    "version": 2
   },
   "file_extension": ".py",
   "mimetype": "text/x-python",
   "name": "python",
   "nbconvert_exporter": "python",
   "pygments_lexer": "ipython2",
   "version": "2.7.6"
  }
 },
 "nbformat": 4,
 "nbformat_minor": 5
}
