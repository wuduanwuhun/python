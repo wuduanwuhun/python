{
 "cells": [
  {
   "cell_type": "code",
   "id": "initial_id",
   "metadata": {
    "collapsed": true,
    "ExecuteTime": {
     "end_time": "2025-01-06T10:24:35.077045Z",
     "start_time": "2025-01-06T10:24:34.915278Z"
    }
   },
   "source": [
    "# 完成Numpy的数组和原生python的性能对比\n",
    "import random\n",
    "import time\n",
    "import numpy as np"
   ],
   "outputs": [],
   "execution_count": 1
  },
  {
   "metadata": {
    "ExecuteTime": {
     "end_time": "2025-01-06T10:26:34.811631Z",
     "start_time": "2025-01-06T10:26:33.321664Z"
    }
   },
   "cell_type": "code",
   "source": [
    "num0 = []\n",
    "for i in range(10000000):\n",
    "    num0.append(random.random())\n",
    "print(\"完成\")"
   ],
   "id": "61eb95c1c80d27f1",
   "outputs": [
    {
     "name": "stdout",
     "output_type": "stream",
     "text": [
      "完成\n"
     ]
    }
   ],
   "execution_count": 2
  },
  {
   "metadata": {
    "ExecuteTime": {
     "end_time": "2025-01-06T10:27:40.422874Z",
     "start_time": "2025-01-06T10:27:39.928905Z"
    }
   },
   "cell_type": "code",
   "source": [
    "num1 = np.array(num0)\n",
    "print(\"完成\")"
   ],
   "id": "d855cc309ddecf27",
   "outputs": [
    {
     "name": "stdout",
     "output_type": "stream",
     "text": [
      "完成\n"
     ]
    }
   ],
   "execution_count": 3
  },
  {
   "metadata": {
    "ExecuteTime": {
     "end_time": "2025-01-06T10:31:19.595379Z",
     "start_time": "2025-01-06T10:31:19.474534Z"
    }
   },
   "cell_type": "code",
   "source": [
    "list1 = time.time()\n",
    "sum1 = sum(num0)\n",
    "list2 = time.time()\n",
    "\n",
    "list3 = time.time()\n",
    "sum2 = np.sum(num1)\n",
    "list4 = time.time()\n",
    "print(list2 - list1, list4 - list3)"
   ],
   "id": "b51f7d7dc6fd9ede",
   "outputs": [
    {
     "name": "stdout",
     "output_type": "stream",
     "text": [
      "0.09848618507385254 0.016523361206054688\n"
     ]
    }
   ],
   "execution_count": 4
  },
  {
   "metadata": {
    "ExecuteTime": {
     "end_time": "2025-01-06T10:32:29.626226Z",
     "start_time": "2025-01-06T10:32:29.621098Z"
    }
   },
   "cell_type": "code",
   "source": [
    "list1 = np.array([1,2,3])\n",
    "print(list1)\n",
    "print(type(list1))"
   ],
   "id": "13dc66f4f8527238",
   "outputs": [
    {
     "name": "stdout",
     "output_type": "stream",
     "text": [
      "[1 2 3]\n",
      "<class 'numpy.ndarray'>\n"
     ]
    }
   ],
   "execution_count": 5
  },
  {
   "metadata": {
    "ExecuteTime": {
     "end_time": "2025-01-06T10:34:06.214414Z",
     "start_time": "2025-01-06T10:34:06.209030Z"
    }
   },
   "cell_type": "code",
   "source": [
    "print(type(range(100)))\n",
    "list2 = np.array(range(100))\n",
    "print(list2)\n",
    "print(type(list2))"
   ],
   "id": "54edc494bee281f4",
   "outputs": [
    {
     "name": "stdout",
     "output_type": "stream",
     "text": [
      "<class 'range'>\n",
      "[ 0  1  2  3  4  5  6  7  8  9 10 11 12 13 14 15 16 17 18 19 20 21 22 23\n",
      " 24 25 26 27 28 29 30 31 32 33 34 35 36 37 38 39 40 41 42 43 44 45 46 47\n",
      " 48 49 50 51 52 53 54 55 56 57 58 59 60 61 62 63 64 65 66 67 68 69 70 71\n",
      " 72 73 74 75 76 77 78 79 80 81 82 83 84 85 86 87 88 89 90 91 92 93 94 95\n",
      " 96 97 98 99]\n",
      "<class 'numpy.ndarray'>\n"
     ]
    }
   ],
   "execution_count": 6
  },
  {
   "metadata": {
    "ExecuteTime": {
     "end_time": "2025-01-06T11:15:01.438571Z",
     "start_time": "2025-01-06T11:15:01.434242Z"
    }
   },
   "cell_type": "code",
   "source": [
    "list3 = np.arange(0,100,4)\n",
    "print(list3)\n",
    "print(type(list3))"
   ],
   "id": "f043e57b861be81",
   "outputs": [
    {
     "name": "stdout",
     "output_type": "stream",
     "text": [
      "[ 0  4  8 12 16 20 24 28 32 36 40 44 48 52 56 60 64 68 72 76 80 84 88 92\n",
      " 96]\n",
      "<class 'numpy.ndarray'>\n"
     ]
    }
   ],
   "execution_count": 9
  },
  {
   "metadata": {
    "ExecuteTime": {
     "end_time": "2025-01-06T11:17:51.029827Z",
     "start_time": "2025-01-06T11:17:51.025532Z"
    }
   },
   "cell_type": "code",
   "source": [
    "list4= [[1,2,3],[4,5,6],[7,8,9]]\n",
    "twoArray = np.array(list4)\n",
    "print(type(twoArray))\n",
    "print(twoArray)\n",
    "print(list4)"
   ],
   "id": "53681adf630b30a2",
   "outputs": [
    {
     "name": "stdout",
     "output_type": "stream",
     "text": [
      "<class 'numpy.ndarray'>\n",
      "[[1 2 3]\n",
      " [4 5 6]\n",
      " [7 8 9]]\n",
      "[[1, 2, 3], [4, 5, 6], [7, 8, 9]]\n"
     ]
    }
   ],
   "execution_count": 10
  },
  {
   "metadata": {
    "ExecuteTime": {
     "end_time": "2025-01-06T11:18:36.659101Z",
     "start_time": "2025-01-06T11:18:36.652463Z"
    }
   },
   "cell_type": "code",
   "source": "twoArray.tolist()",
   "id": "48375777aaade255",
   "outputs": [
    {
     "data": {
      "text/plain": [
       "[[1, 2, 3], [4, 5, 6], [7, 8, 9]]"
      ]
     },
     "execution_count": 11,
     "metadata": {},
     "output_type": "execute_result"
    }
   ],
   "execution_count": 11
  }
 ],
 "metadata": {
  "kernelspec": {
   "display_name": "Python 3",
   "language": "python",
   "name": "python3"
  },
  "language_info": {
   "codemirror_mode": {
    "name": "ipython",
    "version": 2
   },
   "file_extension": ".py",
   "mimetype": "text/x-python",
   "name": "python",
   "nbconvert_exporter": "python",
   "pygments_lexer": "ipython2",
   "version": "2.7.6"
  }
 },
 "nbformat": 4,
 "nbformat_minor": 5
}
