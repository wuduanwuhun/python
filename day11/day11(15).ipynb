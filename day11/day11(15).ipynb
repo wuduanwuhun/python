{
 "cells": [
  {
   "cell_type": "code",
   "id": "initial_id",
   "metadata": {
    "collapsed": true,
    "ExecuteTime": {
     "end_time": "2025-01-06T12:14:25.169993Z",
     "start_time": "2025-01-06T12:14:25.027313Z"
    }
   },
   "source": [
    "# 使用数组的索引和切片，掌握数组数值修改\n",
    "import numpy as np"
   ],
   "outputs": [],
   "execution_count": 1
  },
  {
   "metadata": {
    "ExecuteTime": {
     "end_time": "2025-01-06T14:21:53.549999Z",
     "start_time": "2025-01-06T14:21:53.544626Z"
    }
   },
   "cell_type": "code",
   "source": [
    "num = np.arange(20)\n",
    "print(num[1],num)# 打印数组\n",
    "print(num[2:18:2])# 打印索引为2到18的偶数"
   ],
   "id": "524199f75bc11b7c",
   "outputs": [
    {
     "name": "stdout",
     "output_type": "stream",
     "text": [
      "1 [ 0  1  2  3  4  5  6  7  8  9 10 11 12 13 14 15 16 17 18 19]\n",
      "[ 2  4  6  8 10 12 14 16]\n"
     ]
    }
   ],
   "execution_count": 9
  },
  {
   "metadata": {
    "ExecuteTime": {
     "end_time": "2025-01-06T14:27:22.996280Z",
     "start_time": "2025-01-06T14:27:22.990209Z"
    }
   },
   "cell_type": "code",
   "source": [
    "num1 = np.arange(30).reshape(5,6)\n",
    "print(num1)# 打印数组\n",
    "print(num1[3])# 打印第三行\n",
    "print(num1[2:])# 打印第三行到最后一行\n",
    "print(num1[2:4,:])# 打印第三行到第四行的所有列\n",
    "print(num1[[1,3,4]])"
   ],
   "id": "37e7cb5f357d419f",
   "outputs": [
    {
     "name": "stdout",
     "output_type": "stream",
     "text": [
      "[[ 0  1  2  3  4  5]\n",
      " [ 6  7  8  9 10 11]\n",
      " [12 13 14 15 16 17]\n",
      " [18 19 20 21 22 23]\n",
      " [24 25 26 27 28 29]]\n",
      "[18 19 20 21 22 23]\n",
      "[[12 13 14 15 16 17]\n",
      " [18 19 20 21 22 23]\n",
      " [24 25 26 27 28 29]]\n",
      "[[12 13 14 15 16 17]\n",
      " [18 19 20 21 22 23]]\n",
      "[[ 6  7  8  9 10 11]\n",
      " [18 19 20 21 22 23]\n",
      " [24 25 26 27 28 29]]\n"
     ]
    }
   ],
   "execution_count": 11
  },
  {
   "metadata": {
    "ExecuteTime": {
     "end_time": "2025-01-06T14:31:23.003365Z",
     "start_time": "2025-01-06T14:31:22.995168Z"
    }
   },
   "cell_type": "code",
   "source": [
    "print(num1[:,1])# 所有行，第一列\n",
    "print(num1[:,1:])# 所有行，第一列到最后一列\n",
    "print(num1[:,[0,3,4]])# 所有行，第一列，第四列，第五列\n",
    "num1[1:3,1:4]"
   ],
   "id": "be49273d7521b278",
   "outputs": [
    {
     "name": "stdout",
     "output_type": "stream",
     "text": [
      "[ 1  7 13 19 25]\n",
      "[[ 1  2  3  4  5]\n",
      " [ 7  8  9 10 11]\n",
      " [13 14 15 16 17]\n",
      " [19 20 21 22 23]\n",
      " [25 26 27 28 29]]\n",
      "[[ 0  3  4]\n",
      " [ 6  9 10]\n",
      " [12 15 16]\n",
      " [18 21 22]\n",
      " [24 27 28]]\n"
     ]
    },
    {
     "data": {
      "text/plain": [
       "array([[ 7,  8,  9],\n",
       "       [13, 14, 15]])"
      ]
     },
     "execution_count": 13,
     "metadata": {},
     "output_type": "execute_result"
    }
   ],
   "execution_count": 13
  },
  {
   "metadata": {
    "ExecuteTime": {
     "end_time": "2025-01-06T14:40:01.152104Z",
     "start_time": "2025-01-06T14:40:01.145517Z"
    }
   },
   "cell_type": "code",
   "source": [
    "# 掌握数组数值修改\n",
    "num = np.arange(30).reshape(5,6)# 创建数组\n",
    "print(num)\n",
    "print(id(num))\n",
    "num[1,:] = 0# 把第二行的所有值改为0\n",
    "num[:,1] = 0# 把第一列的所有值改为0\n",
    "num[1:3,:] = 0# 把第二行到第三行的所有值改为0\n",
    "num[1:3,2:5] = 0# 把第二行到第三行的第三列到第五列的值改为0\n",
    "num[[0,1],[1,3]] = 0 # 把第一行的第二列和第四列的值改为0"
   ],
   "id": "d148ee018308f89e",
   "outputs": [
    {
     "name": "stdout",
     "output_type": "stream",
     "text": [
      "[[ 0  1  2  3  4  5]\n",
      " [ 6  7  8  9 10 11]\n",
      " [12 13 14 15 16 17]\n",
      " [18 19 20 21 22 23]\n",
      " [24 25 26 27 28 29]]\n",
      "2244044132816\n"
     ]
    }
   ],
   "execution_count": 14
  }
 ],
 "metadata": {
  "kernelspec": {
   "display_name": "Python 3",
   "language": "python",
   "name": "python3"
  },
  "language_info": {
   "codemirror_mode": {
    "name": "ipython",
    "version": 2
   },
   "file_extension": ".py",
   "mimetype": "text/x-python",
   "name": "python",
   "nbconvert_exporter": "python",
   "pygments_lexer": "ipython2",
   "version": "2.7.6"
  }
 },
 "nbformat": 4,
 "nbformat_minor": 5
}
