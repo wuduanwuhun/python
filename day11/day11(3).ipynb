{
 "cells": [
  {
   "cell_type": "code",
   "id": "initial_id",
   "metadata": {
    "collapsed": true,
    "ExecuteTime": {
     "end_time": "2025-01-06T11:27:50.178516Z",
     "start_time": "2025-01-06T11:27:50.033316Z"
    }
   },
   "source": [
    "# Numpy的ndarray的一维，二维的操作，常用属性，形状调整，与python list的互相转换\n",
    "# 一维\n",
    "import numpy as np\n",
    "list1 = [1,2,3,4,5,6,7,8,9]\n",
    "print(list1)\n",
    "print(type(list1))"
   ],
   "outputs": [
    {
     "name": "stdout",
     "output_type": "stream",
     "text": [
      "[1, 2, 3, 4, 5, 6, 7, 8, 9]\n",
      "<class 'list'>\n"
     ]
    }
   ],
   "execution_count": 1
  },
  {
   "metadata": {
    "ExecuteTime": {
     "end_time": "2025-01-06T11:29:22.362671Z",
     "start_time": "2025-01-06T11:29:22.357828Z"
    }
   },
   "cell_type": "code",
   "source": [
    "# 二维\n",
    "arr = np.array([[1, 2, 3], [4, 5, 6]])\n",
    "print(arr)\n",
    "print(type(arr))"
   ],
   "id": "a7cefdd1b8dcbacf",
   "outputs": [
    {
     "name": "stdout",
     "output_type": "stream",
     "text": [
      "[[1 2 3]\n",
      " [4 5 6]]\n",
      "<class 'numpy.ndarray'>\n"
     ]
    }
   ],
   "execution_count": 2
  },
  {
   "metadata": {
    "ExecuteTime": {
     "end_time": "2025-01-06T11:31:57.326807Z",
     "start_time": "2025-01-06T11:31:57.320851Z"
    }
   },
   "cell_type": "code",
   "source": [
    "# 常用属性\n",
    "list2 = [[1,2,3],[4,5,6],[7,8,9]]\n",
    "twoArray = np.array(list2)\n",
    "print(twoArray.ndim)\n",
    "print(twoArray.shape)\n",
    "print(twoArray.size)\n",
    "print(twoArray.dtype)"
   ],
   "id": "b474f3306d047c06",
   "outputs": [
    {
     "name": "stdout",
     "output_type": "stream",
     "text": [
      "2\n",
      "(3, 3)\n",
      "9\n",
      "int64\n"
     ]
    }
   ],
   "execution_count": 3
  },
  {
   "metadata": {
    "ExecuteTime": {
     "end_time": "2025-01-06T11:35:29.221282Z",
     "start_time": "2025-01-06T11:35:29.215450Z"
    }
   },
   "cell_type": "code",
   "source": [
    "# 形状调整\n",
    "num1 = np.array([[1,2,3],[4,5,6],[7,8,9],[10,11,12]])\n",
    "print(num1)\n",
    "num2 = num1\n",
    "print(id(num1))"
   ],
   "id": "5c0126c40a874a4a",
   "outputs": [
    {
     "name": "stdout",
     "output_type": "stream",
     "text": [
      "[[ 1  2  3]\n",
      " [ 4  5  6]\n",
      " [ 7  8  9]\n",
      " [10 11 12]]\n",
      "2374977653232\n"
     ]
    }
   ],
   "execution_count": 6
  },
  {
   "metadata": {
    "ExecuteTime": {
     "end_time": "2025-01-06T11:37:07.313484Z",
     "start_time": "2025-01-06T11:37:07.309085Z"
    }
   },
   "cell_type": "code",
   "source": [
    "num1.shape = (3,4)\n",
    "print(id(num1))\n",
    "print(id(num2))\n",
    "print(num1)"
   ],
   "id": "25fdcfc27ec2fe61",
   "outputs": [
    {
     "name": "stdout",
     "output_type": "stream",
     "text": [
      "2374977653232\n",
      "2374977653232\n",
      "[[ 1  2  3  4]\n",
      " [ 5  6  7  8]\n",
      " [ 9 10 11 12]]\n"
     ]
    }
   ],
   "execution_count": 7
  },
  {
   "metadata": {
    "ExecuteTime": {
     "end_time": "2025-01-06T11:39:49.333044Z",
     "start_time": "2025-01-06T11:39:49.322124Z"
    }
   },
   "cell_type": "code",
   "source": [
    "num2 = num1.reshape((3,4))\n",
    "print(num2)\n",
    "print(id(num1))\n",
    "print(id(num2))\n",
    "num2"
   ],
   "id": "1d5b0c63b75f393f",
   "outputs": [
    {
     "name": "stdout",
     "output_type": "stream",
     "text": [
      "[[ 1  2  3  4]\n",
      " [ 5  6  7  8]\n",
      " [ 9 10 11 12]]\n",
      "2374977653232\n",
      "2374978466320\n"
     ]
    },
    {
     "data": {
      "text/plain": [
       "array([[ 1,  2,  3,  4],\n",
       "       [ 5,  6,  7,  8],\n",
       "       [ 9, 10, 11, 12]])"
      ]
     },
     "execution_count": 8,
     "metadata": {},
     "output_type": "execute_result"
    }
   ],
   "execution_count": 8
  },
  {
   "metadata": {
    "ExecuteTime": {
     "end_time": "2025-01-06T11:42:55.909381Z",
     "start_time": "2025-01-06T11:42:55.904624Z"
    }
   },
   "cell_type": "code",
   "source": [
    "# 形状调整\n",
    "num3 = num1.reshape((12,),order='C')\n",
    "num4 = num1.flatten()\n",
    "print(num3)\n",
    "print(num4)"
   ],
   "id": "ed213bef0502a826",
   "outputs": [
    {
     "name": "stdout",
     "output_type": "stream",
     "text": [
      "[ 1  2  3  4  5  6  7  8  9 10 11 12]\n",
      "[ 1  2  3  4  5  6  7  8  9 10 11 12]\n"
     ]
    }
   ],
   "execution_count": 10
  },
  {
   "metadata": {
    "ExecuteTime": {
     "end_time": "2025-01-06T11:44:51.721781Z",
     "start_time": "2025-01-06T11:44:51.715296Z"
    }
   },
   "cell_type": "code",
   "source": [
    "num5 = num3.reshape(4,3)\n",
    "num5"
   ],
   "id": "147b7ba7aa0532da",
   "outputs": [
    {
     "data": {
      "text/plain": [
       "array([[ 1,  2,  3],\n",
       "       [ 4,  5,  6],\n",
       "       [ 7,  8,  9],\n",
       "       [10, 11, 12]])"
      ]
     },
     "execution_count": 14,
     "metadata": {},
     "output_type": "execute_result"
    }
   ],
   "execution_count": 14
  },
  {
   "metadata": {
    "ExecuteTime": {
     "end_time": "2025-01-06T11:48:10.795735Z",
     "start_time": "2025-01-06T11:48:10.789880Z"
    }
   },
   "cell_type": "code",
   "source": [
    "# 与python list的互相转换\n",
    "# list转array\n",
    "num = np.array([1,2,3,4,5,6,7,8,9])\n",
    "print(type(num))\n",
    "list_num = num.tolist()\n",
    "print(list_num)\n",
    "print(type(list_num))"
   ],
   "id": "29ed06ba9555037",
   "outputs": [
    {
     "name": "stdout",
     "output_type": "stream",
     "text": [
      "<class 'numpy.ndarray'>\n",
      "[1, 2, 3, 4, 5, 6, 7, 8, 9]\n",
      "<class 'list'>\n"
     ]
    }
   ],
   "execution_count": 15
  }
 ],
 "metadata": {
  "kernelspec": {
   "display_name": "Python 3",
   "language": "python",
   "name": "python3"
  },
  "language_info": {
   "codemirror_mode": {
    "name": "ipython",
    "version": 2
   },
   "file_extension": ".py",
   "mimetype": "text/x-python",
   "name": "python",
   "nbconvert_exporter": "python",
   "pygments_lexer": "ipython2",
   "version": "2.7.6"
  }
 },
 "nbformat": 4,
 "nbformat_minor": 5
}
